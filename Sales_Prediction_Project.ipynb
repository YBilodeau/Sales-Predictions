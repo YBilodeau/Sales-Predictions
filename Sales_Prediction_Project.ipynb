{
  "nbformat": 4,
  "nbformat_minor": 0,
  "metadata": {
    "colab": {
      "name": "Sales Prediction Project.ipynb",
      "provenance": [],
      "collapsed_sections": [
        "Z9vyP80nOg9d",
        "MytoZVznPWPd",
        "YHb4d4c9nPyz",
        "A4k4caWlc5_3",
        "NqfnRAP-jWdZ"
      ],
      "toc_visible": true,
      "mount_file_id": "1P1dxihKVKYh-gqTkWWMTzuuRZGY8ASgq",
      "authorship_tag": "ABX9TyOyoD3t2t9PIsCChiBFRzMs",
      "include_colab_link": true
    },
    "kernelspec": {
      "name": "python3",
      "display_name": "Python 3"
    },
    "language_info": {
      "name": "python"
    }
  },
  "cells": [
    {
      "cell_type": "markdown",
      "metadata": {
        "id": "view-in-github",
        "colab_type": "text"
      },
      "source": [
        "<a href=\"https://colab.research.google.com/github/YBilodeau/Sales-Predictions/blob/main/Sales_Prediction_Project.ipynb\" target=\"_parent\"><img src=\"https://colab.research.google.com/assets/colab-badge.svg\" alt=\"Open In Colab\"/></a>"
      ]
    },
    {
      "cell_type": "markdown",
      "source": [
        "# **Sales Prediction Project**\n",
        "- Yvon Bilodeau\n",
        "- February 2022"
      ],
      "metadata": {
        "id": "T2ixedKOFXbS"
      }
    },
    {
      "cell_type": "markdown",
      "source": [
        "The project is a sales prediction for food items sold at various stores. The goal of this project is to help the retailer better understand the properties of products and outlets that play crucial roles in increasing sales."
      ],
      "metadata": {
        "id": "J-ZO5jqvFiDs"
      }
    },
    {
      "cell_type": "markdown",
      "source": [
        "**Data Dictionary for this dataset**\n",
        "\n",
        "\n",
        "|**Variable Name**|\t**Description**|\n",
        "| ----- | ----- |\n",
        "|Item_Identifier|\tUnique product ID|\n",
        "|Item_Weight|\tWeight of product|\n",
        "|Item_Fat_Content|\tWhether the product is low fat or regular|\n",
        "|Item_Visibility|\tThe percentage of total display area of all products in a store allocated to the particular product|\n",
        "|Item_Type|\tThe category to which the product belongs|\n",
        "|Item_MRP|\tMaximum Retail Price (list price) of the product|\n",
        "|Outlet_Identifier|\tUnique store ID|\n",
        "|Outlet_Establishment_Year|\tThe year in which store was established|\n",
        "|Outlet_Size|\tThe size of the store in terms of ground area covered|\n",
        "|Outlet_Location_Type|\tThe type of area in which the store is located|\n",
        "|Outlet_Type|\tWhether the outlet is a grocery store or some sort of supermarket|\n",
        "|Item_Outlet_Sales|\tSales of the product in the particular store. This is the target variable to be predicted.|"
      ],
      "metadata": {
        "id": "phtxGrI4LxQO"
      }
    },
    {
      "cell_type": "markdown",
      "source": [
        "## **Mount Data | Import Libraries | Load the Dataset**"
      ],
      "metadata": {
        "id": "Z9vyP80nOg9d"
      }
    },
    {
      "cell_type": "markdown",
      "source": [
        "### **Mount Google Drive**"
      ],
      "metadata": {
        "id": "_vosjteQOBXq"
      }
    },
    {
      "cell_type": "code",
      "source": [
        "from google.colab import drive\n",
        "drive.mount('/content/drive')"
      ],
      "metadata": {
        "colab": {
          "base_uri": "https://localhost:8080/"
        },
        "id": "ivzJlqGtOTkR",
        "outputId": "70ce1c1a-26dd-481a-8650-f178f39c891e"
      },
      "execution_count": 1,
      "outputs": [
        {
          "output_type": "stream",
          "name": "stdout",
          "text": [
            "Drive already mounted at /content/drive; to attempt to forcibly remount, call drive.mount(\"/content/drive\", force_remount=True).\n"
          ]
        }
      ]
    },
    {
      "cell_type": "markdown",
      "source": [
        "### **Import Libraries**"
      ],
      "metadata": {
        "id": "qbj062e9Ou6-"
      }
    },
    {
      "cell_type": "code",
      "execution_count": 2,
      "metadata": {
        "id": "aUYz6fIbFWBJ"
      },
      "outputs": [],
      "source": [
        "import numpy as np\n",
        "import pandas as pd\n",
        "import matplotlib.pyplot as plt\n",
        "import seaborn as sns\n",
        "\n",
        "from sklearn.preprocessing import StandardScaler, OneHotEncoder\n",
        "from sklearn.impute import SimpleImputer\n",
        "from sklearn.compose import make_column_transformer, make_column_selector\n",
        "from sklearn.pipeline import make_pipeline\n",
        "from sklearn.model_selection import train_test_split\n",
        "from sklearn import set_config\n",
        "set_config(display='diagram')"
      ]
    },
    {
      "cell_type": "markdown",
      "source": [
        "### **Load the Dataset**\n",
        "\n",
        "- Data downloaded from [link](https://drive.google.com/file/d/1syH81TVrbBsdymLT_jl2JIf6IjPXtSQw/view). This was the [Original data source](https://datahack.analyticsvidhya.com/contest/practice-problem-big-mart-sales-iii/)."
      ],
      "metadata": {
        "id": "JOUAIYIJO29y"
      }
    },
    {
      "cell_type": "code",
      "source": [
        "filename = \"/content/drive/MyDrive/Colab Notebooks/CodingDojo/000 Data Files/sales_predictions.csv\"\n",
        "df = pd.read_csv(filename)"
      ],
      "metadata": {
        "id": "TrjtMPiZPPWL"
      },
      "execution_count": 3,
      "outputs": []
    },
    {
      "cell_type": "markdown",
      "source": [
        "## **Inspect the Data**"
      ],
      "metadata": {
        "id": "MytoZVznPWPd"
      }
    },
    {
      "cell_type": "markdown",
      "source": [
        "### Display Rows and Column Count"
      ],
      "metadata": {
        "id": "JVXIY3Sj_QN8"
      }
    },
    {
      "cell_type": "code",
      "source": [
        "df.shape"
      ],
      "metadata": {
        "colab": {
          "base_uri": "https://localhost:8080/"
        },
        "id": "fkts3k-KPm5a",
        "outputId": "f0b70c8f-41f4-430c-8b80-654b7ce6fd14"
      },
      "execution_count": 4,
      "outputs": [
        {
          "output_type": "execute_result",
          "data": {
            "text/plain": [
              "(8523, 12)"
            ]
          },
          "metadata": {},
          "execution_count": 4
        }
      ]
    },
    {
      "cell_type": "markdown",
      "source": [
        "### Display Data Types"
      ],
      "metadata": {
        "id": "Npez_DLB_cH7"
      }
    },
    {
      "cell_type": "code",
      "source": [
        "df.dtypes"
      ],
      "metadata": {
        "colab": {
          "base_uri": "https://localhost:8080/"
        },
        "id": "DaLyMnan_LyF",
        "outputId": "9924ea99-b63b-427a-b001-afa4db963576"
      },
      "execution_count": 5,
      "outputs": [
        {
          "output_type": "execute_result",
          "data": {
            "text/plain": [
              "Item_Identifier               object\n",
              "Item_Weight                  float64\n",
              "Item_Fat_Content              object\n",
              "Item_Visibility              float64\n",
              "Item_Type                     object\n",
              "Item_MRP                     float64\n",
              "Outlet_Identifier             object\n",
              "Outlet_Establishment_Year      int64\n",
              "Outlet_Size                   object\n",
              "Outlet_Location_Type          object\n",
              "Outlet_Type                   object\n",
              "Item_Outlet_Sales            float64\n",
              "dtype: object"
            ]
          },
          "metadata": {},
          "execution_count": 5
        }
      ]
    },
    {
      "cell_type": "markdown",
      "source": [
        "### Display Column Name, Count of Non-Null Values, and Datatypes"
      ],
      "metadata": {
        "id": "-ddijDWr_uq-"
      }
    },
    {
      "cell_type": "code",
      "source": [
        "df.info()"
      ],
      "metadata": {
        "colab": {
          "base_uri": "https://localhost:8080/"
        },
        "id": "Fj8u4kjlGL8Z",
        "outputId": "c5ebd2f7-a892-425d-f4b1-b8f522735c02"
      },
      "execution_count": 6,
      "outputs": [
        {
          "output_type": "stream",
          "name": "stdout",
          "text": [
            "<class 'pandas.core.frame.DataFrame'>\n",
            "RangeIndex: 8523 entries, 0 to 8522\n",
            "Data columns (total 12 columns):\n",
            " #   Column                     Non-Null Count  Dtype  \n",
            "---  ------                     --------------  -----  \n",
            " 0   Item_Identifier            8523 non-null   object \n",
            " 1   Item_Weight                7060 non-null   float64\n",
            " 2   Item_Fat_Content           8523 non-null   object \n",
            " 3   Item_Visibility            8523 non-null   float64\n",
            " 4   Item_Type                  8523 non-null   object \n",
            " 5   Item_MRP                   8523 non-null   float64\n",
            " 6   Outlet_Identifier          8523 non-null   object \n",
            " 7   Outlet_Establishment_Year  8523 non-null   int64  \n",
            " 8   Outlet_Size                6113 non-null   object \n",
            " 9   Outlet_Location_Type       8523 non-null   object \n",
            " 10  Outlet_Type                8523 non-null   object \n",
            " 11  Item_Outlet_Sales          8523 non-null   float64\n",
            "dtypes: float64(4), int64(1), object(7)\n",
            "memory usage: 799.2+ KB\n"
          ]
        }
      ]
    },
    {
      "cell_type": "markdown",
      "source": [
        "### View First (5) Rows"
      ],
      "metadata": {
        "id": "s3T6QYAOzGHl"
      }
    },
    {
      "cell_type": "code",
      "source": [
        "df.head()"
      ],
      "metadata": {
        "colab": {
          "base_uri": "https://localhost:8080/",
          "height": 357
        },
        "id": "o2OINffGGKRh",
        "outputId": "3a656a30-7c03-412d-9d52-76c147be1e64"
      },
      "execution_count": 7,
      "outputs": [
        {
          "output_type": "execute_result",
          "data": {
            "text/html": [
              "\n",
              "  <div id=\"df-2aba48d9-cbea-4ec1-aac3-eda334d9baea\">\n",
              "    <div class=\"colab-df-container\">\n",
              "      <div>\n",
              "<style scoped>\n",
              "    .dataframe tbody tr th:only-of-type {\n",
              "        vertical-align: middle;\n",
              "    }\n",
              "\n",
              "    .dataframe tbody tr th {\n",
              "        vertical-align: top;\n",
              "    }\n",
              "\n",
              "    .dataframe thead th {\n",
              "        text-align: right;\n",
              "    }\n",
              "</style>\n",
              "<table border=\"1\" class=\"dataframe\">\n",
              "  <thead>\n",
              "    <tr style=\"text-align: right;\">\n",
              "      <th></th>\n",
              "      <th>Item_Identifier</th>\n",
              "      <th>Item_Weight</th>\n",
              "      <th>Item_Fat_Content</th>\n",
              "      <th>Item_Visibility</th>\n",
              "      <th>Item_Type</th>\n",
              "      <th>Item_MRP</th>\n",
              "      <th>Outlet_Identifier</th>\n",
              "      <th>Outlet_Establishment_Year</th>\n",
              "      <th>Outlet_Size</th>\n",
              "      <th>Outlet_Location_Type</th>\n",
              "      <th>Outlet_Type</th>\n",
              "      <th>Item_Outlet_Sales</th>\n",
              "    </tr>\n",
              "  </thead>\n",
              "  <tbody>\n",
              "    <tr>\n",
              "      <th>0</th>\n",
              "      <td>FDA15</td>\n",
              "      <td>9.30</td>\n",
              "      <td>Low Fat</td>\n",
              "      <td>0.016047</td>\n",
              "      <td>Dairy</td>\n",
              "      <td>249.8092</td>\n",
              "      <td>OUT049</td>\n",
              "      <td>1999</td>\n",
              "      <td>Medium</td>\n",
              "      <td>Tier 1</td>\n",
              "      <td>Supermarket Type1</td>\n",
              "      <td>3735.1380</td>\n",
              "    </tr>\n",
              "    <tr>\n",
              "      <th>1</th>\n",
              "      <td>DRC01</td>\n",
              "      <td>5.92</td>\n",
              "      <td>Regular</td>\n",
              "      <td>0.019278</td>\n",
              "      <td>Soft Drinks</td>\n",
              "      <td>48.2692</td>\n",
              "      <td>OUT018</td>\n",
              "      <td>2009</td>\n",
              "      <td>Medium</td>\n",
              "      <td>Tier 3</td>\n",
              "      <td>Supermarket Type2</td>\n",
              "      <td>443.4228</td>\n",
              "    </tr>\n",
              "    <tr>\n",
              "      <th>2</th>\n",
              "      <td>FDN15</td>\n",
              "      <td>17.50</td>\n",
              "      <td>Low Fat</td>\n",
              "      <td>0.016760</td>\n",
              "      <td>Meat</td>\n",
              "      <td>141.6180</td>\n",
              "      <td>OUT049</td>\n",
              "      <td>1999</td>\n",
              "      <td>Medium</td>\n",
              "      <td>Tier 1</td>\n",
              "      <td>Supermarket Type1</td>\n",
              "      <td>2097.2700</td>\n",
              "    </tr>\n",
              "    <tr>\n",
              "      <th>3</th>\n",
              "      <td>FDX07</td>\n",
              "      <td>19.20</td>\n",
              "      <td>Regular</td>\n",
              "      <td>0.000000</td>\n",
              "      <td>Fruits and Vegetables</td>\n",
              "      <td>182.0950</td>\n",
              "      <td>OUT010</td>\n",
              "      <td>1998</td>\n",
              "      <td>NaN</td>\n",
              "      <td>Tier 3</td>\n",
              "      <td>Grocery Store</td>\n",
              "      <td>732.3800</td>\n",
              "    </tr>\n",
              "    <tr>\n",
              "      <th>4</th>\n",
              "      <td>NCD19</td>\n",
              "      <td>8.93</td>\n",
              "      <td>Low Fat</td>\n",
              "      <td>0.000000</td>\n",
              "      <td>Household</td>\n",
              "      <td>53.8614</td>\n",
              "      <td>OUT013</td>\n",
              "      <td>1987</td>\n",
              "      <td>High</td>\n",
              "      <td>Tier 3</td>\n",
              "      <td>Supermarket Type1</td>\n",
              "      <td>994.7052</td>\n",
              "    </tr>\n",
              "  </tbody>\n",
              "</table>\n",
              "</div>\n",
              "      <button class=\"colab-df-convert\" onclick=\"convertToInteractive('df-2aba48d9-cbea-4ec1-aac3-eda334d9baea')\"\n",
              "              title=\"Convert this dataframe to an interactive table.\"\n",
              "              style=\"display:none;\">\n",
              "        \n",
              "  <svg xmlns=\"http://www.w3.org/2000/svg\" height=\"24px\"viewBox=\"0 0 24 24\"\n",
              "       width=\"24px\">\n",
              "    <path d=\"M0 0h24v24H0V0z\" fill=\"none\"/>\n",
              "    <path d=\"M18.56 5.44l.94 2.06.94-2.06 2.06-.94-2.06-.94-.94-2.06-.94 2.06-2.06.94zm-11 1L8.5 8.5l.94-2.06 2.06-.94-2.06-.94L8.5 2.5l-.94 2.06-2.06.94zm10 10l.94 2.06.94-2.06 2.06-.94-2.06-.94-.94-2.06-.94 2.06-2.06.94z\"/><path d=\"M17.41 7.96l-1.37-1.37c-.4-.4-.92-.59-1.43-.59-.52 0-1.04.2-1.43.59L10.3 9.45l-7.72 7.72c-.78.78-.78 2.05 0 2.83L4 21.41c.39.39.9.59 1.41.59.51 0 1.02-.2 1.41-.59l7.78-7.78 2.81-2.81c.8-.78.8-2.07 0-2.86zM5.41 20L4 18.59l7.72-7.72 1.47 1.35L5.41 20z\"/>\n",
              "  </svg>\n",
              "      </button>\n",
              "      \n",
              "  <style>\n",
              "    .colab-df-container {\n",
              "      display:flex;\n",
              "      flex-wrap:wrap;\n",
              "      gap: 12px;\n",
              "    }\n",
              "\n",
              "    .colab-df-convert {\n",
              "      background-color: #E8F0FE;\n",
              "      border: none;\n",
              "      border-radius: 50%;\n",
              "      cursor: pointer;\n",
              "      display: none;\n",
              "      fill: #1967D2;\n",
              "      height: 32px;\n",
              "      padding: 0 0 0 0;\n",
              "      width: 32px;\n",
              "    }\n",
              "\n",
              "    .colab-df-convert:hover {\n",
              "      background-color: #E2EBFA;\n",
              "      box-shadow: 0px 1px 2px rgba(60, 64, 67, 0.3), 0px 1px 3px 1px rgba(60, 64, 67, 0.15);\n",
              "      fill: #174EA6;\n",
              "    }\n",
              "\n",
              "    [theme=dark] .colab-df-convert {\n",
              "      background-color: #3B4455;\n",
              "      fill: #D2E3FC;\n",
              "    }\n",
              "\n",
              "    [theme=dark] .colab-df-convert:hover {\n",
              "      background-color: #434B5C;\n",
              "      box-shadow: 0px 1px 3px 1px rgba(0, 0, 0, 0.15);\n",
              "      filter: drop-shadow(0px 1px 2px rgba(0, 0, 0, 0.3));\n",
              "      fill: #FFFFFF;\n",
              "    }\n",
              "  </style>\n",
              "\n",
              "      <script>\n",
              "        const buttonEl =\n",
              "          document.querySelector('#df-2aba48d9-cbea-4ec1-aac3-eda334d9baea button.colab-df-convert');\n",
              "        buttonEl.style.display =\n",
              "          google.colab.kernel.accessAllowed ? 'block' : 'none';\n",
              "\n",
              "        async function convertToInteractive(key) {\n",
              "          const element = document.querySelector('#df-2aba48d9-cbea-4ec1-aac3-eda334d9baea');\n",
              "          const dataTable =\n",
              "            await google.colab.kernel.invokeFunction('convertToInteractive',\n",
              "                                                     [key], {});\n",
              "          if (!dataTable) return;\n",
              "\n",
              "          const docLinkHtml = 'Like what you see? Visit the ' +\n",
              "            '<a target=\"_blank\" href=https://colab.research.google.com/notebooks/data_table.ipynb>data table notebook</a>'\n",
              "            + ' to learn more about interactive tables.';\n",
              "          element.innerHTML = '';\n",
              "          dataTable['output_type'] = 'display_data';\n",
              "          await google.colab.output.renderOutput(dataTable, element);\n",
              "          const docLink = document.createElement('div');\n",
              "          docLink.innerHTML = docLinkHtml;\n",
              "          element.appendChild(docLink);\n",
              "        }\n",
              "      </script>\n",
              "    </div>\n",
              "  </div>\n",
              "  "
            ],
            "text/plain": [
              "  Item_Identifier  Item_Weight  ...        Outlet_Type  Item_Outlet_Sales\n",
              "0           FDA15         9.30  ...  Supermarket Type1          3735.1380\n",
              "1           DRC01         5.92  ...  Supermarket Type2           443.4228\n",
              "2           FDN15        17.50  ...  Supermarket Type1          2097.2700\n",
              "3           FDX07        19.20  ...      Grocery Store           732.3800\n",
              "4           NCD19         8.93  ...  Supermarket Type1           994.7052\n",
              "\n",
              "[5 rows x 12 columns]"
            ]
          },
          "metadata": {},
          "execution_count": 7
        }
      ]
    },
    {
      "cell_type": "markdown",
      "source": [
        "- Data appears to have loaded correctly."
      ],
      "metadata": {
        "id": "PR7F91WVziI0"
      }
    },
    {
      "cell_type": "markdown",
      "source": [
        "## **Clean the Data**"
      ],
      "metadata": {
        "id": "YHb4d4c9nPyz"
      }
    },
    {
      "cell_type": "markdown",
      "source": [
        "### **Remove Duplicates**"
      ],
      "metadata": {
        "id": "vv_rktD5nYuP"
      }
    },
    {
      "cell_type": "code",
      "source": [
        "df.duplicated().sum()"
      ],
      "metadata": {
        "id": "1LE-ina0VEsw",
        "colab": {
          "base_uri": "https://localhost:8080/"
        },
        "outputId": "1115e954-2240-44ef-b378-e6bbaa630a3c"
      },
      "execution_count": 8,
      "outputs": [
        {
          "output_type": "execute_result",
          "data": {
            "text/plain": [
              "0"
            ]
          },
          "metadata": {},
          "execution_count": 8
        }
      ]
    },
    {
      "cell_type": "code",
      "source": [
        "df.drop_duplicates(keep='first', inplace=True)\n",
        "df.shape"
      ],
      "metadata": {
        "colab": {
          "base_uri": "https://localhost:8080/"
        },
        "id": "lgJgBl62OLL-",
        "outputId": "2ad445be-b9aa-4d03-ff89-e42bffa4538e"
      },
      "execution_count": 9,
      "outputs": [
        {
          "output_type": "execute_result",
          "data": {
            "text/plain": [
              "(8523, 12)"
            ]
          },
          "metadata": {},
          "execution_count": 9
        }
      ]
    },
    {
      "cell_type": "code",
      "source": [
        "df.duplicated().sum()"
      ],
      "metadata": {
        "colab": {
          "base_uri": "https://localhost:8080/"
        },
        "id": "DTlUqTg_X8AY",
        "outputId": "f3047f3f-56ea-4cd9-ecbd-02912ef0dc1e"
      },
      "execution_count": 10,
      "outputs": [
        {
          "output_type": "execute_result",
          "data": {
            "text/plain": [
              "0"
            ]
          },
          "metadata": {},
          "execution_count": 10
        }
      ]
    },
    {
      "cell_type": "markdown",
      "source": [
        "- No duplicates were dropped."
      ],
      "metadata": {
        "id": "3Obw09ip0C_q"
      }
    },
    {
      "cell_type": "markdown",
      "source": [
        "### **Missing Values**"
      ],
      "metadata": {
        "id": "d-728pLSPPRf"
      }
    },
    {
      "cell_type": "code",
      "source": [
        "print(df.isna().sum())"
      ],
      "metadata": {
        "colab": {
          "base_uri": "https://localhost:8080/"
        },
        "id": "KaEA3qPZVdMw",
        "outputId": "470c1d47-0878-4aa6-81d7-4ad097105ee1"
      },
      "execution_count": 11,
      "outputs": [
        {
          "output_type": "stream",
          "name": "stdout",
          "text": [
            "Item_Identifier                 0\n",
            "Item_Weight                  1463\n",
            "Item_Fat_Content                0\n",
            "Item_Visibility                 0\n",
            "Item_Type                       0\n",
            "Item_MRP                        0\n",
            "Outlet_Identifier               0\n",
            "Outlet_Establishment_Year       0\n",
            "Outlet_Size                  2410\n",
            "Outlet_Location_Type            0\n",
            "Outlet_Type                     0\n",
            "Item_Outlet_Sales               0\n",
            "dtype: int64\n"
          ]
        }
      ]
    },
    {
      "cell_type": "markdown",
      "source": [
        "- 'Item_Weight' and 'Outlet Size' column/indexes have missing values."
      ],
      "metadata": {
        "id": "9WqZt5ZVPcn7"
      }
    },
    {
      "cell_type": "markdown",
      "source": [
        "#### 'Item Weight' column\n"
      ],
      "metadata": {
        "id": "SmTEIXGjaLLq"
      }
    },
    {
      "cell_type": "markdown",
      "source": [
        "- 'Item_Weight' has 1643 missing values. \n",
        "- All identical 'Item_Identifier's should have the same 'Item_Weight'."
      ],
      "metadata": {
        "id": "3G3S2Wt-jJT9"
      }
    },
    {
      "cell_type": "code",
      "source": [
        "# Loop through index values of the dataframe\n",
        "for ind in df.index:\n",
        "    # Create a filter to select the Item_Identifier corresponding to the index\n",
        "    item_filter = df['Item_Identifier'] == df.loc[ind,'Item_Identifier']\n",
        "\n",
        "    # Calculate the rounded value of the mean 'Item_Weight' of this rows 'Item_Identifier' \n",
        "    mean_item_weight = round(df.loc[item_filter,'Item_Weight'].mean(), 3)\n",
        "\n",
        "    # Assign mean_item_weight to the 'Item_Weight' column of this row\n",
        "    df.loc[ind,'Item_Weight'] = mean_item_weight\n",
        "    \n",
        "    #print(ind, df['Item_Identifier'][ind], df['Item_Weight'][ind], item_weight, \"\\n\")"
      ],
      "metadata": {
        "id": "lAX0YR6Pcdcm"
      },
      "execution_count": 12,
      "outputs": []
    },
    {
      "cell_type": "code",
      "source": [
        "# Identify any remaining 'Item_Identifier's without 'Item_Weight'\n",
        "print(df.Item_Weight.isnull().sum())\n",
        "df[df.Item_Weight.isnull()]"
      ],
      "metadata": {
        "colab": {
          "base_uri": "https://localhost:8080/",
          "height": 326
        },
        "id": "AuJlgC44w2WH",
        "outputId": "7de30746-3e0f-49b8-cfb4-763b86952633"
      },
      "execution_count": 13,
      "outputs": [
        {
          "output_type": "stream",
          "name": "stdout",
          "text": [
            "4\n"
          ]
        },
        {
          "output_type": "execute_result",
          "data": {
            "text/html": [
              "\n",
              "  <div id=\"df-7beb81e0-c4d4-4578-b052-41acd9c2144f\">\n",
              "    <div class=\"colab-df-container\">\n",
              "      <div>\n",
              "<style scoped>\n",
              "    .dataframe tbody tr th:only-of-type {\n",
              "        vertical-align: middle;\n",
              "    }\n",
              "\n",
              "    .dataframe tbody tr th {\n",
              "        vertical-align: top;\n",
              "    }\n",
              "\n",
              "    .dataframe thead th {\n",
              "        text-align: right;\n",
              "    }\n",
              "</style>\n",
              "<table border=\"1\" class=\"dataframe\">\n",
              "  <thead>\n",
              "    <tr style=\"text-align: right;\">\n",
              "      <th></th>\n",
              "      <th>Item_Identifier</th>\n",
              "      <th>Item_Weight</th>\n",
              "      <th>Item_Fat_Content</th>\n",
              "      <th>Item_Visibility</th>\n",
              "      <th>Item_Type</th>\n",
              "      <th>Item_MRP</th>\n",
              "      <th>Outlet_Identifier</th>\n",
              "      <th>Outlet_Establishment_Year</th>\n",
              "      <th>Outlet_Size</th>\n",
              "      <th>Outlet_Location_Type</th>\n",
              "      <th>Outlet_Type</th>\n",
              "      <th>Item_Outlet_Sales</th>\n",
              "    </tr>\n",
              "  </thead>\n",
              "  <tbody>\n",
              "    <tr>\n",
              "      <th>927</th>\n",
              "      <td>FDN52</td>\n",
              "      <td>NaN</td>\n",
              "      <td>Regular</td>\n",
              "      <td>0.130933</td>\n",
              "      <td>Frozen Foods</td>\n",
              "      <td>86.9198</td>\n",
              "      <td>OUT027</td>\n",
              "      <td>1985</td>\n",
              "      <td>Medium</td>\n",
              "      <td>Tier 3</td>\n",
              "      <td>Supermarket Type3</td>\n",
              "      <td>1569.9564</td>\n",
              "    </tr>\n",
              "    <tr>\n",
              "      <th>1922</th>\n",
              "      <td>FDK57</td>\n",
              "      <td>NaN</td>\n",
              "      <td>Low Fat</td>\n",
              "      <td>0.079904</td>\n",
              "      <td>Snack Foods</td>\n",
              "      <td>120.0440</td>\n",
              "      <td>OUT027</td>\n",
              "      <td>1985</td>\n",
              "      <td>Medium</td>\n",
              "      <td>Tier 3</td>\n",
              "      <td>Supermarket Type3</td>\n",
              "      <td>4434.2280</td>\n",
              "    </tr>\n",
              "    <tr>\n",
              "      <th>4187</th>\n",
              "      <td>FDE52</td>\n",
              "      <td>NaN</td>\n",
              "      <td>Regular</td>\n",
              "      <td>0.029742</td>\n",
              "      <td>Dairy</td>\n",
              "      <td>88.9514</td>\n",
              "      <td>OUT027</td>\n",
              "      <td>1985</td>\n",
              "      <td>Medium</td>\n",
              "      <td>Tier 3</td>\n",
              "      <td>Supermarket Type3</td>\n",
              "      <td>3453.5046</td>\n",
              "    </tr>\n",
              "    <tr>\n",
              "      <th>5022</th>\n",
              "      <td>FDQ60</td>\n",
              "      <td>NaN</td>\n",
              "      <td>Regular</td>\n",
              "      <td>0.191501</td>\n",
              "      <td>Baking Goods</td>\n",
              "      <td>121.2098</td>\n",
              "      <td>OUT019</td>\n",
              "      <td>1985</td>\n",
              "      <td>Small</td>\n",
              "      <td>Tier 1</td>\n",
              "      <td>Grocery Store</td>\n",
              "      <td>120.5098</td>\n",
              "    </tr>\n",
              "  </tbody>\n",
              "</table>\n",
              "</div>\n",
              "      <button class=\"colab-df-convert\" onclick=\"convertToInteractive('df-7beb81e0-c4d4-4578-b052-41acd9c2144f')\"\n",
              "              title=\"Convert this dataframe to an interactive table.\"\n",
              "              style=\"display:none;\">\n",
              "        \n",
              "  <svg xmlns=\"http://www.w3.org/2000/svg\" height=\"24px\"viewBox=\"0 0 24 24\"\n",
              "       width=\"24px\">\n",
              "    <path d=\"M0 0h24v24H0V0z\" fill=\"none\"/>\n",
              "    <path d=\"M18.56 5.44l.94 2.06.94-2.06 2.06-.94-2.06-.94-.94-2.06-.94 2.06-2.06.94zm-11 1L8.5 8.5l.94-2.06 2.06-.94-2.06-.94L8.5 2.5l-.94 2.06-2.06.94zm10 10l.94 2.06.94-2.06 2.06-.94-2.06-.94-.94-2.06-.94 2.06-2.06.94z\"/><path d=\"M17.41 7.96l-1.37-1.37c-.4-.4-.92-.59-1.43-.59-.52 0-1.04.2-1.43.59L10.3 9.45l-7.72 7.72c-.78.78-.78 2.05 0 2.83L4 21.41c.39.39.9.59 1.41.59.51 0 1.02-.2 1.41-.59l7.78-7.78 2.81-2.81c.8-.78.8-2.07 0-2.86zM5.41 20L4 18.59l7.72-7.72 1.47 1.35L5.41 20z\"/>\n",
              "  </svg>\n",
              "      </button>\n",
              "      \n",
              "  <style>\n",
              "    .colab-df-container {\n",
              "      display:flex;\n",
              "      flex-wrap:wrap;\n",
              "      gap: 12px;\n",
              "    }\n",
              "\n",
              "    .colab-df-convert {\n",
              "      background-color: #E8F0FE;\n",
              "      border: none;\n",
              "      border-radius: 50%;\n",
              "      cursor: pointer;\n",
              "      display: none;\n",
              "      fill: #1967D2;\n",
              "      height: 32px;\n",
              "      padding: 0 0 0 0;\n",
              "      width: 32px;\n",
              "    }\n",
              "\n",
              "    .colab-df-convert:hover {\n",
              "      background-color: #E2EBFA;\n",
              "      box-shadow: 0px 1px 2px rgba(60, 64, 67, 0.3), 0px 1px 3px 1px rgba(60, 64, 67, 0.15);\n",
              "      fill: #174EA6;\n",
              "    }\n",
              "\n",
              "    [theme=dark] .colab-df-convert {\n",
              "      background-color: #3B4455;\n",
              "      fill: #D2E3FC;\n",
              "    }\n",
              "\n",
              "    [theme=dark] .colab-df-convert:hover {\n",
              "      background-color: #434B5C;\n",
              "      box-shadow: 0px 1px 3px 1px rgba(0, 0, 0, 0.15);\n",
              "      filter: drop-shadow(0px 1px 2px rgba(0, 0, 0, 0.3));\n",
              "      fill: #FFFFFF;\n",
              "    }\n",
              "  </style>\n",
              "\n",
              "      <script>\n",
              "        const buttonEl =\n",
              "          document.querySelector('#df-7beb81e0-c4d4-4578-b052-41acd9c2144f button.colab-df-convert');\n",
              "        buttonEl.style.display =\n",
              "          google.colab.kernel.accessAllowed ? 'block' : 'none';\n",
              "\n",
              "        async function convertToInteractive(key) {\n",
              "          const element = document.querySelector('#df-7beb81e0-c4d4-4578-b052-41acd9c2144f');\n",
              "          const dataTable =\n",
              "            await google.colab.kernel.invokeFunction('convertToInteractive',\n",
              "                                                     [key], {});\n",
              "          if (!dataTable) return;\n",
              "\n",
              "          const docLinkHtml = 'Like what you see? Visit the ' +\n",
              "            '<a target=\"_blank\" href=https://colab.research.google.com/notebooks/data_table.ipynb>data table notebook</a>'\n",
              "            + ' to learn more about interactive tables.';\n",
              "          element.innerHTML = '';\n",
              "          dataTable['output_type'] = 'display_data';\n",
              "          await google.colab.output.renderOutput(dataTable, element);\n",
              "          const docLink = document.createElement('div');\n",
              "          docLink.innerHTML = docLinkHtml;\n",
              "          element.appendChild(docLink);\n",
              "        }\n",
              "      </script>\n",
              "    </div>\n",
              "  </div>\n",
              "  "
            ],
            "text/plain": [
              "     Item_Identifier  Item_Weight  ...        Outlet_Type  Item_Outlet_Sales\n",
              "927            FDN52          NaN  ...  Supermarket Type3          1569.9564\n",
              "1922           FDK57          NaN  ...  Supermarket Type3          4434.2280\n",
              "4187           FDE52          NaN  ...  Supermarket Type3          3453.5046\n",
              "5022           FDQ60          NaN  ...      Grocery Store           120.5098\n",
              "\n",
              "[4 rows x 12 columns]"
            ]
          },
          "metadata": {},
          "execution_count": 13
        }
      ]
    },
    {
      "cell_type": "markdown",
      "source": [
        "- Remaining (4) values can be imputed using SimpleImputer(strategy='median')."
      ],
      "metadata": {
        "id": "cYno-0BPsdBP"
      }
    },
    {
      "cell_type": "markdown",
      "source": [
        "#### 'Outlet_Size' column"
      ],
      "metadata": {
        "id": "fDMFy6yQNv83"
      }
    },
    {
      "cell_type": "markdown",
      "source": [
        "'Item_Size' has 2410 missing values."
      ],
      "metadata": {
        "id": "Yv-RilfG3-vm"
      }
    },
    {
      "cell_type": "code",
      "source": [
        "print(df['Outlet_Size'].unique())"
      ],
      "metadata": {
        "colab": {
          "base_uri": "https://localhost:8080/"
        },
        "id": "loMuvs7uOFy-",
        "outputId": "3f849fde-e0a8-40ee-93e0-bfd1e86c3525"
      },
      "execution_count": 14,
      "outputs": [
        {
          "output_type": "stream",
          "name": "stdout",
          "text": [
            "['Medium' nan 'High' 'Small']\n"
          ]
        }
      ]
    },
    {
      "cell_type": "code",
      "source": [
        "df.groupby(['Outlet_Type','Outlet_Location_Type'])['Outlet_Size'].unique()"
      ],
      "metadata": {
        "colab": {
          "base_uri": "https://localhost:8080/"
        },
        "id": "prJJq0blRXpF",
        "outputId": "e3771f93-80f2-4df1-b0ad-5178ce7e3f20"
      },
      "execution_count": 15,
      "outputs": [
        {
          "output_type": "execute_result",
          "data": {
            "text/plain": [
              "Outlet_Type        Outlet_Location_Type\n",
              "Grocery Store      Tier 1                          [Small]\n",
              "                   Tier 3                            [nan]\n",
              "Supermarket Type1  Tier 1                  [Medium, Small]\n",
              "                   Tier 2                     [nan, Small]\n",
              "                   Tier 3                           [High]\n",
              "Supermarket Type2  Tier 3                         [Medium]\n",
              "Supermarket Type3  Tier 3                         [Medium]\n",
              "Name: Outlet_Size, dtype: object"
            ]
          },
          "metadata": {},
          "execution_count": 15
        }
      ]
    },
    {
      "cell_type": "markdown",
      "source": [
        "- 2410 missing values out of 8523 rows is significant (28%).\n",
        "- Unable to impute 'Outlet_Size' based upon 'Outlet_Type' and/or 'Outlet_Location_Type'.\n",
        "- Missing values to be filled with 'Unknown' value.\n"
      ],
      "metadata": {
        "id": "fa_6bO5UYWDG"
      }
    },
    {
      "cell_type": "code",
      "source": [
        "df.Outlet_Size.fillna('Unknown',inplace=True)"
      ],
      "metadata": {
        "id": "I6UiGx3zSOtb"
      },
      "execution_count": 16,
      "outputs": []
    },
    {
      "cell_type": "code",
      "source": [
        "df.groupby(['Outlet_Type','Outlet_Location_Type'])['Outlet_Size'].unique()"
      ],
      "metadata": {
        "colab": {
          "base_uri": "https://localhost:8080/"
        },
        "id": "2OibdsMkUCT3",
        "outputId": "7bd30d02-c3ee-4c8a-e6d5-cdee2f1f3c51"
      },
      "execution_count": 17,
      "outputs": [
        {
          "output_type": "execute_result",
          "data": {
            "text/plain": [
              "Outlet_Type        Outlet_Location_Type\n",
              "Grocery Store      Tier 1                           [Small]\n",
              "                   Tier 3                         [Unknown]\n",
              "Supermarket Type1  Tier 1                   [Medium, Small]\n",
              "                   Tier 2                  [Unknown, Small]\n",
              "                   Tier 3                            [High]\n",
              "Supermarket Type2  Tier 3                          [Medium]\n",
              "Supermarket Type3  Tier 3                          [Medium]\n",
              "Name: Outlet_Size, dtype: object"
            ]
          },
          "metadata": {},
          "execution_count": 17
        }
      ]
    },
    {
      "cell_type": "markdown",
      "source": [
        "### **Inspect Columns with Object Datatypes**"
      ],
      "metadata": {
        "id": "hE1XF-SoFZ-N"
      }
    },
    {
      "cell_type": "markdown",
      "source": [
        "Check for common syntax errors which may include extra white spaces at the beginning or end of strings or column names.\n",
        "\n",
        "Check for typos or inconsistencies in strings that need to be fixed."
      ],
      "metadata": {
        "id": "D0IwaQTV0Y20"
      }
    },
    {
      "cell_type": "code",
      "source": [
        "data_types = df.dtypes\n",
        "str_cols = data_types[data_types=='object'].index\n",
        "str_cols"
      ],
      "metadata": {
        "colab": {
          "base_uri": "https://localhost:8080/"
        },
        "id": "G1yRkecwrHte",
        "outputId": "b60222e5-79ad-4d35-97f7-c2a9b5733f54"
      },
      "execution_count": 18,
      "outputs": [
        {
          "output_type": "execute_result",
          "data": {
            "text/plain": [
              "Index(['Item_Identifier', 'Item_Fat_Content', 'Item_Type', 'Outlet_Identifier',\n",
              "       'Outlet_Size', 'Outlet_Location_Type', 'Outlet_Type'],\n",
              "      dtype='object')"
            ]
          },
          "metadata": {},
          "execution_count": 18
        }
      ]
    },
    {
      "cell_type": "code",
      "source": [
        "# Create a series of the datatypes\n",
        "data_types = df.dtypes\n",
        "# Create a filter to select only the object datatypes\n",
        "object_data_types = data_types[(data_types == \"object\")]\n",
        "# Display the series of object datatypes\n",
        "object_data_types"
      ],
      "metadata": {
        "colab": {
          "base_uri": "https://localhost:8080/"
        },
        "id": "H_MT5maJp2oe",
        "outputId": "7ca48b92-4632-40cb-b295-5ec2ff6aa12f"
      },
      "execution_count": 19,
      "outputs": [
        {
          "output_type": "execute_result",
          "data": {
            "text/plain": [
              "Item_Identifier         object\n",
              "Item_Fat_Content        object\n",
              "Item_Type               object\n",
              "Outlet_Identifier       object\n",
              "Outlet_Size             object\n",
              "Outlet_Location_Type    object\n",
              "Outlet_Type             object\n",
              "dtype: object"
            ]
          },
          "metadata": {},
          "execution_count": 19
        }
      ]
    },
    {
      "cell_type": "markdown",
      "source": [
        "#### 'Item_Fat_Content' column"
      ],
      "metadata": {
        "id": "V9Sw2CpSTm1H"
      }
    },
    {
      "cell_type": "code",
      "source": [
        "print(df['Item_Fat_Content'].unique())"
      ],
      "metadata": {
        "colab": {
          "base_uri": "https://localhost:8080/"
        },
        "id": "fZMWhETqbuUc",
        "outputId": "ffed4348-25cc-4af2-ecec-829719f86ad0"
      },
      "execution_count": 20,
      "outputs": [
        {
          "output_type": "stream",
          "name": "stdout",
          "text": [
            "['Low Fat' 'Regular' 'low fat' 'LF' 'reg']\n"
          ]
        }
      ]
    },
    {
      "cell_type": "markdown",
      "source": [
        "- Replace 'low fat' and 'LF' with 'Low Fat'.\n",
        "- Replace 'reg' with 'Regular'."
      ],
      "metadata": {
        "id": "JI9qvQZohBe8"
      }
    },
    {
      "cell_type": "code",
      "source": [
        "# Define a dictionary with key/value pairs and use it to replace values\n",
        "dict = {\"low fat\": 'Low Fat', \"reg\": 'Regular', \"LF\": 'Low Fat'}\n",
        "df.replace({'Item_Fat_Content': dict}, inplace = True)"
      ],
      "metadata": {
        "id": "sIeGei0m9Ozf"
      },
      "execution_count": 21,
      "outputs": []
    },
    {
      "cell_type": "code",
      "source": [
        "print(df['Item_Fat_Content'].unique())"
      ],
      "metadata": {
        "colab": {
          "base_uri": "https://localhost:8080/"
        },
        "id": "MbiHaQHHC56l",
        "outputId": "ae30c1f5-111b-4839-e5d3-09a17f8154df"
      },
      "execution_count": 22,
      "outputs": [
        {
          "output_type": "stream",
          "name": "stdout",
          "text": [
            "['Low Fat' 'Regular']\n"
          ]
        }
      ]
    },
    {
      "cell_type": "markdown",
      "source": [
        "- Replacement values confirmed."
      ],
      "metadata": {
        "id": "5j11rzeM0vSc"
      }
    },
    {
      "cell_type": "markdown",
      "source": [
        "#### 'Item_Type' column"
      ],
      "metadata": {
        "id": "_elJOwRnWG5I"
      }
    },
    {
      "cell_type": "code",
      "source": [
        "df.groupby(['Item_Type'])['Item_Type'].count()"
      ],
      "metadata": {
        "colab": {
          "base_uri": "https://localhost:8080/"
        },
        "id": "ZiFbbhhQWWCT",
        "outputId": "4450522f-7bdd-406d-da60-33c80cc428b4"
      },
      "execution_count": 23,
      "outputs": [
        {
          "output_type": "execute_result",
          "data": {
            "text/plain": [
              "Item_Type\n",
              "Baking Goods              648\n",
              "Breads                    251\n",
              "Breakfast                 110\n",
              "Canned                    649\n",
              "Dairy                     682\n",
              "Frozen Foods              856\n",
              "Fruits and Vegetables    1232\n",
              "Hard Drinks               214\n",
              "Health and Hygiene        520\n",
              "Household                 910\n",
              "Meat                      425\n",
              "Others                    169\n",
              "Seafood                    64\n",
              "Snack Foods              1200\n",
              "Soft Drinks               445\n",
              "Starchy Foods             148\n",
              "Name: Item_Type, dtype: int64"
            ]
          },
          "metadata": {},
          "execution_count": 23
        }
      ]
    },
    {
      "cell_type": "markdown",
      "source": [
        "- No issues noted."
      ],
      "metadata": {
        "id": "IDSZB6lS05fM"
      }
    },
    {
      "cell_type": "markdown",
      "source": [
        "#### 'Outlet_Identifier' column"
      ],
      "metadata": {
        "id": "Dg7lSZ8oZjn3"
      }
    },
    {
      "cell_type": "code",
      "source": [
        "print(df['Outlet_Identifier'].unique())"
      ],
      "metadata": {
        "colab": {
          "base_uri": "https://localhost:8080/"
        },
        "id": "U8_UY1BsazPC",
        "outputId": "5d627c98-b9e6-4a23-d6ed-72a637ccd30a"
      },
      "execution_count": 24,
      "outputs": [
        {
          "output_type": "stream",
          "name": "stdout",
          "text": [
            "['OUT049' 'OUT018' 'OUT010' 'OUT013' 'OUT027' 'OUT045' 'OUT017' 'OUT046'\n",
            " 'OUT035' 'OUT019']\n"
          ]
        }
      ]
    },
    {
      "cell_type": "markdown",
      "source": [
        "- No issues noted."
      ],
      "metadata": {
        "id": "Adu5MWZQ0-VY"
      }
    },
    {
      "cell_type": "markdown",
      "source": [
        "#### 'Outlet_Establishment_Year' column"
      ],
      "metadata": {
        "id": "XGWdc8W6cViy"
      }
    },
    {
      "cell_type": "code",
      "source": [
        "print(df['Outlet_Establishment_Year'].unique())"
      ],
      "metadata": {
        "colab": {
          "base_uri": "https://localhost:8080/"
        },
        "id": "k5FePevRcji2",
        "outputId": "bdf85910-c9b4-45e8-d1af-e3a12183e738"
      },
      "execution_count": 25,
      "outputs": [
        {
          "output_type": "stream",
          "name": "stdout",
          "text": [
            "[1999 2009 1998 1987 1985 2002 2007 1997 2004]\n"
          ]
        }
      ]
    },
    {
      "cell_type": "markdown",
      "source": [
        "- No issues noted.  \n",
        "- We could update the datatype to int64 but not deemed necessary at this time."
      ],
      "metadata": {
        "id": "RRlNm9171AgP"
      }
    },
    {
      "cell_type": "markdown",
      "source": [
        "####'Outlet_Size' column"
      ],
      "metadata": {
        "id": "jSFyY3U8cVun"
      }
    },
    {
      "cell_type": "code",
      "source": [
        "print(df['Outlet_Size'].unique())"
      ],
      "metadata": {
        "colab": {
          "base_uri": "https://localhost:8080/"
        },
        "id": "qAR0oYiKdDbQ",
        "outputId": "d8ca7e5c-1db7-4722-bd9c-bd944c4448cb"
      },
      "execution_count": 26,
      "outputs": [
        {
          "output_type": "stream",
          "name": "stdout",
          "text": [
            "['Medium' 'Unknown' 'High' 'Small']\n"
          ]
        }
      ]
    },
    {
      "cell_type": "markdown",
      "source": [
        "- No issues noted."
      ],
      "metadata": {
        "id": "8wh1oWYK1Ix4"
      }
    },
    {
      "cell_type": "markdown",
      "source": [
        "#### 'Outlet_Location_Type' column"
      ],
      "metadata": {
        "id": "Teqfot3acWA2"
      }
    },
    {
      "cell_type": "code",
      "source": [
        "print(df['Outlet_Location_Type'].unique())"
      ],
      "metadata": {
        "colab": {
          "base_uri": "https://localhost:8080/"
        },
        "id": "mFiMVpKjdH5E",
        "outputId": "62c6eed0-9b2f-46f9-ea6b-727f60312e73"
      },
      "execution_count": 27,
      "outputs": [
        {
          "output_type": "stream",
          "name": "stdout",
          "text": [
            "['Tier 1' 'Tier 3' 'Tier 2']\n"
          ]
        }
      ]
    },
    {
      "cell_type": "markdown",
      "source": [
        "- No issues noted."
      ],
      "metadata": {
        "id": "H03lIQp31KuX"
      }
    },
    {
      "cell_type": "markdown",
      "source": [
        "####'Outlet_Type' column"
      ],
      "metadata": {
        "id": "A4k4caWlc5_3"
      }
    },
    {
      "cell_type": "code",
      "source": [
        "print(df['Outlet_Type'].unique())"
      ],
      "metadata": {
        "colab": {
          "base_uri": "https://localhost:8080/"
        },
        "id": "AiCZYdC3dSnK",
        "outputId": "798df847-aed3-4264-dd9b-589c4c83cc12"
      },
      "execution_count": 28,
      "outputs": [
        {
          "output_type": "stream",
          "name": "stdout",
          "text": [
            "['Supermarket Type1' 'Supermarket Type2' 'Grocery Store'\n",
            " 'Supermarket Type3']\n"
          ]
        }
      ]
    },
    {
      "cell_type": "markdown",
      "source": [
        "- No issues noted."
      ],
      "metadata": {
        "id": "T2Ptexv01M3A"
      }
    },
    {
      "cell_type": "markdown",
      "source": [
        "### **Inspect Columns with Numerical Datatypes**"
      ],
      "metadata": {
        "id": "MJShs6IT7Yo3"
      }
    },
    {
      "cell_type": "code",
      "source": [
        "df.dtypes"
      ],
      "metadata": {
        "colab": {
          "base_uri": "https://localhost:8080/"
        },
        "id": "6ymbBaeE8Xt8",
        "outputId": "546c6f47-8d6c-4ef4-ed73-3dfd746379ff"
      },
      "execution_count": 29,
      "outputs": [
        {
          "output_type": "execute_result",
          "data": {
            "text/plain": [
              "Item_Identifier               object\n",
              "Item_Weight                  float64\n",
              "Item_Fat_Content              object\n",
              "Item_Visibility              float64\n",
              "Item_Type                     object\n",
              "Item_MRP                     float64\n",
              "Outlet_Identifier             object\n",
              "Outlet_Establishment_Year      int64\n",
              "Outlet_Size                   object\n",
              "Outlet_Location_Type          object\n",
              "Outlet_Type                   object\n",
              "Item_Outlet_Sales            float64\n",
              "dtype: object"
            ]
          },
          "metadata": {},
          "execution_count": 29
        }
      ]
    },
    {
      "cell_type": "markdown",
      "source": [
        "- Filter columns with numerical indexes."
      ],
      "metadata": {
        "id": "uoVST-dLtZB5"
      }
    },
    {
      "cell_type": "code",
      "source": [
        "data_types = df.dtypes\n",
        "num_cols = data_types[(data_types == \"float64\") | (data_types == \"int64\")].index\n",
        "num_cols"
      ],
      "metadata": {
        "colab": {
          "base_uri": "https://localhost:8080/"
        },
        "id": "6ypDoz4lrO2K",
        "outputId": "766a3d17-7ccc-4b67-aead-fb73aa6820cc"
      },
      "execution_count": 30,
      "outputs": [
        {
          "output_type": "execute_result",
          "data": {
            "text/plain": [
              "Index(['Item_Weight', 'Item_Visibility', 'Item_MRP',\n",
              "       'Outlet_Establishment_Year', 'Item_Outlet_Sales'],\n",
              "      dtype='object')"
            ]
          },
          "metadata": {},
          "execution_count": 30
        }
      ]
    },
    {
      "cell_type": "code",
      "source": [
        "# Create a filter to select only the numerical datatypes\n",
        "numerical_data_types = data_types[(data_types == \"float64\") | (data_types == \"int64\")]\n",
        "# Display the series of numerical datatypes\n",
        "numerical_data_types"
      ],
      "metadata": {
        "colab": {
          "base_uri": "https://localhost:8080/"
        },
        "id": "RKSi0r527wIS",
        "outputId": "c5174c17-0375-4175-dbc5-666e3b1e54d6"
      },
      "execution_count": 31,
      "outputs": [
        {
          "output_type": "execute_result",
          "data": {
            "text/plain": [
              "Item_Weight                  float64\n",
              "Item_Visibility              float64\n",
              "Item_MRP                     float64\n",
              "Outlet_Establishment_Year      int64\n",
              "Item_Outlet_Sales            float64\n",
              "dtype: object"
            ]
          },
          "metadata": {},
          "execution_count": 31
        }
      ]
    },
    {
      "cell_type": "markdown",
      "source": [
        "- Check for Outliers within the numerical datatypes"
      ],
      "metadata": {
        "id": "cKrNkD0wu424"
      }
    },
    {
      "cell_type": "code",
      "source": [
        "df.describe()"
      ],
      "metadata": {
        "colab": {
          "base_uri": "https://localhost:8080/",
          "height": 300
        },
        "id": "DLd5r9wc9uxQ",
        "outputId": "53d6e744-5fa1-4017-83cc-e75e69719c9f"
      },
      "execution_count": 32,
      "outputs": [
        {
          "output_type": "execute_result",
          "data": {
            "text/html": [
              "\n",
              "  <div id=\"df-23913097-f380-416d-8809-6879fb6a0ce0\">\n",
              "    <div class=\"colab-df-container\">\n",
              "      <div>\n",
              "<style scoped>\n",
              "    .dataframe tbody tr th:only-of-type {\n",
              "        vertical-align: middle;\n",
              "    }\n",
              "\n",
              "    .dataframe tbody tr th {\n",
              "        vertical-align: top;\n",
              "    }\n",
              "\n",
              "    .dataframe thead th {\n",
              "        text-align: right;\n",
              "    }\n",
              "</style>\n",
              "<table border=\"1\" class=\"dataframe\">\n",
              "  <thead>\n",
              "    <tr style=\"text-align: right;\">\n",
              "      <th></th>\n",
              "      <th>Item_Weight</th>\n",
              "      <th>Item_Visibility</th>\n",
              "      <th>Item_MRP</th>\n",
              "      <th>Outlet_Establishment_Year</th>\n",
              "      <th>Item_Outlet_Sales</th>\n",
              "    </tr>\n",
              "  </thead>\n",
              "  <tbody>\n",
              "    <tr>\n",
              "      <th>count</th>\n",
              "      <td>8519.000000</td>\n",
              "      <td>8523.000000</td>\n",
              "      <td>8523.000000</td>\n",
              "      <td>8523.000000</td>\n",
              "      <td>8523.000000</td>\n",
              "    </tr>\n",
              "    <tr>\n",
              "      <th>mean</th>\n",
              "      <td>12.875420</td>\n",
              "      <td>0.066132</td>\n",
              "      <td>140.992782</td>\n",
              "      <td>1997.831867</td>\n",
              "      <td>2181.288914</td>\n",
              "    </tr>\n",
              "    <tr>\n",
              "      <th>std</th>\n",
              "      <td>4.646098</td>\n",
              "      <td>0.051598</td>\n",
              "      <td>62.275067</td>\n",
              "      <td>8.371760</td>\n",
              "      <td>1706.499616</td>\n",
              "    </tr>\n",
              "    <tr>\n",
              "      <th>min</th>\n",
              "      <td>4.555000</td>\n",
              "      <td>0.000000</td>\n",
              "      <td>31.290000</td>\n",
              "      <td>1985.000000</td>\n",
              "      <td>33.290000</td>\n",
              "    </tr>\n",
              "    <tr>\n",
              "      <th>25%</th>\n",
              "      <td>8.785000</td>\n",
              "      <td>0.026989</td>\n",
              "      <td>93.826500</td>\n",
              "      <td>1987.000000</td>\n",
              "      <td>834.247400</td>\n",
              "    </tr>\n",
              "    <tr>\n",
              "      <th>50%</th>\n",
              "      <td>12.650000</td>\n",
              "      <td>0.053931</td>\n",
              "      <td>143.012800</td>\n",
              "      <td>1999.000000</td>\n",
              "      <td>1794.331000</td>\n",
              "    </tr>\n",
              "    <tr>\n",
              "      <th>75%</th>\n",
              "      <td>16.850000</td>\n",
              "      <td>0.094585</td>\n",
              "      <td>185.643700</td>\n",
              "      <td>2004.000000</td>\n",
              "      <td>3101.296400</td>\n",
              "    </tr>\n",
              "    <tr>\n",
              "      <th>max</th>\n",
              "      <td>21.350000</td>\n",
              "      <td>0.328391</td>\n",
              "      <td>266.888400</td>\n",
              "      <td>2009.000000</td>\n",
              "      <td>13086.964800</td>\n",
              "    </tr>\n",
              "  </tbody>\n",
              "</table>\n",
              "</div>\n",
              "      <button class=\"colab-df-convert\" onclick=\"convertToInteractive('df-23913097-f380-416d-8809-6879fb6a0ce0')\"\n",
              "              title=\"Convert this dataframe to an interactive table.\"\n",
              "              style=\"display:none;\">\n",
              "        \n",
              "  <svg xmlns=\"http://www.w3.org/2000/svg\" height=\"24px\"viewBox=\"0 0 24 24\"\n",
              "       width=\"24px\">\n",
              "    <path d=\"M0 0h24v24H0V0z\" fill=\"none\"/>\n",
              "    <path d=\"M18.56 5.44l.94 2.06.94-2.06 2.06-.94-2.06-.94-.94-2.06-.94 2.06-2.06.94zm-11 1L8.5 8.5l.94-2.06 2.06-.94-2.06-.94L8.5 2.5l-.94 2.06-2.06.94zm10 10l.94 2.06.94-2.06 2.06-.94-2.06-.94-.94-2.06-.94 2.06-2.06.94z\"/><path d=\"M17.41 7.96l-1.37-1.37c-.4-.4-.92-.59-1.43-.59-.52 0-1.04.2-1.43.59L10.3 9.45l-7.72 7.72c-.78.78-.78 2.05 0 2.83L4 21.41c.39.39.9.59 1.41.59.51 0 1.02-.2 1.41-.59l7.78-7.78 2.81-2.81c.8-.78.8-2.07 0-2.86zM5.41 20L4 18.59l7.72-7.72 1.47 1.35L5.41 20z\"/>\n",
              "  </svg>\n",
              "      </button>\n",
              "      \n",
              "  <style>\n",
              "    .colab-df-container {\n",
              "      display:flex;\n",
              "      flex-wrap:wrap;\n",
              "      gap: 12px;\n",
              "    }\n",
              "\n",
              "    .colab-df-convert {\n",
              "      background-color: #E8F0FE;\n",
              "      border: none;\n",
              "      border-radius: 50%;\n",
              "      cursor: pointer;\n",
              "      display: none;\n",
              "      fill: #1967D2;\n",
              "      height: 32px;\n",
              "      padding: 0 0 0 0;\n",
              "      width: 32px;\n",
              "    }\n",
              "\n",
              "    .colab-df-convert:hover {\n",
              "      background-color: #E2EBFA;\n",
              "      box-shadow: 0px 1px 2px rgba(60, 64, 67, 0.3), 0px 1px 3px 1px rgba(60, 64, 67, 0.15);\n",
              "      fill: #174EA6;\n",
              "    }\n",
              "\n",
              "    [theme=dark] .colab-df-convert {\n",
              "      background-color: #3B4455;\n",
              "      fill: #D2E3FC;\n",
              "    }\n",
              "\n",
              "    [theme=dark] .colab-df-convert:hover {\n",
              "      background-color: #434B5C;\n",
              "      box-shadow: 0px 1px 3px 1px rgba(0, 0, 0, 0.15);\n",
              "      filter: drop-shadow(0px 1px 2px rgba(0, 0, 0, 0.3));\n",
              "      fill: #FFFFFF;\n",
              "    }\n",
              "  </style>\n",
              "\n",
              "      <script>\n",
              "        const buttonEl =\n",
              "          document.querySelector('#df-23913097-f380-416d-8809-6879fb6a0ce0 button.colab-df-convert');\n",
              "        buttonEl.style.display =\n",
              "          google.colab.kernel.accessAllowed ? 'block' : 'none';\n",
              "\n",
              "        async function convertToInteractive(key) {\n",
              "          const element = document.querySelector('#df-23913097-f380-416d-8809-6879fb6a0ce0');\n",
              "          const dataTable =\n",
              "            await google.colab.kernel.invokeFunction('convertToInteractive',\n",
              "                                                     [key], {});\n",
              "          if (!dataTable) return;\n",
              "\n",
              "          const docLinkHtml = 'Like what you see? Visit the ' +\n",
              "            '<a target=\"_blank\" href=https://colab.research.google.com/notebooks/data_table.ipynb>data table notebook</a>'\n",
              "            + ' to learn more about interactive tables.';\n",
              "          element.innerHTML = '';\n",
              "          dataTable['output_type'] = 'display_data';\n",
              "          await google.colab.output.renderOutput(dataTable, element);\n",
              "          const docLink = document.createElement('div');\n",
              "          docLink.innerHTML = docLinkHtml;\n",
              "          element.appendChild(docLink);\n",
              "        }\n",
              "      </script>\n",
              "    </div>\n",
              "  </div>\n",
              "  "
            ],
            "text/plain": [
              "       Item_Weight  ...  Item_Outlet_Sales\n",
              "count  8519.000000  ...        8523.000000\n",
              "mean     12.875420  ...        2181.288914\n",
              "std       4.646098  ...        1706.499616\n",
              "min       4.555000  ...          33.290000\n",
              "25%       8.785000  ...         834.247400\n",
              "50%      12.650000  ...        1794.331000\n",
              "75%      16.850000  ...        3101.296400\n",
              "max      21.350000  ...       13086.964800\n",
              "\n",
              "[8 rows x 5 columns]"
            ]
          },
          "metadata": {},
          "execution_count": 32
        }
      ]
    },
    {
      "cell_type": "markdown",
      "source": [
        "- 'Item_Visibility' - \n",
        "The percentage of total display area of all products in a store allocated to the particular product had an extreme range from 0% to 33%."
      ],
      "metadata": {
        "id": "DkXlRgCluuJP"
      }
    },
    {
      "cell_type": "markdown",
      "source": [
        "\n",
        "\n",
        "---\n",
        "\n"
      ],
      "metadata": {
        "id": "53ddicJFK4Bo"
      }
    },
    {
      "cell_type": "markdown",
      "source": [
        "## **Exploratory Data Analysis**"
      ],
      "metadata": {
        "id": "NqfnRAP-jWdZ"
      }
    },
    {
      "cell_type": "markdown",
      "source": [
        "#### **Item Weight**"
      ],
      "metadata": {
        "id": "WikkawyCk5u2"
      }
    },
    {
      "cell_type": "markdown",
      "source": [
        "##### **Distribution**"
      ],
      "metadata": {
        "id": "d9Wxg1rN_H19"
      }
    },
    {
      "cell_type": "code",
      "source": [
        "plt.figure(figsize = (16, 6))\n",
        "\n",
        "sns.histplot(data=df, x='Item_Weight', color='#069AF3', bins=20); \n",
        "\n",
        "plt.title('Item Weight Distribution', fontsize = 22, weight='bold')\n",
        "plt.xlabel('Item Weight', fontsize = 16, weight='bold')\n",
        "plt.ylabel('Count', fontsize = 16, weight='bold');\n",
        "plt.xticks(fontsize = 10, weight='bold', rotation=30)\n",
        "plt.yticks(fontsize = 10, weight='bold');"
      ],
      "metadata": {
        "colab": {
          "base_uri": "https://localhost:8080/",
          "height": 0
        },
        "id": "RNixYjLnlUuS",
        "outputId": "2425ee97-ed11-49d0-f640-5c97d0a9bbe9"
      },
      "execution_count": 33,
      "outputs": [
        {
          "output_type": "display_data",
          "data": {
            "image/png": "[encoded data removed]",
            "text/plain": [
              "<Figure size 1152x432 with 1 Axes>"
            ]
          },
          "metadata": {
            "needs_background": "light"
          }
        }
      ]
    },
    {
      "cell_type": "markdown",
      "source": [
        "##### **Sales**"
      ],
      "metadata": {
        "id": "2XK1mq-V_QR4"
      }
    },
    {
      "cell_type": "code",
      "source": [
        "plt.figure(figsize = (16, 6))\n",
        "\n",
        "sns.histplot(data=df, x='Item_Weight',y='Item_Outlet_Sales', bins=20, color='#069AF3')\n",
        "\n",
        "plt.title('Item Weight vs Outlet Sales', fontsize = 22, weight='bold')\n",
        "plt.xlabel('Item Weight', fontsize = 16, weight='bold')\n",
        "plt.ylabel('Item Outlet Sales', fontsize = 16, weight='bold');\n",
        "plt.xticks(fontsize = 10, weight='bold', rotation=0)\n",
        "plt.yticks(fontsize = 10, weight='bold');"
      ],
      "metadata": {
        "colab": {
          "base_uri": "https://localhost:8080/",
          "height": 0
        },
        "id": "TPWJH2cwvobF",
        "outputId": "da191149-b18c-404f-e36b-d37671724f7d"
      },
      "execution_count": 34,
      "outputs": [
        {
          "output_type": "display_data",
          "data": {
            "image/png": "[encoded data removed]",
            "text/plain": [
              "<Figure size 1152x432 with 1 Axes>"
            ]
          },
          "metadata": {
            "needs_background": "light"
          }
        }
      ]
    },
    {
      "cell_type": "markdown",
      "source": [
        "#### **Item Fat Content**"
      ],
      "metadata": {
        "id": "xj5aKKkKlCY7"
      }
    },
    {
      "cell_type": "markdown",
      "source": [
        "##### **Distribution**"
      ],
      "metadata": {
        "id": "B1HcoX13_1RM"
      }
    },
    {
      "cell_type": "code",
      "source": [
        "plt.figure(figsize = (16, 6))\n",
        "\n",
        "sns.histplot(data=df, x='Item_Fat_Content', color='#069AF3'); \n",
        "\n",
        "plt.title('Item Fat Content Distribution', fontsize = 22, weight='bold');\n",
        "plt.xlabel('Item Fat Content', fontsize = 16, weight='bold');\n",
        "plt.ylabel('Count', fontsize = 16, weight='bold');\n",
        "plt.xticks(fontsize = 10, weight='bold', rotation=0);\n",
        "plt.yticks(fontsize = 10, weight='bold');"
      ],
      "metadata": {
        "colab": {
          "base_uri": "https://localhost:8080/",
          "height": 0
        },
        "id": "ffR33urklVFQ",
        "outputId": "b260a6eb-4ca8-43b4-cc0b-48a71d3207ea"
      },
      "execution_count": 35,
      "outputs": [
        {
          "output_type": "display_data",
          "data": {
            "image/png": "[encoded data removed]",
            "text/plain": [
              "<Figure size 1152x432 with 1 Axes>"
            ]
          },
          "metadata": {
            "needs_background": "light"
          }
        }
      ]
    },
    {
      "cell_type": "markdown",
      "source": [
        "##### **Sales**"
      ],
      "metadata": {
        "id": "Ppn8gMZzAHVM"
      }
    },
    {
      "cell_type": "code",
      "source": [
        "plt.figure(figsize = (16, 6))\n",
        "\n",
        "sns.histplot(data=df, x='Item_Fat_Content',y='Item_Outlet_Sales', bins=20, color='#069AF3')\n",
        "\n",
        "plt.title('Item Fat Content vs Outlet Sales', fontsize = 22, weight='bold')\n",
        "plt.xlabel('Item Fat Content', fontsize = 16, weight='bold')\n",
        "plt.ylabel('Item Outlet Sales', fontsize = 16, weight='bold');\n",
        "plt.xticks(fontsize = 10, weight='bold', rotation=0)\n",
        "plt.yticks(fontsize = 10, weight='bold');"
      ],
      "metadata": {
        "colab": {
          "base_uri": "https://localhost:8080/",
          "height": 0
        },
        "id": "7pnaoNnMlVeZ",
        "outputId": "62009831-d95e-420a-e495-346192e922ee"
      },
      "execution_count": 36,
      "outputs": [
        {
          "output_type": "display_data",
          "data": {
            "image/png": "[encoded data removed]",
            "text/plain": [
              "<Figure size 1152x432 with 1 Axes>"
            ]
          },
          "metadata": {
            "needs_background": "light"
          }
        }
      ]
    },
    {
      "cell_type": "markdown",
      "source": [
        "#### **Item Visibility**"
      ],
      "metadata": {
        "id": "_-BqBlCKjebD"
      }
    },
    {
      "cell_type": "markdown",
      "source": [
        "##### **Distribution**"
      ],
      "metadata": {
        "id": "6JGFoFZm_ze_"
      }
    },
    {
      "cell_type": "code",
      "source": [
        "plt.figure(figsize = (16, 6))\n",
        "\n",
        "sns.histplot(data=df, x='Item_Visibility', color='#069AF3', bins=20); \n",
        "\n",
        "plt.title('Item Visibility Distribution', fontsize = 22, weight='bold')\n",
        "plt.xlabel('Item Visibility', fontsize = 16, weight='bold')\n",
        "plt.ylabel('Count', fontsize = 16, weight='bold');\n",
        "plt.xticks(fontsize = 10, weight='bold', rotation=30)\n",
        "plt.yticks(fontsize = 10, weight='bold');"
      ],
      "metadata": {
        "colab": {
          "base_uri": "https://localhost:8080/",
          "height": 0
        },
        "id": "8SmQB21pGxwL",
        "outputId": "959bc48b-cfd0-4cb8-bb38-7465b780aadb"
      },
      "execution_count": 37,
      "outputs": [
        {
          "output_type": "display_data",
          "data": {
            "image/png": "[encoded data removed]",
            "text/plain": [
              "<Figure size 1152x432 with 1 Axes>"
            ]
          },
          "metadata": {
            "needs_background": "light"
          }
        }
      ]
    },
    {
      "cell_type": "markdown",
      "source": [
        "##### **Sales**"
      ],
      "metadata": {
        "id": "4w_VoCGXALI3"
      }
    },
    {
      "cell_type": "code",
      "source": [
        "plt.figure(figsize = (16, 6))\n",
        "\n",
        "sns.histplot(data=df, x='Item_Visibility',y='Item_Outlet_Sales', bins=20, color='#069AF3')\n",
        "\n",
        "plt.title('Item Visibility vs Outlet Sales', fontsize = 22, weight='bold')\n",
        "plt.xlabel('Item Visibility', fontsize = 16, weight='bold')\n",
        "plt.ylabel('Item Outlet Sales', fontsize = 16, weight='bold');\n",
        "plt.xticks(fontsize = 10, weight='bold', rotation=0)\n",
        "plt.yticks(fontsize = 10, weight='bold');"
      ],
      "metadata": {
        "colab": {
          "base_uri": "https://localhost:8080/",
          "height": 0
        },
        "id": "V7GAI6N_q3mO",
        "outputId": "d9f847c1-045d-4e72-abab-1d585218a25a"
      },
      "execution_count": 38,
      "outputs": [
        {
          "output_type": "display_data",
          "data": {
            "image/png": "[encoded data removed]",
            "text/plain": [
              "<Figure size 1152x432 with 1 Axes>"
            ]
          },
          "metadata": {
            "needs_background": "light"
          }
        }
      ]
    },
    {
      "cell_type": "markdown",
      "source": [
        "#### **Item Type**"
      ],
      "metadata": {
        "id": "Yr2WKNwGjwa_"
      }
    },
    {
      "cell_type": "markdown",
      "source": [
        "##### **Distribution**"
      ],
      "metadata": {
        "id": "DtgD7pvj_icp"
      }
    },
    {
      "cell_type": "code",
      "source": [
        "from matplotlib import lines\n",
        "plt.figure(figsize = (16, 6))\n",
        "\n",
        "sns.histplot(data=df, x='Item_Type', color='#069AF3'); \n",
        "\n",
        "plt.title('Item Type Distribution', fontsize = 22, weight='bold')\n",
        "plt.xlabel('Item Type', fontsize = 16, weight='bold')\n",
        "plt.ylabel('Count', fontsize = 16, weight='bold');\n",
        "plt.xticks(fontsize = 10, weight='bold', rotation=90)\n",
        "plt.yticks(fontsize = 10, weight='bold');"
      ],
      "metadata": {
        "colab": {
          "base_uri": "https://localhost:8080/",
          "height": 0
        },
        "id": "yRNmXFZUHw0g",
        "outputId": "4867d640-9308-4405-a485-627def6c330a"
      },
      "execution_count": 39,
      "outputs": [
        {
          "output_type": "display_data",
          "data": {
            "image/png": "[encoded data removed]",
            "text/plain": [
              "<Figure size 1152x432 with 1 Axes>"
            ]
          },
          "metadata": {
            "needs_background": "light"
          }
        }
      ]
    },
    {
      "cell_type": "markdown",
      "source": [
        "##### **Sales**"
      ],
      "metadata": {
        "id": "dtORxNuvANxm"
      }
    },
    {
      "cell_type": "code",
      "source": [
        "plt.figure(figsize = (16, 6))\n",
        "\n",
        "sns.histplot(data=df, x='Item_Type', y='Item_Outlet_Sales', color='#069AF3', bins=20); \n",
        "\n",
        "plt.title('Item Type vs Item Outlet Sales', fontsize = 22, weight='bold')\n",
        "plt.xlabel('Item Type', fontsize = 16, weight='bold')\n",
        "plt.ylabel('Item Outlet Sales', fontsize = 16, weight='bold')\n",
        "plt.xticks(fontsize = 10, weight='bold', rotation=90)\n",
        "plt.yticks(fontsize = 10, weight='bold');"
      ],
      "metadata": {
        "colab": {
          "base_uri": "https://localhost:8080/",
          "height": 0
        },
        "id": "dYGD9wja2fpa",
        "outputId": "4122918f-6458-419f-f5f6-afe59eff390f"
      },
      "execution_count": 40,
      "outputs": [
        {
          "output_type": "display_data",
          "data": {
            "image/png": "[encoded data removed]",
            "text/plain": [
              "<Figure size 1152x432 with 1 Axes>"
            ]
          },
          "metadata": {
            "needs_background": "light"
          }
        }
      ]
    },
    {
      "cell_type": "code",
      "source": [
        "plt.figure(figsize = (16, 6))\n",
        "\n",
        "sns.boxplot(data=df, x='Item_Type', y='Item_Outlet_Sales', notch=True)\n",
        "\n",
        "plt.title('Item Outlet Sales Distribution by Item Type', fontsize = 22, weight='bold')\n",
        "plt.xlabel('Item Type', fontsize = 16, weight='bold')\n",
        "plt.ylabel('Item Outlet Sales', fontsize = 16, weight='bold')\n",
        "plt.xticks(fontsize = 10, weight='bold', rotation=60)\n",
        "plt.yticks(fontsize = 10, weight='bold');"
      ],
      "metadata": {
        "colab": {
          "base_uri": "https://localhost:8080/",
          "height": 0
        },
        "id": "XiMC9sDfk6bB",
        "outputId": "6e19f8bb-4d85-4beb-dbe9-fa3abfc38eae"
      },
      "execution_count": 41,
      "outputs": [
        {
          "output_type": "display_data",
          "data": {
            "image/png": "[encoded data removed]",
            "text/plain": [
              "<Figure size 1152x432 with 1 Axes>"
            ]
          },
          "metadata": {
            "needs_background": "light"
          }
        }
      ]
    },
    {
      "cell_type": "markdown",
      "source": [
        "#### **Item MRP**"
      ],
      "metadata": {
        "id": "NXW5OBhhlPPT"
      }
    },
    {
      "cell_type": "markdown",
      "source": [
        "##### **Distribution**"
      ],
      "metadata": {
        "id": "C6AvNKS1-4tQ"
      }
    },
    {
      "cell_type": "code",
      "source": [
        "plt.figure(figsize = (16, 6))\n",
        "\n",
        "sns.histplot(data=df, x='Item_MRP', color='#069AF3', bins=20); \n",
        "\n",
        "plt.title('Item MRP Distribution', fontsize = 22, weight='bold')\n",
        "plt.xlabel('Item MRP', fontsize = 16, weight='bold')\n",
        "plt.ylabel('Count', fontsize = 16, weight='bold');\n",
        "plt.xticks(fontsize = 10, weight='bold', rotation=0)\n",
        "plt.yticks(fontsize = 10, weight='bold');"
      ],
      "metadata": {
        "colab": {
          "base_uri": "https://localhost:8080/",
          "height": 0
        },
        "id": "7dmraTaf-VZW",
        "outputId": "c602a240-a774-4083-909e-0bd29f0791fa"
      },
      "execution_count": 42,
      "outputs": [
        {
          "output_type": "display_data",
          "data": {
            "image/png": "[encoded data removed]",
            "text/plain": [
              "<Figure size 1152x432 with 1 Axes>"
            ]
          },
          "metadata": {
            "needs_background": "light"
          }
        }
      ]
    },
    {
      "cell_type": "markdown",
      "source": [
        "##### **Sales**"
      ],
      "metadata": {
        "id": "SKvp3okD_B3F"
      }
    },
    {
      "cell_type": "code",
      "source": [
        "plt.figure(figsize = (16, 6))\n",
        "\n",
        "sns.histplot(data=df, x='Item_MRP',y='Item_Outlet_Sales', bins=20, color='#069AF3')\n",
        "\n",
        "plt.title('Item MRP vs Outlet Sales', fontsize = 22, weight='bold')\n",
        "plt.xlabel('Item MRP', fontsize = 16, weight='bold')\n",
        "plt.ylabel('Item Outlet Sales', fontsize = 16, weight='bold');\n",
        "plt.xticks(fontsize = 10, weight='bold', rotation=0)\n",
        "plt.yticks(fontsize = 10, weight='bold');"
      ],
      "metadata": {
        "colab": {
          "base_uri": "https://localhost:8080/",
          "height": 0
        },
        "id": "RW4LBSeV-V2H",
        "outputId": "2cc0c09d-1611-4a1c-8e96-c208d35cc825"
      },
      "execution_count": 43,
      "outputs": [
        {
          "output_type": "display_data",
          "data": {
            "image/png": "[encoded data removed]",
            "text/plain": [
              "<Figure size 1152x432 with 1 Axes>"
            ]
          },
          "metadata": {
            "needs_background": "light"
          }
        }
      ]
    },
    {
      "cell_type": "markdown",
      "source": [
        "#### **Outlet Identifier**"
      ],
      "metadata": {
        "id": "o5ijF36Y9rsy"
      }
    },
    {
      "cell_type": "markdown",
      "source": [
        "##### **Distribution**"
      ],
      "metadata": {
        "id": "IQ5BEFl2_pVG"
      }
    },
    {
      "cell_type": "code",
      "source": [
        "plt.figure(figsize = (16, 6))\n",
        "\n",
        "sns.histplot(data=df, x='Outlet_Identifier', color='#069AF3', bins=20); \n",
        "\n",
        "plt.title('Outlet Identifier Distribution', fontsize = 22, weight='bold')\n",
        "plt.xlabel('Outlet Identifier', fontsize = 16, weight='bold')\n",
        "plt.ylabel('Count', fontsize = 16, weight='bold');\n",
        "plt.xticks(fontsize = 10, weight='bold', rotation=0)\n",
        "plt.yticks(fontsize = 10, weight='bold');"
      ],
      "metadata": {
        "colab": {
          "base_uri": "https://localhost:8080/",
          "height": 0
        },
        "id": "QwErnvnuBVZn",
        "outputId": "d0dbe977-ca4e-4ca1-f4fd-44fade813bbf"
      },
      "execution_count": 44,
      "outputs": [
        {
          "output_type": "display_data",
          "data": {
            "image/png": "[encoded data removed]",
            "text/plain": [
              "<Figure size 1152x432 with 1 Axes>"
            ]
          },
          "metadata": {
            "needs_background": "light"
          }
        }
      ]
    },
    {
      "cell_type": "markdown",
      "source": [
        "##### **vs Sales**"
      ],
      "metadata": {
        "id": "APDipwnBBQBm"
      }
    },
    {
      "cell_type": "code",
      "source": [
        "plt.figure(figsize = (16, 6))\n",
        "\n",
        "sns.histplot(data=df, x='Outlet_Identifier',y='Item_Outlet_Sales', bins=20, color='#069AF3')\n",
        "\n",
        "plt.title('Outlet Identifier vs Outlet Sales', fontsize = 22, weight='bold')\n",
        "plt.xlabel('Outlet Identifier', fontsize = 16, weight='bold')\n",
        "plt.ylabel('Item Outlet Sales', fontsize = 16, weight='bold');\n",
        "plt.xticks(fontsize = 10, weight='bold', rotation=0)\n",
        "plt.yticks(fontsize = 10, weight='bold');"
      ],
      "metadata": {
        "colab": {
          "base_uri": "https://localhost:8080/",
          "height": 0
        },
        "id": "RO_YjrqkC8b7",
        "outputId": "afafb07f-68d4-4a48-946f-b3cc57cd0216"
      },
      "execution_count": 45,
      "outputs": [
        {
          "output_type": "display_data",
          "data": {
            "image/png": "[encoded data removed]",
            "text/plain": [
              "<Figure size 1152x432 with 1 Axes>"
            ]
          },
          "metadata": {
            "needs_background": "light"
          }
        }
      ]
    },
    {
      "cell_type": "markdown",
      "source": [
        "#### **Outlet Establishment Year**"
      ],
      "metadata": {
        "id": "piW3bqv19sZD"
      }
    },
    {
      "cell_type": "markdown",
      "source": [
        "##### **Distribution**"
      ],
      "metadata": {
        "id": "5klK4BK6_qSP"
      }
    },
    {
      "cell_type": "code",
      "source": [
        "plt.figure(figsize = (16, 6))\n",
        "\n",
        "sns.histplot(data=df, x='Outlet_Establishment_Year', color='#069AF3', bins=20); \n",
        "\n",
        "plt.title('Outlet Establishment Year Distribution', fontsize = 22, weight='bold')\n",
        "plt.xlabel('Outlet Establishment Year', fontsize = 16, weight='bold')\n",
        "plt.ylabel('Count', fontsize = 16, weight='bold');\n",
        "plt.xticks(fontsize = 10, weight='bold', rotation=0)\n",
        "plt.yticks(fontsize = 10, weight='bold');"
      ],
      "metadata": {
        "colab": {
          "base_uri": "https://localhost:8080/",
          "height": 0
        },
        "id": "ujFwAyyWBxJO",
        "outputId": "3785df2a-67ff-4438-9090-aee248ebdb3c"
      },
      "execution_count": 46,
      "outputs": [
        {
          "output_type": "display_data",
          "data": {
            "image/png": "[encoded data removed]",
            "text/plain": [
              "<Figure size 1152x432 with 1 Axes>"
            ]
          },
          "metadata": {
            "needs_background": "light"
          }
        }
      ]
    },
    {
      "cell_type": "markdown",
      "source": [
        "##### **Sales**"
      ],
      "metadata": {
        "id": "GXk2caoOARgW"
      }
    },
    {
      "cell_type": "code",
      "source": [
        "plt.figure(figsize = (16, 6))\n",
        "\n",
        "sns.histplot(data=df, x='Outlet_Establishment_Year',y='Item_Outlet_Sales', bins=20, color='#069AF3')\n",
        "\n",
        "plt.title('Outlet Establishment Year vs Outlet Sales', fontsize = 22, weight='bold')\n",
        "plt.xlabel('Outlet Establishment Year', fontsize = 16, weight='bold')\n",
        "plt.ylabel('Item Outlet Sales', fontsize = 16, weight='bold');\n",
        "plt.xticks(fontsize = 10, weight='bold', rotation=0)\n",
        "plt.yticks(fontsize = 10, weight='bold');"
      ],
      "metadata": {
        "colab": {
          "base_uri": "https://localhost:8080/",
          "height": 0
        },
        "id": "_of60w_wDHtU",
        "outputId": "6efb304f-1f50-413b-82dd-d027d8d64c6b"
      },
      "execution_count": 47,
      "outputs": [
        {
          "output_type": "display_data",
          "data": {
            "image/png": "[encoded data removed]",
            "text/plain": [
              "<Figure size 1152x432 with 1 Axes>"
            ]
          },
          "metadata": {
            "needs_background": "light"
          }
        }
      ]
    },
    {
      "cell_type": "markdown",
      "source": [
        "#### **Outlet Size**"
      ],
      "metadata": {
        "id": "FJE04Ymq9s_p"
      }
    },
    {
      "cell_type": "markdown",
      "source": [
        "##### **Distribution**"
      ],
      "metadata": {
        "id": "gEWHKPw4_rnB"
      }
    },
    {
      "cell_type": "code",
      "source": [
        "plt.figure(figsize = (16, 6))\n",
        "\n",
        "sns.histplot(data=df, x='Outlet_Size', color='#069AF3', bins=20); \n",
        "\n",
        "plt.title('Outlet Size Distribution', fontsize = 22, weight='bold')\n",
        "plt.xlabel('Outlet Size Year', fontsize = 16, weight='bold')\n",
        "plt.ylabel('Count', fontsize = 16, weight='bold');\n",
        "plt.xticks(fontsize = 10, weight='bold', rotation=0)\n",
        "plt.yticks(fontsize = 10, weight='bold');"
      ],
      "metadata": {
        "colab": {
          "base_uri": "https://localhost:8080/",
          "height": 0
        },
        "id": "msIN2LllCD-m",
        "outputId": "427aaa2a-9728-4c0f-a096-ff6fd77499ec"
      },
      "execution_count": 48,
      "outputs": [
        {
          "output_type": "display_data",
          "data": {
            "image/png": "[encoded data removed]",
            "text/plain": [
              "<Figure size 1152x432 with 1 Axes>"
            ]
          },
          "metadata": {
            "needs_background": "light"
          }
        }
      ]
    },
    {
      "cell_type": "markdown",
      "source": [
        "##### **Sales**"
      ],
      "metadata": {
        "id": "ietjNqrpATiO"
      }
    },
    {
      "cell_type": "code",
      "source": [
        "plt.figure(figsize = (16, 6))\n",
        "\n",
        "sns.histplot(data=df, x='Outlet_Size',y='Item_Outlet_Sales', bins=20, color='#069AF3')\n",
        "\n",
        "plt.title('Outlet Size vs Outlet Sales', fontsize = 22, weight='bold')\n",
        "plt.xlabel('Outlet Size Year', fontsize = 16, weight='bold')\n",
        "plt.ylabel('Item Outlet Sales', fontsize = 16, weight='bold');\n",
        "plt.xticks(fontsize = 10, weight='bold', rotation=0)\n",
        "plt.yticks(fontsize = 10, weight='bold');"
      ],
      "metadata": {
        "colab": {
          "base_uri": "https://localhost:8080/",
          "height": 0
        },
        "id": "AVEXBR3YDeK8",
        "outputId": "c3ba919d-dd37-4ae7-faab-0869e9e4390b"
      },
      "execution_count": 49,
      "outputs": [
        {
          "output_type": "display_data",
          "data": {
            "image/png": "[encoded data removed]",
            "text/plain": [
              "<Figure size 1152x432 with 1 Axes>"
            ]
          },
          "metadata": {
            "needs_background": "light"
          }
        }
      ]
    },
    {
      "cell_type": "markdown",
      "source": [
        "#### **Outlet Location Type**"
      ],
      "metadata": {
        "id": "lyzAF8h69toY"
      }
    },
    {
      "cell_type": "markdown",
      "source": [
        "##### **Distribution**"
      ],
      "metadata": {
        "id": "lGTMPhyv_tZK"
      }
    },
    {
      "cell_type": "code",
      "source": [
        "plt.figure(figsize = (16, 6))\n",
        "\n",
        "sns.histplot(data=df, x='Outlet_Location_Type', color='#069AF3', bins=20); \n",
        "\n",
        "plt.title('Outlet Location Type Distribution', fontsize = 22, weight='bold')\n",
        "plt.xlabel('Outlet Location Type', fontsize = 16, weight='bold')\n",
        "plt.ylabel('Count', fontsize = 16, weight='bold');\n",
        "plt.xticks(fontsize = 10, weight='bold', rotation=0)\n",
        "plt.yticks(fontsize = 10, weight='bold');"
      ],
      "metadata": {
        "colab": {
          "base_uri": "https://localhost:8080/",
          "height": 0
        },
        "id": "IPzKKDDh_t6d",
        "outputId": "c4eb0c67-8251-457d-acfd-c37d42402190"
      },
      "execution_count": 50,
      "outputs": [
        {
          "output_type": "display_data",
          "data": {
            "image/png": "[encoded data removed]",
            "text/plain": [
              "<Figure size 1152x432 with 1 Axes>"
            ]
          },
          "metadata": {
            "needs_background": "light"
          }
        }
      ]
    },
    {
      "cell_type": "markdown",
      "source": [
        "##### **Sales**"
      ],
      "metadata": {
        "id": "Zt8NcEO0AVST"
      }
    },
    {
      "cell_type": "code",
      "source": [
        "plt.figure(figsize = (16, 6))\n",
        "\n",
        "sns.histplot(data=df, x='Outlet_Location_Type',y='Item_Outlet_Sales', bins=20, color='#069AF3')\n",
        "\n",
        "plt.title('Outlet Location Type vs Outlet Sales', fontsize = 22, weight='bold')\n",
        "plt.xlabel('Outlet Location Type Year', fontsize = 16, weight='bold')\n",
        "plt.ylabel('Item Outlet Sales', fontsize = 16, weight='bold');\n",
        "plt.xticks(fontsize = 10, weight='bold', rotation=0)\n",
        "plt.yticks(fontsize = 10, weight='bold');"
      ],
      "metadata": {
        "colab": {
          "base_uri": "https://localhost:8080/",
          "height": 0
        },
        "id": "hfgGkqIiAV2J",
        "outputId": "a41e4001-364c-4176-e39d-a2ba2bef68b4"
      },
      "execution_count": 51,
      "outputs": [
        {
          "output_type": "display_data",
          "data": {
            "image/png": "[encoded data removed]",
            "text/plain": [
              "<Figure size 1152x432 with 1 Axes>"
            ]
          },
          "metadata": {
            "needs_background": "light"
          }
        }
      ]
    },
    {
      "cell_type": "markdown",
      "source": [
        "#### **Outlet Type**"
      ],
      "metadata": {
        "id": "4jcrAS0Q9wcN"
      }
    },
    {
      "cell_type": "markdown",
      "source": [
        "##### **Distribution**"
      ],
      "metadata": {
        "id": "H-rPUMUo_5eZ"
      }
    },
    {
      "cell_type": "code",
      "source": [
        "plt.figure(figsize = (16, 6))\n",
        "\n",
        "sns.histplot(data=df, x='Outlet_Type', color='#069AF3', bins=20); \n",
        "\n",
        "plt.title('Outlet Type Distribution', fontsize = 22, weight='bold')\n",
        "plt.xlabel('Outlet Type', fontsize = 16, weight='bold')\n",
        "plt.ylabel('Count', fontsize = 16, weight='bold');\n",
        "plt.xticks(fontsize = 10, weight='bold', rotation=0)\n",
        "plt.yticks(fontsize = 10, weight='bold');"
      ],
      "metadata": {
        "colab": {
          "base_uri": "https://localhost:8080/",
          "height": 0
        },
        "id": "Z-KXS6VK_6D-",
        "outputId": "2def7523-100a-4df6-ff77-ffa9530a844e"
      },
      "execution_count": 52,
      "outputs": [
        {
          "output_type": "display_data",
          "data": {
            "image/png": "[encoded data removed]",
            "text/plain": [
              "<Figure size 1152x432 with 1 Axes>"
            ]
          },
          "metadata": {
            "needs_background": "light"
          }
        }
      ]
    },
    {
      "cell_type": "markdown",
      "source": [
        "##### **Sales**"
      ],
      "metadata": {
        "id": "B6gOV5blAX1B"
      }
    },
    {
      "cell_type": "code",
      "source": [
        "plt.figure(figsize = (16, 6))\n",
        "\n",
        "sns.histplot(data=df, x='Outlet_Type',y='Item_Outlet_Sales', bins=20, color='#069AF3')\n",
        "\n",
        "plt.title('Outlet Type vs Outlet Sales', fontsize = 22, weight='bold')\n",
        "plt.xlabel('Outlet Type Year', fontsize = 16, weight='bold')\n",
        "plt.ylabel('Item Outlet Sales', fontsize = 16, weight='bold');\n",
        "plt.xticks(fontsize = 10, weight='bold', rotation=0)\n",
        "plt.yticks(fontsize = 10, weight='bold');"
      ],
      "metadata": {
        "colab": {
          "base_uri": "https://localhost:8080/",
          "height": 0
        },
        "id": "cK0HZHadD8Zh",
        "outputId": "da3b26fc-0a5f-48f0-f50d-d3e2d6a55a59"
      },
      "execution_count": 53,
      "outputs": [
        {
          "output_type": "display_data",
          "data": {
            "image/png": "[encoded data removed]",
            "text/plain": [
              "<Figure size 1152x432 with 1 Axes>"
            ]
          },
          "metadata": {
            "needs_background": "light"
          }
        }
      ]
    },
    {
      "cell_type": "markdown",
      "source": [
        "#### **Correlation Heatmap**"
      ],
      "metadata": {
        "id": "wupOHLcD_9SO"
      }
    },
    {
      "cell_type": "code",
      "source": [
        "plt.figure(figsize = (6, 6))\n",
        "\n",
        "corr = df.corr()\n",
        "sns.heatmap(corr, cmap='winter', annot=True);\n",
        "\n",
        "plt.title('Correlation Heatmap', fontsize = 16, weight='bold')\n",
        "plt.xticks(fontsize = 10, weight='bold', rotation=90)\n",
        "plt.yticks(fontsize = 10, weight='bold');"
      ],
      "metadata": {
        "colab": {
          "base_uri": "https://localhost:8080/",
          "height": 0
        },
        "id": "rd5sQYFwNJ_a",
        "outputId": "0772d94a-5b51-4ea4-d221-f1dea5d83459"
      },
      "execution_count": 54,
      "outputs": [
        {
          "output_type": "display_data",
          "data": {
            "image/png": "[encoded data removed]",
            "text/plain": [
              "<Figure size 432x432 with 2 Axes>"
            ]
          },
          "metadata": {
            "needs_background": "light"
          }
        }
      ]
    },
    {
      "cell_type": "markdown",
      "source": [
        "## **Preprocessing for Machine Learning**"
      ],
      "metadata": {
        "id": "dAuHnCUr_-EG"
      }
    },
    {
      "cell_type": "markdown",
      "source": [
        "We will continue to work on your sales prediction project. The goal of this step is to help the retailer by using machine learning to make predictions about future sales based on the data provided.\n",
        "\n",
        "For Part 5, you will go back to your original dataset with the goal of preventing data leakage.  \n",
        "\n",
        "Please note: If you imputed missing values based on a calculation on the entire dataset (such as mean), you should now perform that step after the train test split using SimpleImputer.  \n",
        "\n",
        "Identify the target (X) and features (y): Assign the \"Item_Outlet_Sales\" column as your target and the rest of the relevant variables as your features matrix.  \n",
        "Perform a train test split \n",
        "Create a pre processing pipeline to prepare the dataset for Machine Learning"
      ],
      "metadata": {
        "id": "DS2vOAKNAGbV"
      }
    },
    {
      "cell_type": "markdown",
      "source": [
        "### **Identify each feature as ordinal, numerical, nominal, or pass through**"
      ],
      "metadata": {
        "id": "xI63NsyjBHtT"
      }
    },
    {
      "cell_type": "markdown",
      "source": [
        "- ordinal features = none\n",
        "- numeric features = ['Item_Weight', 'Item_Visibility', 'Item_MRP]\n",
        "- nominal features = ['Item_Identifier', 'Item_Fat_Content', 'Item_Type', 'Outlet_Identifier', 'Outlet_Location_Type', 'Outlet_Establishment_Year', 'Outlet_Size', 'Outlet_Type']"
      ],
      "metadata": {
        "id": "yRKc66PWBJrc"
      }
    },
    {
      "cell_type": "markdown",
      "source": [
        "### **Validation Split**"
      ],
      "metadata": {
        "id": "MJIJUuaMBdmv"
      }
    },
    {
      "cell_type": "code",
      "source": [
        "# Define features (X) and target (y)\n",
        "X = df.drop(columns = 'Item_Outlet_Sales')\n",
        "y = df['Item_Outlet_Sales']"
      ],
      "metadata": {
        "id": "InFQiRIXBdEH"
      },
      "execution_count": 55,
      "outputs": []
    },
    {
      "cell_type": "code",
      "source": [
        "# Split\n",
        "X_train, X_test, y_train, y_test = train_test_split(X, y, random_state=42)"
      ],
      "metadata": {
        "id": "GmnIF81FBi0v"
      },
      "execution_count": 56,
      "outputs": []
    },
    {
      "cell_type": "markdown",
      "source": [
        "### **Instantiate Column Selectors**"
      ],
      "metadata": {
        "id": "7sBLzSPLBpZs"
      }
    },
    {
      "cell_type": "code",
      "source": [
        "# Selectors\n",
        "cat_selector = make_column_selector(dtype_include='object')\n",
        "num_selector = make_column_selector(dtype_include='number')"
      ],
      "metadata": {
        "id": "1dMBx7j-CVKL"
      },
      "execution_count": 57,
      "outputs": []
    },
    {
      "cell_type": "markdown",
      "source": [
        "### **Instantiate Transformers**"
      ],
      "metadata": {
        "id": "3_MJ12EfBP1M"
      }
    },
    {
      "cell_type": "code",
      "source": [
        "# Imputers\n",
        "freq_imputer = SimpleImputer(strategy='most_frequent')\n",
        "median_imputer = SimpleImputer(strategy='median')\n",
        "# Scaler\n",
        "scaler = StandardScaler()\n",
        "# One Hot Encoder\n",
        "ohe = OneHotEncoder(handle_unknown='ignore', sparse=False)"
      ],
      "metadata": {
        "id": "mJPh9ESZBlqt"
      },
      "execution_count": 58,
      "outputs": []
    },
    {
      "cell_type": "markdown",
      "source": [
        "### **Instantiate Pipelines**"
      ],
      "metadata": {
        "id": "I9QYhz6GBbrY"
      }
    },
    {
      "cell_type": "code",
      "source": [
        "# Numeric pipeline\n",
        "numeric_pipe = make_pipeline(median_imputer, scaler)\n",
        "numeric_pipe"
      ],
      "metadata": {
        "colab": {
          "base_uri": "https://localhost:8080/",
          "height": 126
        },
        "id": "ljedGo0UB4Xi",
        "outputId": "fe36557c-4b86-4e96-d272-42fa5018fef4"
      },
      "execution_count": 59,
      "outputs": [
        {
          "output_type": "execute_result",
          "data": {
            "text/html": [
              "<style>#sk-ef1081d2-de9b-4b13-8e3b-634741ad93e0 {color: black;background-color: white;}#sk-ef1081d2-de9b-4b13-8e3b-634741ad93e0 pre{padding: 0;}#sk-ef1081d2-de9b-4b13-8e3b-634741ad93e0 div.sk-toggleable {background-color: white;}#sk-ef1081d2-de9b-4b13-8e3b-634741ad93e0 label.sk-toggleable__label {cursor: pointer;display: block;width: 100%;margin-bottom: 0;padding: 0.3em;box-sizing: border-box;text-align: center;}#sk-ef1081d2-de9b-4b13-8e3b-634741ad93e0 label.sk-toggleable__label-arrow:before {content: \"▸\";float: left;margin-right: 0.25em;color: #696969;}#sk-ef1081d2-de9b-4b13-8e3b-634741ad93e0 label.sk-toggleable__label-arrow:hover:before {color: black;}#sk-ef1081d2-de9b-4b13-8e3b-634741ad93e0 div.sk-estimator:hover label.sk-toggleable__label-arrow:before {color: black;}#sk-ef1081d2-de9b-4b13-8e3b-634741ad93e0 div.sk-toggleable__content {max-height: 0;max-width: 0;overflow: hidden;text-align: left;background-color: #f0f8ff;}#sk-ef1081d2-de9b-4b13-8e3b-634741ad93e0 div.sk-toggleable__content pre {margin: 0.2em;color: black;border-radius: 0.25em;background-color: #f0f8ff;}#sk-ef1081d2-de9b-4b13-8e3b-634741ad93e0 input.sk-toggleable__control:checked~div.sk-toggleable__content {max-height: 200px;max-width: 100%;overflow: auto;}#sk-ef1081d2-de9b-4b13-8e3b-634741ad93e0 input.sk-toggleable__control:checked~label.sk-toggleable__label-arrow:before {content: \"▾\";}#sk-ef1081d2-de9b-4b13-8e3b-634741ad93e0 div.sk-estimator input.sk-toggleable__control:checked~label.sk-toggleable__label {background-color: #d4ebff;}#sk-ef1081d2-de9b-4b13-8e3b-634741ad93e0 div.sk-label input.sk-toggleable__control:checked~label.sk-toggleable__label {background-color: #d4ebff;}#sk-ef1081d2-de9b-4b13-8e3b-634741ad93e0 input.sk-hidden--visually {border: 0;clip: rect(1px 1px 1px 1px);clip: rect(1px, 1px, 1px, 1px);height: 1px;margin: -1px;overflow: hidden;padding: 0;position: absolute;width: 1px;}#sk-ef1081d2-de9b-4b13-8e3b-634741ad93e0 div.sk-estimator {font-family: monospace;background-color: #f0f8ff;border: 1px dotted black;border-radius: 0.25em;box-sizing: border-box;margin-bottom: 0.5em;}#sk-ef1081d2-de9b-4b13-8e3b-634741ad93e0 div.sk-estimator:hover {background-color: #d4ebff;}#sk-ef1081d2-de9b-4b13-8e3b-634741ad93e0 div.sk-parallel-item::after {content: \"\";width: 100%;border-bottom: 1px solid gray;flex-grow: 1;}#sk-ef1081d2-de9b-4b13-8e3b-634741ad93e0 div.sk-label:hover label.sk-toggleable__label {background-color: #d4ebff;}#sk-ef1081d2-de9b-4b13-8e3b-634741ad93e0 div.sk-serial::before {content: \"\";position: absolute;border-left: 1px solid gray;box-sizing: border-box;top: 2em;bottom: 0;left: 50%;}#sk-ef1081d2-de9b-4b13-8e3b-634741ad93e0 div.sk-serial {display: flex;flex-direction: column;align-items: center;background-color: white;padding-right: 0.2em;padding-left: 0.2em;}#sk-ef1081d2-de9b-4b13-8e3b-634741ad93e0 div.sk-item {z-index: 1;}#sk-ef1081d2-de9b-4b13-8e3b-634741ad93e0 div.sk-parallel {display: flex;align-items: stretch;justify-content: center;background-color: white;}#sk-ef1081d2-de9b-4b13-8e3b-634741ad93e0 div.sk-parallel::before {content: \"\";position: absolute;border-left: 1px solid gray;box-sizing: border-box;top: 2em;bottom: 0;left: 50%;}#sk-ef1081d2-de9b-4b13-8e3b-634741ad93e0 div.sk-parallel-item {display: flex;flex-direction: column;position: relative;background-color: white;}#sk-ef1081d2-de9b-4b13-8e3b-634741ad93e0 div.sk-parallel-item:first-child::after {align-self: flex-end;width: 50%;}#sk-ef1081d2-de9b-4b13-8e3b-634741ad93e0 div.sk-parallel-item:last-child::after {align-self: flex-start;width: 50%;}#sk-ef1081d2-de9b-4b13-8e3b-634741ad93e0 div.sk-parallel-item:only-child::after {width: 0;}#sk-ef1081d2-de9b-4b13-8e3b-634741ad93e0 div.sk-dashed-wrapped {border: 1px dashed gray;margin: 0 0.4em 0.5em 0.4em;box-sizing: border-box;padding-bottom: 0.4em;background-color: white;position: relative;}#sk-ef1081d2-de9b-4b13-8e3b-634741ad93e0 div.sk-label label {font-family: monospace;font-weight: bold;background-color: white;display: inline-block;line-height: 1.2em;}#sk-ef1081d2-de9b-4b13-8e3b-634741ad93e0 div.sk-label-container {position: relative;z-index: 2;text-align: center;}#sk-ef1081d2-de9b-4b13-8e3b-634741ad93e0 div.sk-container {/* jupyter's `normalize.less` sets `[hidden] { display: none; }` but bootstrap.min.css set `[hidden] { display: none !important; }` so we also need the `!important` here to be able to override the default hidden behavior on the sphinx rendered scikit-learn.org. See: https://github.com/scikit-learn/scikit-learn/issues/21755 */display: inline-block !important;position: relative;}#sk-ef1081d2-de9b-4b13-8e3b-634741ad93e0 div.sk-text-repr-fallback {display: none;}</style><div id=\"sk-ef1081d2-de9b-4b13-8e3b-634741ad93e0\" class=\"sk-top-container\"><div class=\"sk-text-repr-fallback\"><pre>Pipeline(steps=[(&#x27;simpleimputer&#x27;, SimpleImputer(strategy=&#x27;median&#x27;)),\n",
              "                (&#x27;standardscaler&#x27;, StandardScaler())])</pre><b>Please rerun this cell to show the HTML repr or trust the notebook.</b></div><div class=\"sk-container\" hidden><div class=\"sk-item sk-dashed-wrapped\"><div class=\"sk-label-container\"><div class=\"sk-label sk-toggleable\"><input class=\"sk-toggleable__control sk-hidden--visually\" id=\"258bc707-2941-46a4-b29a-4b0db1130779\" type=\"checkbox\" ><label for=\"258bc707-2941-46a4-b29a-4b0db1130779\" class=\"sk-toggleable__label sk-toggleable__label-arrow\">Pipeline</label><div class=\"sk-toggleable__content\"><pre>Pipeline(steps=[(&#x27;simpleimputer&#x27;, SimpleImputer(strategy=&#x27;median&#x27;)),\n",
              "                (&#x27;standardscaler&#x27;, StandardScaler())])</pre></div></div></div><div class=\"sk-serial\"><div class=\"sk-item\"><div class=\"sk-estimator sk-toggleable\"><input class=\"sk-toggleable__control sk-hidden--visually\" id=\"25f0809b-ac06-4ae8-83f5-83cacd6ed62b\" type=\"checkbox\" ><label for=\"25f0809b-ac06-4ae8-83f5-83cacd6ed62b\" class=\"sk-toggleable__label sk-toggleable__label-arrow\">SimpleImputer</label><div class=\"sk-toggleable__content\"><pre>SimpleImputer(strategy=&#x27;median&#x27;)</pre></div></div></div><div class=\"sk-item\"><div class=\"sk-estimator sk-toggleable\"><input class=\"sk-toggleable__control sk-hidden--visually\" id=\"30a8f5a0-78a2-4979-8372-17c1a86c392d\" type=\"checkbox\" ><label for=\"30a8f5a0-78a2-4979-8372-17c1a86c392d\" class=\"sk-toggleable__label sk-toggleable__label-arrow\">StandardScaler</label><div class=\"sk-toggleable__content\"><pre>StandardScaler()</pre></div></div></div></div></div></div></div>"
            ],
            "text/plain": [
              "Pipeline(steps=[('simpleimputer', SimpleImputer(strategy='median')),\n",
              "                ('standardscaler', StandardScaler())])"
            ]
          },
          "metadata": {},
          "execution_count": 59
        }
      ]
    },
    {
      "cell_type": "code",
      "source": [
        "# Categorical pipeline\n",
        "categorical_pipe = make_pipeline(freq_imputer, ohe)\n",
        "categorical_pipe"
      ],
      "metadata": {
        "colab": {
          "base_uri": "https://localhost:8080/",
          "height": 126
        },
        "id": "VUB4INtqB8Qg",
        "outputId": "a974e2d1-ff91-4912-fb5c-50a3ce6534ff"
      },
      "execution_count": 60,
      "outputs": [
        {
          "output_type": "execute_result",
          "data": {
            "text/html": [
              "<style>#sk-57ae0e06-c1f0-4a41-8d61-8287e563114d {color: black;background-color: white;}#sk-57ae0e06-c1f0-4a41-8d61-8287e563114d pre{padding: 0;}#sk-57ae0e06-c1f0-4a41-8d61-8287e563114d div.sk-toggleable {background-color: white;}#sk-57ae0e06-c1f0-4a41-8d61-8287e563114d label.sk-toggleable__label {cursor: pointer;display: block;width: 100%;margin-bottom: 0;padding: 0.3em;box-sizing: border-box;text-align: center;}#sk-57ae0e06-c1f0-4a41-8d61-8287e563114d label.sk-toggleable__label-arrow:before {content: \"▸\";float: left;margin-right: 0.25em;color: #696969;}#sk-57ae0e06-c1f0-4a41-8d61-8287e563114d label.sk-toggleable__label-arrow:hover:before {color: black;}#sk-57ae0e06-c1f0-4a41-8d61-8287e563114d div.sk-estimator:hover label.sk-toggleable__label-arrow:before {color: black;}#sk-57ae0e06-c1f0-4a41-8d61-8287e563114d div.sk-toggleable__content {max-height: 0;max-width: 0;overflow: hidden;text-align: left;background-color: #f0f8ff;}#sk-57ae0e06-c1f0-4a41-8d61-8287e563114d div.sk-toggleable__content pre {margin: 0.2em;color: black;border-radius: 0.25em;background-color: #f0f8ff;}#sk-57ae0e06-c1f0-4a41-8d61-8287e563114d input.sk-toggleable__control:checked~div.sk-toggleable__content {max-height: 200px;max-width: 100%;overflow: auto;}#sk-57ae0e06-c1f0-4a41-8d61-8287e563114d input.sk-toggleable__control:checked~label.sk-toggleable__label-arrow:before {content: \"▾\";}#sk-57ae0e06-c1f0-4a41-8d61-8287e563114d div.sk-estimator input.sk-toggleable__control:checked~label.sk-toggleable__label {background-color: #d4ebff;}#sk-57ae0e06-c1f0-4a41-8d61-8287e563114d div.sk-label input.sk-toggleable__control:checked~label.sk-toggleable__label {background-color: #d4ebff;}#sk-57ae0e06-c1f0-4a41-8d61-8287e563114d input.sk-hidden--visually {border: 0;clip: rect(1px 1px 1px 1px);clip: rect(1px, 1px, 1px, 1px);height: 1px;margin: -1px;overflow: hidden;padding: 0;position: absolute;width: 1px;}#sk-57ae0e06-c1f0-4a41-8d61-8287e563114d div.sk-estimator {font-family: monospace;background-color: #f0f8ff;border: 1px dotted black;border-radius: 0.25em;box-sizing: border-box;margin-bottom: 0.5em;}#sk-57ae0e06-c1f0-4a41-8d61-8287e563114d div.sk-estimator:hover {background-color: #d4ebff;}#sk-57ae0e06-c1f0-4a41-8d61-8287e563114d div.sk-parallel-item::after {content: \"\";width: 100%;border-bottom: 1px solid gray;flex-grow: 1;}#sk-57ae0e06-c1f0-4a41-8d61-8287e563114d div.sk-label:hover label.sk-toggleable__label {background-color: #d4ebff;}#sk-57ae0e06-c1f0-4a41-8d61-8287e563114d div.sk-serial::before {content: \"\";position: absolute;border-left: 1px solid gray;box-sizing: border-box;top: 2em;bottom: 0;left: 50%;}#sk-57ae0e06-c1f0-4a41-8d61-8287e563114d div.sk-serial {display: flex;flex-direction: column;align-items: center;background-color: white;padding-right: 0.2em;padding-left: 0.2em;}#sk-57ae0e06-c1f0-4a41-8d61-8287e563114d div.sk-item {z-index: 1;}#sk-57ae0e06-c1f0-4a41-8d61-8287e563114d div.sk-parallel {display: flex;align-items: stretch;justify-content: center;background-color: white;}#sk-57ae0e06-c1f0-4a41-8d61-8287e563114d div.sk-parallel::before {content: \"\";position: absolute;border-left: 1px solid gray;box-sizing: border-box;top: 2em;bottom: 0;left: 50%;}#sk-57ae0e06-c1f0-4a41-8d61-8287e563114d div.sk-parallel-item {display: flex;flex-direction: column;position: relative;background-color: white;}#sk-57ae0e06-c1f0-4a41-8d61-8287e563114d div.sk-parallel-item:first-child::after {align-self: flex-end;width: 50%;}#sk-57ae0e06-c1f0-4a41-8d61-8287e563114d div.sk-parallel-item:last-child::after {align-self: flex-start;width: 50%;}#sk-57ae0e06-c1f0-4a41-8d61-8287e563114d div.sk-parallel-item:only-child::after {width: 0;}#sk-57ae0e06-c1f0-4a41-8d61-8287e563114d div.sk-dashed-wrapped {border: 1px dashed gray;margin: 0 0.4em 0.5em 0.4em;box-sizing: border-box;padding-bottom: 0.4em;background-color: white;position: relative;}#sk-57ae0e06-c1f0-4a41-8d61-8287e563114d div.sk-label label {font-family: monospace;font-weight: bold;background-color: white;display: inline-block;line-height: 1.2em;}#sk-57ae0e06-c1f0-4a41-8d61-8287e563114d div.sk-label-container {position: relative;z-index: 2;text-align: center;}#sk-57ae0e06-c1f0-4a41-8d61-8287e563114d div.sk-container {/* jupyter's `normalize.less` sets `[hidden] { display: none; }` but bootstrap.min.css set `[hidden] { display: none !important; }` so we also need the `!important` here to be able to override the default hidden behavior on the sphinx rendered scikit-learn.org. See: https://github.com/scikit-learn/scikit-learn/issues/21755 */display: inline-block !important;position: relative;}#sk-57ae0e06-c1f0-4a41-8d61-8287e563114d div.sk-text-repr-fallback {display: none;}</style><div id=\"sk-57ae0e06-c1f0-4a41-8d61-8287e563114d\" class=\"sk-top-container\"><div class=\"sk-text-repr-fallback\"><pre>Pipeline(steps=[(&#x27;simpleimputer&#x27;, SimpleImputer(strategy=&#x27;most_frequent&#x27;)),\n",
              "                (&#x27;onehotencoder&#x27;,\n",
              "                 OneHotEncoder(handle_unknown=&#x27;ignore&#x27;, sparse=False))])</pre><b>Please rerun this cell to show the HTML repr or trust the notebook.</b></div><div class=\"sk-container\" hidden><div class=\"sk-item sk-dashed-wrapped\"><div class=\"sk-label-container\"><div class=\"sk-label sk-toggleable\"><input class=\"sk-toggleable__control sk-hidden--visually\" id=\"6705e155-f922-45e6-b71c-80761897c379\" type=\"checkbox\" ><label for=\"6705e155-f922-45e6-b71c-80761897c379\" class=\"sk-toggleable__label sk-toggleable__label-arrow\">Pipeline</label><div class=\"sk-toggleable__content\"><pre>Pipeline(steps=[(&#x27;simpleimputer&#x27;, SimpleImputer(strategy=&#x27;most_frequent&#x27;)),\n",
              "                (&#x27;onehotencoder&#x27;,\n",
              "                 OneHotEncoder(handle_unknown=&#x27;ignore&#x27;, sparse=False))])</pre></div></div></div><div class=\"sk-serial\"><div class=\"sk-item\"><div class=\"sk-estimator sk-toggleable\"><input class=\"sk-toggleable__control sk-hidden--visually\" id=\"2a048c93-8a73-4cfc-a7ba-ca233bb70846\" type=\"checkbox\" ><label for=\"2a048c93-8a73-4cfc-a7ba-ca233bb70846\" class=\"sk-toggleable__label sk-toggleable__label-arrow\">SimpleImputer</label><div class=\"sk-toggleable__content\"><pre>SimpleImputer(strategy=&#x27;most_frequent&#x27;)</pre></div></div></div><div class=\"sk-item\"><div class=\"sk-estimator sk-toggleable\"><input class=\"sk-toggleable__control sk-hidden--visually\" id=\"080fc516-9675-4eb6-8afb-c1a71a81c74d\" type=\"checkbox\" ><label for=\"080fc516-9675-4eb6-8afb-c1a71a81c74d\" class=\"sk-toggleable__label sk-toggleable__label-arrow\">OneHotEncoder</label><div class=\"sk-toggleable__content\"><pre>OneHotEncoder(handle_unknown=&#x27;ignore&#x27;, sparse=False)</pre></div></div></div></div></div></div></div>"
            ],
            "text/plain": [
              "Pipeline(steps=[('simpleimputer', SimpleImputer(strategy='most_frequent')),\n",
              "                ('onehotencoder',\n",
              "                 OneHotEncoder(handle_unknown='ignore', sparse=False))])"
            ]
          },
          "metadata": {},
          "execution_count": 60
        }
      ]
    },
    {
      "cell_type": "markdown",
      "source": [
        "### **Instantiate ColumnTransformer**"
      ],
      "metadata": {
        "id": "IyyJcylbBinz"
      }
    },
    {
      "cell_type": "code",
      "source": [
        "# Tuples for Column Transformer\n",
        "number_tuple = (numeric_pipe, num_selector)\n",
        "category_tuple = (categorical_pipe, cat_selector)\n",
        "\n",
        "# ColumnTransformer\n",
        "preprocessor = make_column_transformer(number_tuple, category_tuple)\n",
        "preprocessor"
      ],
      "metadata": {
        "colab": {
          "base_uri": "https://localhost:8080/",
          "height": 152
        },
        "id": "GUMU9szJCBDl",
        "outputId": "cb576c1a-538e-44cb-f213-57777962f411"
      },
      "execution_count": 61,
      "outputs": [
        {
          "output_type": "execute_result",
          "data": {
            "text/html": [
              "<style>#sk-2486b1c1-77ac-4256-a912-9072bf41726f {color: black;background-color: white;}#sk-2486b1c1-77ac-4256-a912-9072bf41726f pre{padding: 0;}#sk-2486b1c1-77ac-4256-a912-9072bf41726f div.sk-toggleable {background-color: white;}#sk-2486b1c1-77ac-4256-a912-9072bf41726f label.sk-toggleable__label {cursor: pointer;display: block;width: 100%;margin-bottom: 0;padding: 0.3em;box-sizing: border-box;text-align: center;}#sk-2486b1c1-77ac-4256-a912-9072bf41726f label.sk-toggleable__label-arrow:before {content: \"▸\";float: left;margin-right: 0.25em;color: #696969;}#sk-2486b1c1-77ac-4256-a912-9072bf41726f label.sk-toggleable__label-arrow:hover:before {color: black;}#sk-2486b1c1-77ac-4256-a912-9072bf41726f div.sk-estimator:hover label.sk-toggleable__label-arrow:before {color: black;}#sk-2486b1c1-77ac-4256-a912-9072bf41726f div.sk-toggleable__content {max-height: 0;max-width: 0;overflow: hidden;text-align: left;background-color: #f0f8ff;}#sk-2486b1c1-77ac-4256-a912-9072bf41726f div.sk-toggleable__content pre {margin: 0.2em;color: black;border-radius: 0.25em;background-color: #f0f8ff;}#sk-2486b1c1-77ac-4256-a912-9072bf41726f input.sk-toggleable__control:checked~div.sk-toggleable__content {max-height: 200px;max-width: 100%;overflow: auto;}#sk-2486b1c1-77ac-4256-a912-9072bf41726f input.sk-toggleable__control:checked~label.sk-toggleable__label-arrow:before {content: \"▾\";}#sk-2486b1c1-77ac-4256-a912-9072bf41726f div.sk-estimator input.sk-toggleable__control:checked~label.sk-toggleable__label {background-color: #d4ebff;}#sk-2486b1c1-77ac-4256-a912-9072bf41726f div.sk-label input.sk-toggleable__control:checked~label.sk-toggleable__label {background-color: #d4ebff;}#sk-2486b1c1-77ac-4256-a912-9072bf41726f input.sk-hidden--visually {border: 0;clip: rect(1px 1px 1px 1px);clip: rect(1px, 1px, 1px, 1px);height: 1px;margin: -1px;overflow: hidden;padding: 0;position: absolute;width: 1px;}#sk-2486b1c1-77ac-4256-a912-9072bf41726f div.sk-estimator {font-family: monospace;background-color: #f0f8ff;border: 1px dotted black;border-radius: 0.25em;box-sizing: border-box;margin-bottom: 0.5em;}#sk-2486b1c1-77ac-4256-a912-9072bf41726f div.sk-estimator:hover {background-color: #d4ebff;}#sk-2486b1c1-77ac-4256-a912-9072bf41726f div.sk-parallel-item::after {content: \"\";width: 100%;border-bottom: 1px solid gray;flex-grow: 1;}#sk-2486b1c1-77ac-4256-a912-9072bf41726f div.sk-label:hover label.sk-toggleable__label {background-color: #d4ebff;}#sk-2486b1c1-77ac-4256-a912-9072bf41726f div.sk-serial::before {content: \"\";position: absolute;border-left: 1px solid gray;box-sizing: border-box;top: 2em;bottom: 0;left: 50%;}#sk-2486b1c1-77ac-4256-a912-9072bf41726f div.sk-serial {display: flex;flex-direction: column;align-items: center;background-color: white;padding-right: 0.2em;padding-left: 0.2em;}#sk-2486b1c1-77ac-4256-a912-9072bf41726f div.sk-item {z-index: 1;}#sk-2486b1c1-77ac-4256-a912-9072bf41726f div.sk-parallel {display: flex;align-items: stretch;justify-content: center;background-color: white;}#sk-2486b1c1-77ac-4256-a912-9072bf41726f div.sk-parallel::before {content: \"\";position: absolute;border-left: 1px solid gray;box-sizing: border-box;top: 2em;bottom: 0;left: 50%;}#sk-2486b1c1-77ac-4256-a912-9072bf41726f div.sk-parallel-item {display: flex;flex-direction: column;position: relative;background-color: white;}#sk-2486b1c1-77ac-4256-a912-9072bf41726f div.sk-parallel-item:first-child::after {align-self: flex-end;width: 50%;}#sk-2486b1c1-77ac-4256-a912-9072bf41726f div.sk-parallel-item:last-child::after {align-self: flex-start;width: 50%;}#sk-2486b1c1-77ac-4256-a912-9072bf41726f div.sk-parallel-item:only-child::after {width: 0;}#sk-2486b1c1-77ac-4256-a912-9072bf41726f div.sk-dashed-wrapped {border: 1px dashed gray;margin: 0 0.4em 0.5em 0.4em;box-sizing: border-box;padding-bottom: 0.4em;background-color: white;position: relative;}#sk-2486b1c1-77ac-4256-a912-9072bf41726f div.sk-label label {font-family: monospace;font-weight: bold;background-color: white;display: inline-block;line-height: 1.2em;}#sk-2486b1c1-77ac-4256-a912-9072bf41726f div.sk-label-container {position: relative;z-index: 2;text-align: center;}#sk-2486b1c1-77ac-4256-a912-9072bf41726f div.sk-container {/* jupyter's `normalize.less` sets `[hidden] { display: none; }` but bootstrap.min.css set `[hidden] { display: none !important; }` so we also need the `!important` here to be able to override the default hidden behavior on the sphinx rendered scikit-learn.org. See: https://github.com/scikit-learn/scikit-learn/issues/21755 */display: inline-block !important;position: relative;}#sk-2486b1c1-77ac-4256-a912-9072bf41726f div.sk-text-repr-fallback {display: none;}</style><div id=\"sk-2486b1c1-77ac-4256-a912-9072bf41726f\" class=\"sk-top-container\"><div class=\"sk-text-repr-fallback\"><pre>ColumnTransformer(transformers=[(&#x27;pipeline-1&#x27;,\n",
              "                                 Pipeline(steps=[(&#x27;simpleimputer&#x27;,\n",
              "                                                  SimpleImputer(strategy=&#x27;median&#x27;)),\n",
              "                                                 (&#x27;standardscaler&#x27;,\n",
              "                                                  StandardScaler())]),\n",
              "                                 &lt;sklearn.compose._column_transformer.make_column_selector object at 0x7f8a505d2550&gt;),\n",
              "                                (&#x27;pipeline-2&#x27;,\n",
              "                                 Pipeline(steps=[(&#x27;simpleimputer&#x27;,\n",
              "                                                  SimpleImputer(strategy=&#x27;most_frequent&#x27;)),\n",
              "                                                 (&#x27;onehotencoder&#x27;,\n",
              "                                                  OneHotEncoder(handle_unknown=&#x27;ignore&#x27;,\n",
              "                                                                sparse=False))]),\n",
              "                                 &lt;sklearn.compose._column_transformer.make_column_selector object at 0x7f8a505d2d10&gt;)])</pre><b>Please rerun this cell to show the HTML repr or trust the notebook.</b></div><div class=\"sk-container\" hidden><div class=\"sk-item sk-dashed-wrapped\"><div class=\"sk-label-container\"><div class=\"sk-label sk-toggleable\"><input class=\"sk-toggleable__control sk-hidden--visually\" id=\"ffcea955-3fb2-45dd-8cee-659ffc665e3b\" type=\"checkbox\" ><label for=\"ffcea955-3fb2-45dd-8cee-659ffc665e3b\" class=\"sk-toggleable__label sk-toggleable__label-arrow\">ColumnTransformer</label><div class=\"sk-toggleable__content\"><pre>ColumnTransformer(transformers=[(&#x27;pipeline-1&#x27;,\n",
              "                                 Pipeline(steps=[(&#x27;simpleimputer&#x27;,\n",
              "                                                  SimpleImputer(strategy=&#x27;median&#x27;)),\n",
              "                                                 (&#x27;standardscaler&#x27;,\n",
              "                                                  StandardScaler())]),\n",
              "                                 &lt;sklearn.compose._column_transformer.make_column_selector object at 0x7f8a505d2550&gt;),\n",
              "                                (&#x27;pipeline-2&#x27;,\n",
              "                                 Pipeline(steps=[(&#x27;simpleimputer&#x27;,\n",
              "                                                  SimpleImputer(strategy=&#x27;most_frequent&#x27;)),\n",
              "                                                 (&#x27;onehotencoder&#x27;,\n",
              "                                                  OneHotEncoder(handle_unknown=&#x27;ignore&#x27;,\n",
              "                                                                sparse=False))]),\n",
              "                                 &lt;sklearn.compose._column_transformer.make_column_selector object at 0x7f8a505d2d10&gt;)])</pre></div></div></div><div class=\"sk-parallel\"><div class=\"sk-parallel-item\"><div class=\"sk-item\"><div class=\"sk-label-container\"><div class=\"sk-label sk-toggleable\"><input class=\"sk-toggleable__control sk-hidden--visually\" id=\"b60a713f-1e05-48fc-85fb-fbc8c668b5aa\" type=\"checkbox\" ><label for=\"b60a713f-1e05-48fc-85fb-fbc8c668b5aa\" class=\"sk-toggleable__label sk-toggleable__label-arrow\">pipeline-1</label><div class=\"sk-toggleable__content\"><pre>&lt;sklearn.compose._column_transformer.make_column_selector object at 0x7f8a505d2550&gt;</pre></div></div></div><div class=\"sk-serial\"><div class=\"sk-item\"><div class=\"sk-serial\"><div class=\"sk-item\"><div class=\"sk-estimator sk-toggleable\"><input class=\"sk-toggleable__control sk-hidden--visually\" id=\"d1b6a042-ef5f-4fe2-abc1-acdb8e95ccb0\" type=\"checkbox\" ><label for=\"d1b6a042-ef5f-4fe2-abc1-acdb8e95ccb0\" class=\"sk-toggleable__label sk-toggleable__label-arrow\">SimpleImputer</label><div class=\"sk-toggleable__content\"><pre>SimpleImputer(strategy=&#x27;median&#x27;)</pre></div></div></div><div class=\"sk-item\"><div class=\"sk-estimator sk-toggleable\"><input class=\"sk-toggleable__control sk-hidden--visually\" id=\"4668a602-df2e-4ae3-a6ea-45e5955ff3e0\" type=\"checkbox\" ><label for=\"4668a602-df2e-4ae3-a6ea-45e5955ff3e0\" class=\"sk-toggleable__label sk-toggleable__label-arrow\">StandardScaler</label><div class=\"sk-toggleable__content\"><pre>StandardScaler()</pre></div></div></div></div></div></div></div></div><div class=\"sk-parallel-item\"><div class=\"sk-item\"><div class=\"sk-label-container\"><div class=\"sk-label sk-toggleable\"><input class=\"sk-toggleable__control sk-hidden--visually\" id=\"f5913b6c-fdb6-433c-b093-8755f032f026\" type=\"checkbox\" ><label for=\"f5913b6c-fdb6-433c-b093-8755f032f026\" class=\"sk-toggleable__label sk-toggleable__label-arrow\">pipeline-2</label><div class=\"sk-toggleable__content\"><pre>&lt;sklearn.compose._column_transformer.make_column_selector object at 0x7f8a505d2d10&gt;</pre></div></div></div><div class=\"sk-serial\"><div class=\"sk-item\"><div class=\"sk-serial\"><div class=\"sk-item\"><div class=\"sk-estimator sk-toggleable\"><input class=\"sk-toggleable__control sk-hidden--visually\" id=\"1a3d0333-9e3b-48dd-800b-f8f2cce42b87\" type=\"checkbox\" ><label for=\"1a3d0333-9e3b-48dd-800b-f8f2cce42b87\" class=\"sk-toggleable__label sk-toggleable__label-arrow\">SimpleImputer</label><div class=\"sk-toggleable__content\"><pre>SimpleImputer(strategy=&#x27;most_frequent&#x27;)</pre></div></div></div><div class=\"sk-item\"><div class=\"sk-estimator sk-toggleable\"><input class=\"sk-toggleable__control sk-hidden--visually\" id=\"cd2cd00f-6643-4d92-b23d-090590133c28\" type=\"checkbox\" ><label for=\"cd2cd00f-6643-4d92-b23d-090590133c28\" class=\"sk-toggleable__label sk-toggleable__label-arrow\">OneHotEncoder</label><div class=\"sk-toggleable__content\"><pre>OneHotEncoder(handle_unknown=&#x27;ignore&#x27;, sparse=False)</pre></div></div></div></div></div></div></div></div></div></div></div></div>"
            ],
            "text/plain": [
              "ColumnTransformer(transformers=[('pipeline-1',\n",
              "                                 Pipeline(steps=[('simpleimputer',\n",
              "                                                  SimpleImputer(strategy='median')),\n",
              "                                                 ('standardscaler',\n",
              "                                                  StandardScaler())]),\n",
              "                                 <sklearn.compose._column_transformer.make_column_selector object at 0x7f8a505d2550>),\n",
              "                                ('pipeline-2',\n",
              "                                 Pipeline(steps=[('simpleimputer',\n",
              "                                                  SimpleImputer(strategy='most_frequent')),\n",
              "                                                 ('onehotencoder',\n",
              "                                                  OneHotEncoder(handle_unknown='ignore',\n",
              "                                                                sparse=False))]),\n",
              "                                 <sklearn.compose._column_transformer.make_column_selector object at 0x7f8a505d2d10>)])"
            ]
          },
          "metadata": {},
          "execution_count": 61
        }
      ]
    },
    {
      "cell_type": "markdown",
      "source": [
        "### **Transform Data**"
      ],
      "metadata": {
        "id": "UWx7IUbSBqCG"
      }
    },
    {
      "cell_type": "code",
      "source": [
        "# Fit on Train\n",
        "preprocessor.fit(X_train)"
      ],
      "metadata": {
        "colab": {
          "base_uri": "https://localhost:8080/",
          "height": 152
        },
        "id": "o6M3u2CRCfIS",
        "outputId": "4901c47b-2ffe-4c1a-df89-c60a8cb210cc"
      },
      "execution_count": 62,
      "outputs": [
        {
          "output_type": "execute_result",
          "data": {
            "text/html": [
              "<style>#sk-e2b218be-9b07-4e29-b6a4-a9cdff499598 {color: black;background-color: white;}#sk-e2b218be-9b07-4e29-b6a4-a9cdff499598 pre{padding: 0;}#sk-e2b218be-9b07-4e29-b6a4-a9cdff499598 div.sk-toggleable {background-color: white;}#sk-e2b218be-9b07-4e29-b6a4-a9cdff499598 label.sk-toggleable__label {cursor: pointer;display: block;width: 100%;margin-bottom: 0;padding: 0.3em;box-sizing: border-box;text-align: center;}#sk-e2b218be-9b07-4e29-b6a4-a9cdff499598 label.sk-toggleable__label-arrow:before {content: \"▸\";float: left;margin-right: 0.25em;color: #696969;}#sk-e2b218be-9b07-4e29-b6a4-a9cdff499598 label.sk-toggleable__label-arrow:hover:before {color: black;}#sk-e2b218be-9b07-4e29-b6a4-a9cdff499598 div.sk-estimator:hover label.sk-toggleable__label-arrow:before {color: black;}#sk-e2b218be-9b07-4e29-b6a4-a9cdff499598 div.sk-toggleable__content {max-height: 0;max-width: 0;overflow: hidden;text-align: left;background-color: #f0f8ff;}#sk-e2b218be-9b07-4e29-b6a4-a9cdff499598 div.sk-toggleable__content pre {margin: 0.2em;color: black;border-radius: 0.25em;background-color: #f0f8ff;}#sk-e2b218be-9b07-4e29-b6a4-a9cdff499598 input.sk-toggleable__control:checked~div.sk-toggleable__content {max-height: 200px;max-width: 100%;overflow: auto;}#sk-e2b218be-9b07-4e29-b6a4-a9cdff499598 input.sk-toggleable__control:checked~label.sk-toggleable__label-arrow:before {content: \"▾\";}#sk-e2b218be-9b07-4e29-b6a4-a9cdff499598 div.sk-estimator input.sk-toggleable__control:checked~label.sk-toggleable__label {background-color: #d4ebff;}#sk-e2b218be-9b07-4e29-b6a4-a9cdff499598 div.sk-label input.sk-toggleable__control:checked~label.sk-toggleable__label {background-color: #d4ebff;}#sk-e2b218be-9b07-4e29-b6a4-a9cdff499598 input.sk-hidden--visually {border: 0;clip: rect(1px 1px 1px 1px);clip: rect(1px, 1px, 1px, 1px);height: 1px;margin: -1px;overflow: hidden;padding: 0;position: absolute;width: 1px;}#sk-e2b218be-9b07-4e29-b6a4-a9cdff499598 div.sk-estimator {font-family: monospace;background-color: #f0f8ff;border: 1px dotted black;border-radius: 0.25em;box-sizing: border-box;margin-bottom: 0.5em;}#sk-e2b218be-9b07-4e29-b6a4-a9cdff499598 div.sk-estimator:hover {background-color: #d4ebff;}#sk-e2b218be-9b07-4e29-b6a4-a9cdff499598 div.sk-parallel-item::after {content: \"\";width: 100%;border-bottom: 1px solid gray;flex-grow: 1;}#sk-e2b218be-9b07-4e29-b6a4-a9cdff499598 div.sk-label:hover label.sk-toggleable__label {background-color: #d4ebff;}#sk-e2b218be-9b07-4e29-b6a4-a9cdff499598 div.sk-serial::before {content: \"\";position: absolute;border-left: 1px solid gray;box-sizing: border-box;top: 2em;bottom: 0;left: 50%;}#sk-e2b218be-9b07-4e29-b6a4-a9cdff499598 div.sk-serial {display: flex;flex-direction: column;align-items: center;background-color: white;padding-right: 0.2em;padding-left: 0.2em;}#sk-e2b218be-9b07-4e29-b6a4-a9cdff499598 div.sk-item {z-index: 1;}#sk-e2b218be-9b07-4e29-b6a4-a9cdff499598 div.sk-parallel {display: flex;align-items: stretch;justify-content: center;background-color: white;}#sk-e2b218be-9b07-4e29-b6a4-a9cdff499598 div.sk-parallel::before {content: \"\";position: absolute;border-left: 1px solid gray;box-sizing: border-box;top: 2em;bottom: 0;left: 50%;}#sk-e2b218be-9b07-4e29-b6a4-a9cdff499598 div.sk-parallel-item {display: flex;flex-direction: column;position: relative;background-color: white;}#sk-e2b218be-9b07-4e29-b6a4-a9cdff499598 div.sk-parallel-item:first-child::after {align-self: flex-end;width: 50%;}#sk-e2b218be-9b07-4e29-b6a4-a9cdff499598 div.sk-parallel-item:last-child::after {align-self: flex-start;width: 50%;}#sk-e2b218be-9b07-4e29-b6a4-a9cdff499598 div.sk-parallel-item:only-child::after {width: 0;}#sk-e2b218be-9b07-4e29-b6a4-a9cdff499598 div.sk-dashed-wrapped {border: 1px dashed gray;margin: 0 0.4em 0.5em 0.4em;box-sizing: border-box;padding-bottom: 0.4em;background-color: white;position: relative;}#sk-e2b218be-9b07-4e29-b6a4-a9cdff499598 div.sk-label label {font-family: monospace;font-weight: bold;background-color: white;display: inline-block;line-height: 1.2em;}#sk-e2b218be-9b07-4e29-b6a4-a9cdff499598 div.sk-label-container {position: relative;z-index: 2;text-align: center;}#sk-e2b218be-9b07-4e29-b6a4-a9cdff499598 div.sk-container {/* jupyter's `normalize.less` sets `[hidden] { display: none; }` but bootstrap.min.css set `[hidden] { display: none !important; }` so we also need the `!important` here to be able to override the default hidden behavior on the sphinx rendered scikit-learn.org. See: https://github.com/scikit-learn/scikit-learn/issues/21755 */display: inline-block !important;position: relative;}#sk-e2b218be-9b07-4e29-b6a4-a9cdff499598 div.sk-text-repr-fallback {display: none;}</style><div id=\"sk-e2b218be-9b07-4e29-b6a4-a9cdff499598\" class=\"sk-top-container\"><div class=\"sk-text-repr-fallback\"><pre>ColumnTransformer(transformers=[(&#x27;pipeline-1&#x27;,\n",
              "                                 Pipeline(steps=[(&#x27;simpleimputer&#x27;,\n",
              "                                                  SimpleImputer(strategy=&#x27;median&#x27;)),\n",
              "                                                 (&#x27;standardscaler&#x27;,\n",
              "                                                  StandardScaler())]),\n",
              "                                 &lt;sklearn.compose._column_transformer.make_column_selector object at 0x7f8a505d2550&gt;),\n",
              "                                (&#x27;pipeline-2&#x27;,\n",
              "                                 Pipeline(steps=[(&#x27;simpleimputer&#x27;,\n",
              "                                                  SimpleImputer(strategy=&#x27;most_frequent&#x27;)),\n",
              "                                                 (&#x27;onehotencoder&#x27;,\n",
              "                                                  OneHotEncoder(handle_unknown=&#x27;ignore&#x27;,\n",
              "                                                                sparse=False))]),\n",
              "                                 &lt;sklearn.compose._column_transformer.make_column_selector object at 0x7f8a505d2d10&gt;)])</pre><b>Please rerun this cell to show the HTML repr or trust the notebook.</b></div><div class=\"sk-container\" hidden><div class=\"sk-item sk-dashed-wrapped\"><div class=\"sk-label-container\"><div class=\"sk-label sk-toggleable\"><input class=\"sk-toggleable__control sk-hidden--visually\" id=\"b64ca286-ae8c-4d6c-9f45-2af2042c1427\" type=\"checkbox\" ><label for=\"b64ca286-ae8c-4d6c-9f45-2af2042c1427\" class=\"sk-toggleable__label sk-toggleable__label-arrow\">ColumnTransformer</label><div class=\"sk-toggleable__content\"><pre>ColumnTransformer(transformers=[(&#x27;pipeline-1&#x27;,\n",
              "                                 Pipeline(steps=[(&#x27;simpleimputer&#x27;,\n",
              "                                                  SimpleImputer(strategy=&#x27;median&#x27;)),\n",
              "                                                 (&#x27;standardscaler&#x27;,\n",
              "                                                  StandardScaler())]),\n",
              "                                 &lt;sklearn.compose._column_transformer.make_column_selector object at 0x7f8a505d2550&gt;),\n",
              "                                (&#x27;pipeline-2&#x27;,\n",
              "                                 Pipeline(steps=[(&#x27;simpleimputer&#x27;,\n",
              "                                                  SimpleImputer(strategy=&#x27;most_frequent&#x27;)),\n",
              "                                                 (&#x27;onehotencoder&#x27;,\n",
              "                                                  OneHotEncoder(handle_unknown=&#x27;ignore&#x27;,\n",
              "                                                                sparse=False))]),\n",
              "                                 &lt;sklearn.compose._column_transformer.make_column_selector object at 0x7f8a505d2d10&gt;)])</pre></div></div></div><div class=\"sk-parallel\"><div class=\"sk-parallel-item\"><div class=\"sk-item\"><div class=\"sk-label-container\"><div class=\"sk-label sk-toggleable\"><input class=\"sk-toggleable__control sk-hidden--visually\" id=\"53dbb573-d17e-4f13-8ac3-c1d535098960\" type=\"checkbox\" ><label for=\"53dbb573-d17e-4f13-8ac3-c1d535098960\" class=\"sk-toggleable__label sk-toggleable__label-arrow\">pipeline-1</label><div class=\"sk-toggleable__content\"><pre>&lt;sklearn.compose._column_transformer.make_column_selector object at 0x7f8a505d2550&gt;</pre></div></div></div><div class=\"sk-serial\"><div class=\"sk-item\"><div class=\"sk-serial\"><div class=\"sk-item\"><div class=\"sk-estimator sk-toggleable\"><input class=\"sk-toggleable__control sk-hidden--visually\" id=\"b39d0524-bb47-4870-8769-ead364428985\" type=\"checkbox\" ><label for=\"b39d0524-bb47-4870-8769-ead364428985\" class=\"sk-toggleable__label sk-toggleable__label-arrow\">SimpleImputer</label><div class=\"sk-toggleable__content\"><pre>SimpleImputer(strategy=&#x27;median&#x27;)</pre></div></div></div><div class=\"sk-item\"><div class=\"sk-estimator sk-toggleable\"><input class=\"sk-toggleable__control sk-hidden--visually\" id=\"495c4059-9e47-43f1-96d9-bc948985daf5\" type=\"checkbox\" ><label for=\"495c4059-9e47-43f1-96d9-bc948985daf5\" class=\"sk-toggleable__label sk-toggleable__label-arrow\">StandardScaler</label><div class=\"sk-toggleable__content\"><pre>StandardScaler()</pre></div></div></div></div></div></div></div></div><div class=\"sk-parallel-item\"><div class=\"sk-item\"><div class=\"sk-label-container\"><div class=\"sk-label sk-toggleable\"><input class=\"sk-toggleable__control sk-hidden--visually\" id=\"e068ec4e-3c39-4aa8-ad6c-79c70f1554a0\" type=\"checkbox\" ><label for=\"e068ec4e-3c39-4aa8-ad6c-79c70f1554a0\" class=\"sk-toggleable__label sk-toggleable__label-arrow\">pipeline-2</label><div class=\"sk-toggleable__content\"><pre>&lt;sklearn.compose._column_transformer.make_column_selector object at 0x7f8a505d2d10&gt;</pre></div></div></div><div class=\"sk-serial\"><div class=\"sk-item\"><div class=\"sk-serial\"><div class=\"sk-item\"><div class=\"sk-estimator sk-toggleable\"><input class=\"sk-toggleable__control sk-hidden--visually\" id=\"85d9977d-7ee9-48b4-83bc-cd84987394dc\" type=\"checkbox\" ><label for=\"85d9977d-7ee9-48b4-83bc-cd84987394dc\" class=\"sk-toggleable__label sk-toggleable__label-arrow\">SimpleImputer</label><div class=\"sk-toggleable__content\"><pre>SimpleImputer(strategy=&#x27;most_frequent&#x27;)</pre></div></div></div><div class=\"sk-item\"><div class=\"sk-estimator sk-toggleable\"><input class=\"sk-toggleable__control sk-hidden--visually\" id=\"6884add8-93ef-47e6-bea7-a57f4cc266f8\" type=\"checkbox\" ><label for=\"6884add8-93ef-47e6-bea7-a57f4cc266f8\" class=\"sk-toggleable__label sk-toggleable__label-arrow\">OneHotEncoder</label><div class=\"sk-toggleable__content\"><pre>OneHotEncoder(handle_unknown=&#x27;ignore&#x27;, sparse=False)</pre></div></div></div></div></div></div></div></div></div></div></div></div>"
            ],
            "text/plain": [
              "ColumnTransformer(transformers=[('pipeline-1',\n",
              "                                 Pipeline(steps=[('simpleimputer',\n",
              "                                                  SimpleImputer(strategy='median')),\n",
              "                                                 ('standardscaler',\n",
              "                                                  StandardScaler())]),\n",
              "                                 <sklearn.compose._column_transformer.make_column_selector object at 0x7f8a505d2550>),\n",
              "                                ('pipeline-2',\n",
              "                                 Pipeline(steps=[('simpleimputer',\n",
              "                                                  SimpleImputer(strategy='most_frequent')),\n",
              "                                                 ('onehotencoder',\n",
              "                                                  OneHotEncoder(handle_unknown='ignore',\n",
              "                                                                sparse=False))]),\n",
              "                                 <sklearn.compose._column_transformer.make_column_selector object at 0x7f8a505d2d10>)])"
            ]
          },
          "metadata": {},
          "execution_count": 62
        }
      ]
    },
    {
      "cell_type": "code",
      "source": [
        "# Transform Train and Test\n",
        "X_train_processed = preprocessor.transform(X_train)\n",
        "X_test_processed = preprocessor.transform(X_test)"
      ],
      "metadata": {
        "id": "pOMUJoopCiIf"
      },
      "execution_count": 63,
      "outputs": []
    },
    {
      "cell_type": "markdown",
      "source": [
        "### **Inspect the Result**"
      ],
      "metadata": {
        "id": "zqsX0lJDBzyn"
      }
    },
    {
      "cell_type": "code",
      "source": [
        "# Check for missing values and that data is scaled and one-hot encoded\n",
        "print(np.isnan(X_train_processed).sum().sum(), 'missing values in training data')\n",
        "print(np.isnan(X_test_processed).sum().sum(), 'missing values in testing data')\n",
        "print('\\n')\n",
        "print('All data in X_train_processed are', X_train_processed.dtype)\n",
        "print('All data in X_test_processed are', X_test_processed.dtype)\n",
        "print('\\n')\n",
        "print('shape of data is', X_train_processed.shape)\n",
        "print('\\n')\n",
        "X_train_processed"
      ],
      "metadata": {
        "colab": {
          "base_uri": "https://localhost:8080/"
        },
        "id": "AWapESdSCmK8",
        "outputId": "a8f53c1e-7b12-4913-8c37-98640805cd90"
      },
      "execution_count": 64,
      "outputs": [
        {
          "output_type": "stream",
          "name": "stdout",
          "text": [
            "0 missing values in training data\n",
            "0 missing values in testing data\n",
            "\n",
            "\n",
            "All data in X_train_processed are float64\n",
            "All data in X_test_processed are float64\n",
            "\n",
            "\n",
            "shape of data is (6392, 1593)\n",
            "\n",
            "\n"
          ]
        },
        {
          "output_type": "execute_result",
          "data": {
            "text/plain": [
              "array([[ 0.73649244, -0.71277507,  1.82810922, ...,  0.        ,\n",
              "         1.        ,  0.        ],\n",
              "       [ 0.49912746, -1.29105225,  0.60336888, ...,  0.        ,\n",
              "         1.        ,  0.        ],\n",
              "       [-0.12665295,  1.81331864,  0.24454056, ...,  1.        ,\n",
              "         0.        ,  0.        ],\n",
              "       ...,\n",
              "       [ 1.00622538, -0.92052713,  1.52302674, ...,  1.        ,\n",
              "         0.        ,  0.        ],\n",
              "       [ 1.59963784, -0.2277552 , -0.38377708, ...,  1.        ,\n",
              "         0.        ,  0.        ],\n",
              "       [ 0.73649244, -0.95867683, -0.73836105, ...,  1.        ,\n",
              "         0.        ,  0.        ]])"
            ]
          },
          "metadata": {},
          "execution_count": 64
        }
      ]
    },
    {
      "cell_type": "code",
      "source": [
        "X_test_df = pd.DataFrame(X_test_processed)\n",
        "X_train_df = pd.DataFrame(X_train_processed)"
      ],
      "metadata": {
        "id": "rDHkXIQr4f-x"
      },
      "execution_count": 65,
      "outputs": []
    },
    {
      "cell_type": "code",
      "source": [
        "X_train_df.describe().round(2)"
      ],
      "metadata": {
        "colab": {
          "base_uri": "https://localhost:8080/",
          "height": 394
        },
        "id": "FoV0NDRv4lAT",
        "outputId": "8c22a557-1967-4267-a9eb-8b9eb1f6a30a"
      },
      "execution_count": 66,
      "outputs": [
        {
          "output_type": "execute_result",
          "data": {
            "text/html": [
              "\n",
              "  <div id=\"df-e895d29a-7b4f-4b53-af75-71de2c28f308\">\n",
              "    <div class=\"colab-df-container\">\n",
              "      <div>\n",
              "<style scoped>\n",
              "    .dataframe tbody tr th:only-of-type {\n",
              "        vertical-align: middle;\n",
              "    }\n",
              "\n",
              "    .dataframe tbody tr th {\n",
              "        vertical-align: top;\n",
              "    }\n",
              "\n",
              "    .dataframe thead th {\n",
              "        text-align: right;\n",
              "    }\n",
              "</style>\n",
              "<table border=\"1\" class=\"dataframe\">\n",
              "  <thead>\n",
              "    <tr style=\"text-align: right;\">\n",
              "      <th></th>\n",
              "      <th>0</th>\n",
              "      <th>1</th>\n",
              "      <th>2</th>\n",
              "      <th>3</th>\n",
              "      <th>4</th>\n",
              "      <th>5</th>\n",
              "      <th>6</th>\n",
              "      <th>7</th>\n",
              "      <th>8</th>\n",
              "      <th>9</th>\n",
              "      <th>10</th>\n",
              "      <th>11</th>\n",
              "      <th>12</th>\n",
              "      <th>13</th>\n",
              "      <th>14</th>\n",
              "      <th>15</th>\n",
              "      <th>16</th>\n",
              "      <th>17</th>\n",
              "      <th>18</th>\n",
              "      <th>19</th>\n",
              "      <th>20</th>\n",
              "      <th>21</th>\n",
              "      <th>22</th>\n",
              "      <th>23</th>\n",
              "      <th>24</th>\n",
              "      <th>25</th>\n",
              "      <th>26</th>\n",
              "      <th>27</th>\n",
              "      <th>28</th>\n",
              "      <th>29</th>\n",
              "      <th>30</th>\n",
              "      <th>31</th>\n",
              "      <th>32</th>\n",
              "      <th>33</th>\n",
              "      <th>34</th>\n",
              "      <th>35</th>\n",
              "      <th>36</th>\n",
              "      <th>37</th>\n",
              "      <th>38</th>\n",
              "      <th>39</th>\n",
              "      <th>...</th>\n",
              "      <th>1553</th>\n",
              "      <th>1554</th>\n",
              "      <th>1555</th>\n",
              "      <th>1556</th>\n",
              "      <th>1557</th>\n",
              "      <th>1558</th>\n",
              "      <th>1559</th>\n",
              "      <th>1560</th>\n",
              "      <th>1561</th>\n",
              "      <th>1562</th>\n",
              "      <th>1563</th>\n",
              "      <th>1564</th>\n",
              "      <th>1565</th>\n",
              "      <th>1566</th>\n",
              "      <th>1567</th>\n",
              "      <th>1568</th>\n",
              "      <th>1569</th>\n",
              "      <th>1570</th>\n",
              "      <th>1571</th>\n",
              "      <th>1572</th>\n",
              "      <th>1573</th>\n",
              "      <th>1574</th>\n",
              "      <th>1575</th>\n",
              "      <th>1576</th>\n",
              "      <th>1577</th>\n",
              "      <th>1578</th>\n",
              "      <th>1579</th>\n",
              "      <th>1580</th>\n",
              "      <th>1581</th>\n",
              "      <th>1582</th>\n",
              "      <th>1583</th>\n",
              "      <th>1584</th>\n",
              "      <th>1585</th>\n",
              "      <th>1586</th>\n",
              "      <th>1587</th>\n",
              "      <th>1588</th>\n",
              "      <th>1589</th>\n",
              "      <th>1590</th>\n",
              "      <th>1591</th>\n",
              "      <th>1592</th>\n",
              "    </tr>\n",
              "  </thead>\n",
              "  <tbody>\n",
              "    <tr>\n",
              "      <th>count</th>\n",
              "      <td>6392.00</td>\n",
              "      <td>6392.00</td>\n",
              "      <td>6392.00</td>\n",
              "      <td>6392.00</td>\n",
              "      <td>6392.00</td>\n",
              "      <td>6392.00</td>\n",
              "      <td>6392.00</td>\n",
              "      <td>6392.00</td>\n",
              "      <td>6392.00</td>\n",
              "      <td>6392.00</td>\n",
              "      <td>6392.00</td>\n",
              "      <td>6392.00</td>\n",
              "      <td>6392.00</td>\n",
              "      <td>6392.00</td>\n",
              "      <td>6392.00</td>\n",
              "      <td>6392.00</td>\n",
              "      <td>6392.00</td>\n",
              "      <td>6392.00</td>\n",
              "      <td>6392.00</td>\n",
              "      <td>6392.00</td>\n",
              "      <td>6392.00</td>\n",
              "      <td>6392.00</td>\n",
              "      <td>6392.00</td>\n",
              "      <td>6392.00</td>\n",
              "      <td>6392.00</td>\n",
              "      <td>6392.00</td>\n",
              "      <td>6392.00</td>\n",
              "      <td>6392.00</td>\n",
              "      <td>6392.00</td>\n",
              "      <td>6392.00</td>\n",
              "      <td>6392.00</td>\n",
              "      <td>6392.00</td>\n",
              "      <td>6392.00</td>\n",
              "      <td>6392.00</td>\n",
              "      <td>6392.00</td>\n",
              "      <td>6392.00</td>\n",
              "      <td>6392.00</td>\n",
              "      <td>6392.00</td>\n",
              "      <td>6392.00</td>\n",
              "      <td>6392.00</td>\n",
              "      <td>...</td>\n",
              "      <td>6392.00</td>\n",
              "      <td>6392.00</td>\n",
              "      <td>6392.00</td>\n",
              "      <td>6392.00</td>\n",
              "      <td>6392.00</td>\n",
              "      <td>6392.00</td>\n",
              "      <td>6392.00</td>\n",
              "      <td>6392.00</td>\n",
              "      <td>6392.0</td>\n",
              "      <td>6392.00</td>\n",
              "      <td>6392.00</td>\n",
              "      <td>6392.00</td>\n",
              "      <td>6392.00</td>\n",
              "      <td>6392.00</td>\n",
              "      <td>6392.00</td>\n",
              "      <td>6392.00</td>\n",
              "      <td>6392.00</td>\n",
              "      <td>6392.00</td>\n",
              "      <td>6392.00</td>\n",
              "      <td>6392.00</td>\n",
              "      <td>6392.00</td>\n",
              "      <td>6392.00</td>\n",
              "      <td>6392.00</td>\n",
              "      <td>6392.00</td>\n",
              "      <td>6392.00</td>\n",
              "      <td>6392.00</td>\n",
              "      <td>6392.00</td>\n",
              "      <td>6392.00</td>\n",
              "      <td>6392.00</td>\n",
              "      <td>6392.00</td>\n",
              "      <td>6392.00</td>\n",
              "      <td>6392.00</td>\n",
              "      <td>6392.00</td>\n",
              "      <td>6392.00</td>\n",
              "      <td>6392.00</td>\n",
              "      <td>6392.00</td>\n",
              "      <td>6392.00</td>\n",
              "      <td>6392.00</td>\n",
              "      <td>6392.00</td>\n",
              "      <td>6392.00</td>\n",
              "    </tr>\n",
              "    <tr>\n",
              "      <th>mean</th>\n",
              "      <td>0.00</td>\n",
              "      <td>-0.00</td>\n",
              "      <td>0.00</td>\n",
              "      <td>-0.00</td>\n",
              "      <td>0.00</td>\n",
              "      <td>0.00</td>\n",
              "      <td>0.00</td>\n",
              "      <td>0.00</td>\n",
              "      <td>0.00</td>\n",
              "      <td>0.00</td>\n",
              "      <td>0.00</td>\n",
              "      <td>0.00</td>\n",
              "      <td>0.00</td>\n",
              "      <td>0.00</td>\n",
              "      <td>0.00</td>\n",
              "      <td>0.00</td>\n",
              "      <td>0.00</td>\n",
              "      <td>0.00</td>\n",
              "      <td>0.00</td>\n",
              "      <td>0.00</td>\n",
              "      <td>0.00</td>\n",
              "      <td>0.00</td>\n",
              "      <td>0.00</td>\n",
              "      <td>0.00</td>\n",
              "      <td>0.00</td>\n",
              "      <td>0.00</td>\n",
              "      <td>0.00</td>\n",
              "      <td>0.00</td>\n",
              "      <td>0.00</td>\n",
              "      <td>0.00</td>\n",
              "      <td>0.00</td>\n",
              "      <td>0.00</td>\n",
              "      <td>0.00</td>\n",
              "      <td>0.00</td>\n",
              "      <td>0.00</td>\n",
              "      <td>0.00</td>\n",
              "      <td>0.00</td>\n",
              "      <td>0.00</td>\n",
              "      <td>0.00</td>\n",
              "      <td>0.00</td>\n",
              "      <td>...</td>\n",
              "      <td>0.00</td>\n",
              "      <td>0.65</td>\n",
              "      <td>0.35</td>\n",
              "      <td>0.07</td>\n",
              "      <td>0.03</td>\n",
              "      <td>0.01</td>\n",
              "      <td>0.08</td>\n",
              "      <td>0.08</td>\n",
              "      <td>0.1</td>\n",
              "      <td>0.15</td>\n",
              "      <td>0.03</td>\n",
              "      <td>0.06</td>\n",
              "      <td>0.11</td>\n",
              "      <td>0.05</td>\n",
              "      <td>0.02</td>\n",
              "      <td>0.01</td>\n",
              "      <td>0.14</td>\n",
              "      <td>0.05</td>\n",
              "      <td>0.02</td>\n",
              "      <td>0.06</td>\n",
              "      <td>0.11</td>\n",
              "      <td>0.11</td>\n",
              "      <td>0.11</td>\n",
              "      <td>0.06</td>\n",
              "      <td>0.11</td>\n",
              "      <td>0.11</td>\n",
              "      <td>0.11</td>\n",
              "      <td>0.11</td>\n",
              "      <td>0.11</td>\n",
              "      <td>0.11</td>\n",
              "      <td>0.33</td>\n",
              "      <td>0.28</td>\n",
              "      <td>0.28</td>\n",
              "      <td>0.27</td>\n",
              "      <td>0.33</td>\n",
              "      <td>0.40</td>\n",
              "      <td>0.12</td>\n",
              "      <td>0.65</td>\n",
              "      <td>0.11</td>\n",
              "      <td>0.11</td>\n",
              "    </tr>\n",
              "    <tr>\n",
              "      <th>std</th>\n",
              "      <td>1.00</td>\n",
              "      <td>1.00</td>\n",
              "      <td>1.00</td>\n",
              "      <td>1.00</td>\n",
              "      <td>0.03</td>\n",
              "      <td>0.03</td>\n",
              "      <td>0.03</td>\n",
              "      <td>0.02</td>\n",
              "      <td>0.03</td>\n",
              "      <td>0.02</td>\n",
              "      <td>0.03</td>\n",
              "      <td>0.02</td>\n",
              "      <td>0.03</td>\n",
              "      <td>0.03</td>\n",
              "      <td>0.02</td>\n",
              "      <td>0.03</td>\n",
              "      <td>0.03</td>\n",
              "      <td>0.03</td>\n",
              "      <td>0.02</td>\n",
              "      <td>0.02</td>\n",
              "      <td>0.03</td>\n",
              "      <td>0.03</td>\n",
              "      <td>0.03</td>\n",
              "      <td>0.03</td>\n",
              "      <td>0.03</td>\n",
              "      <td>0.03</td>\n",
              "      <td>0.03</td>\n",
              "      <td>0.03</td>\n",
              "      <td>0.01</td>\n",
              "      <td>0.02</td>\n",
              "      <td>0.03</td>\n",
              "      <td>0.02</td>\n",
              "      <td>0.03</td>\n",
              "      <td>0.02</td>\n",
              "      <td>0.03</td>\n",
              "      <td>0.03</td>\n",
              "      <td>0.03</td>\n",
              "      <td>0.03</td>\n",
              "      <td>0.04</td>\n",
              "      <td>0.03</td>\n",
              "      <td>...</td>\n",
              "      <td>0.03</td>\n",
              "      <td>0.48</td>\n",
              "      <td>0.48</td>\n",
              "      <td>0.26</td>\n",
              "      <td>0.16</td>\n",
              "      <td>0.11</td>\n",
              "      <td>0.26</td>\n",
              "      <td>0.27</td>\n",
              "      <td>0.3</td>\n",
              "      <td>0.36</td>\n",
              "      <td>0.16</td>\n",
              "      <td>0.24</td>\n",
              "      <td>0.31</td>\n",
              "      <td>0.21</td>\n",
              "      <td>0.14</td>\n",
              "      <td>0.08</td>\n",
              "      <td>0.35</td>\n",
              "      <td>0.22</td>\n",
              "      <td>0.14</td>\n",
              "      <td>0.25</td>\n",
              "      <td>0.31</td>\n",
              "      <td>0.31</td>\n",
              "      <td>0.31</td>\n",
              "      <td>0.24</td>\n",
              "      <td>0.32</td>\n",
              "      <td>0.31</td>\n",
              "      <td>0.31</td>\n",
              "      <td>0.31</td>\n",
              "      <td>0.31</td>\n",
              "      <td>0.31</td>\n",
              "      <td>0.47</td>\n",
              "      <td>0.45</td>\n",
              "      <td>0.45</td>\n",
              "      <td>0.45</td>\n",
              "      <td>0.47</td>\n",
              "      <td>0.49</td>\n",
              "      <td>0.33</td>\n",
              "      <td>0.48</td>\n",
              "      <td>0.31</td>\n",
              "      <td>0.32</td>\n",
              "    </tr>\n",
              "    <tr>\n",
              "      <th>min</th>\n",
              "      <td>-1.81</td>\n",
              "      <td>-1.29</td>\n",
              "      <td>-1.77</td>\n",
              "      <td>-1.53</td>\n",
              "      <td>0.00</td>\n",
              "      <td>0.00</td>\n",
              "      <td>0.00</td>\n",
              "      <td>0.00</td>\n",
              "      <td>0.00</td>\n",
              "      <td>0.00</td>\n",
              "      <td>0.00</td>\n",
              "      <td>0.00</td>\n",
              "      <td>0.00</td>\n",
              "      <td>0.00</td>\n",
              "      <td>0.00</td>\n",
              "      <td>0.00</td>\n",
              "      <td>0.00</td>\n",
              "      <td>0.00</td>\n",
              "      <td>0.00</td>\n",
              "      <td>0.00</td>\n",
              "      <td>0.00</td>\n",
              "      <td>0.00</td>\n",
              "      <td>0.00</td>\n",
              "      <td>0.00</td>\n",
              "      <td>0.00</td>\n",
              "      <td>0.00</td>\n",
              "      <td>0.00</td>\n",
              "      <td>0.00</td>\n",
              "      <td>0.00</td>\n",
              "      <td>0.00</td>\n",
              "      <td>0.00</td>\n",
              "      <td>0.00</td>\n",
              "      <td>0.00</td>\n",
              "      <td>0.00</td>\n",
              "      <td>0.00</td>\n",
              "      <td>0.00</td>\n",
              "      <td>0.00</td>\n",
              "      <td>0.00</td>\n",
              "      <td>0.00</td>\n",
              "      <td>0.00</td>\n",
              "      <td>...</td>\n",
              "      <td>0.00</td>\n",
              "      <td>0.00</td>\n",
              "      <td>0.00</td>\n",
              "      <td>0.00</td>\n",
              "      <td>0.00</td>\n",
              "      <td>0.00</td>\n",
              "      <td>0.00</td>\n",
              "      <td>0.00</td>\n",
              "      <td>0.0</td>\n",
              "      <td>0.00</td>\n",
              "      <td>0.00</td>\n",
              "      <td>0.00</td>\n",
              "      <td>0.00</td>\n",
              "      <td>0.00</td>\n",
              "      <td>0.00</td>\n",
              "      <td>0.00</td>\n",
              "      <td>0.00</td>\n",
              "      <td>0.00</td>\n",
              "      <td>0.00</td>\n",
              "      <td>0.00</td>\n",
              "      <td>0.00</td>\n",
              "      <td>0.00</td>\n",
              "      <td>0.00</td>\n",
              "      <td>0.00</td>\n",
              "      <td>0.00</td>\n",
              "      <td>0.00</td>\n",
              "      <td>0.00</td>\n",
              "      <td>0.00</td>\n",
              "      <td>0.00</td>\n",
              "      <td>0.00</td>\n",
              "      <td>0.00</td>\n",
              "      <td>0.00</td>\n",
              "      <td>0.00</td>\n",
              "      <td>0.00</td>\n",
              "      <td>0.00</td>\n",
              "      <td>0.00</td>\n",
              "      <td>0.00</td>\n",
              "      <td>0.00</td>\n",
              "      <td>0.00</td>\n",
              "      <td>0.00</td>\n",
              "    </tr>\n",
              "    <tr>\n",
              "      <th>25%</th>\n",
              "      <td>-0.87</td>\n",
              "      <td>-0.76</td>\n",
              "      <td>-0.76</td>\n",
              "      <td>-1.29</td>\n",
              "      <td>0.00</td>\n",
              "      <td>0.00</td>\n",
              "      <td>0.00</td>\n",
              "      <td>0.00</td>\n",
              "      <td>0.00</td>\n",
              "      <td>0.00</td>\n",
              "      <td>0.00</td>\n",
              "      <td>0.00</td>\n",
              "      <td>0.00</td>\n",
              "      <td>0.00</td>\n",
              "      <td>0.00</td>\n",
              "      <td>0.00</td>\n",
              "      <td>0.00</td>\n",
              "      <td>0.00</td>\n",
              "      <td>0.00</td>\n",
              "      <td>0.00</td>\n",
              "      <td>0.00</td>\n",
              "      <td>0.00</td>\n",
              "      <td>0.00</td>\n",
              "      <td>0.00</td>\n",
              "      <td>0.00</td>\n",
              "      <td>0.00</td>\n",
              "      <td>0.00</td>\n",
              "      <td>0.00</td>\n",
              "      <td>0.00</td>\n",
              "      <td>0.00</td>\n",
              "      <td>0.00</td>\n",
              "      <td>0.00</td>\n",
              "      <td>0.00</td>\n",
              "      <td>0.00</td>\n",
              "      <td>0.00</td>\n",
              "      <td>0.00</td>\n",
              "      <td>0.00</td>\n",
              "      <td>0.00</td>\n",
              "      <td>0.00</td>\n",
              "      <td>0.00</td>\n",
              "      <td>...</td>\n",
              "      <td>0.00</td>\n",
              "      <td>0.00</td>\n",
              "      <td>0.00</td>\n",
              "      <td>0.00</td>\n",
              "      <td>0.00</td>\n",
              "      <td>0.00</td>\n",
              "      <td>0.00</td>\n",
              "      <td>0.00</td>\n",
              "      <td>0.0</td>\n",
              "      <td>0.00</td>\n",
              "      <td>0.00</td>\n",
              "      <td>0.00</td>\n",
              "      <td>0.00</td>\n",
              "      <td>0.00</td>\n",
              "      <td>0.00</td>\n",
              "      <td>0.00</td>\n",
              "      <td>0.00</td>\n",
              "      <td>0.00</td>\n",
              "      <td>0.00</td>\n",
              "      <td>0.00</td>\n",
              "      <td>0.00</td>\n",
              "      <td>0.00</td>\n",
              "      <td>0.00</td>\n",
              "      <td>0.00</td>\n",
              "      <td>0.00</td>\n",
              "      <td>0.00</td>\n",
              "      <td>0.00</td>\n",
              "      <td>0.00</td>\n",
              "      <td>0.00</td>\n",
              "      <td>0.00</td>\n",
              "      <td>0.00</td>\n",
              "      <td>0.00</td>\n",
              "      <td>0.00</td>\n",
              "      <td>0.00</td>\n",
              "      <td>0.00</td>\n",
              "      <td>0.00</td>\n",
              "      <td>0.00</td>\n",
              "      <td>0.00</td>\n",
              "      <td>0.00</td>\n",
              "      <td>0.00</td>\n",
              "    </tr>\n",
              "    <tr>\n",
              "      <th>50%</th>\n",
              "      <td>-0.06</td>\n",
              "      <td>-0.23</td>\n",
              "      <td>0.03</td>\n",
              "      <td>0.14</td>\n",
              "      <td>0.00</td>\n",
              "      <td>0.00</td>\n",
              "      <td>0.00</td>\n",
              "      <td>0.00</td>\n",
              "      <td>0.00</td>\n",
              "      <td>0.00</td>\n",
              "      <td>0.00</td>\n",
              "      <td>0.00</td>\n",
              "      <td>0.00</td>\n",
              "      <td>0.00</td>\n",
              "      <td>0.00</td>\n",
              "      <td>0.00</td>\n",
              "      <td>0.00</td>\n",
              "      <td>0.00</td>\n",
              "      <td>0.00</td>\n",
              "      <td>0.00</td>\n",
              "      <td>0.00</td>\n",
              "      <td>0.00</td>\n",
              "      <td>0.00</td>\n",
              "      <td>0.00</td>\n",
              "      <td>0.00</td>\n",
              "      <td>0.00</td>\n",
              "      <td>0.00</td>\n",
              "      <td>0.00</td>\n",
              "      <td>0.00</td>\n",
              "      <td>0.00</td>\n",
              "      <td>0.00</td>\n",
              "      <td>0.00</td>\n",
              "      <td>0.00</td>\n",
              "      <td>0.00</td>\n",
              "      <td>0.00</td>\n",
              "      <td>0.00</td>\n",
              "      <td>0.00</td>\n",
              "      <td>0.00</td>\n",
              "      <td>0.00</td>\n",
              "      <td>0.00</td>\n",
              "      <td>...</td>\n",
              "      <td>0.00</td>\n",
              "      <td>1.00</td>\n",
              "      <td>0.00</td>\n",
              "      <td>0.00</td>\n",
              "      <td>0.00</td>\n",
              "      <td>0.00</td>\n",
              "      <td>0.00</td>\n",
              "      <td>0.00</td>\n",
              "      <td>0.0</td>\n",
              "      <td>0.00</td>\n",
              "      <td>0.00</td>\n",
              "      <td>0.00</td>\n",
              "      <td>0.00</td>\n",
              "      <td>0.00</td>\n",
              "      <td>0.00</td>\n",
              "      <td>0.00</td>\n",
              "      <td>0.00</td>\n",
              "      <td>0.00</td>\n",
              "      <td>0.00</td>\n",
              "      <td>0.00</td>\n",
              "      <td>0.00</td>\n",
              "      <td>0.00</td>\n",
              "      <td>0.00</td>\n",
              "      <td>0.00</td>\n",
              "      <td>0.00</td>\n",
              "      <td>0.00</td>\n",
              "      <td>0.00</td>\n",
              "      <td>0.00</td>\n",
              "      <td>0.00</td>\n",
              "      <td>0.00</td>\n",
              "      <td>0.00</td>\n",
              "      <td>0.00</td>\n",
              "      <td>0.00</td>\n",
              "      <td>0.00</td>\n",
              "      <td>0.00</td>\n",
              "      <td>0.00</td>\n",
              "      <td>0.00</td>\n",
              "      <td>1.00</td>\n",
              "      <td>0.00</td>\n",
              "      <td>0.00</td>\n",
              "    </tr>\n",
              "    <tr>\n",
              "      <th>75%</th>\n",
              "      <td>0.88</td>\n",
              "      <td>0.56</td>\n",
              "      <td>0.72</td>\n",
              "      <td>0.73</td>\n",
              "      <td>0.00</td>\n",
              "      <td>0.00</td>\n",
              "      <td>0.00</td>\n",
              "      <td>0.00</td>\n",
              "      <td>0.00</td>\n",
              "      <td>0.00</td>\n",
              "      <td>0.00</td>\n",
              "      <td>0.00</td>\n",
              "      <td>0.00</td>\n",
              "      <td>0.00</td>\n",
              "      <td>0.00</td>\n",
              "      <td>0.00</td>\n",
              "      <td>0.00</td>\n",
              "      <td>0.00</td>\n",
              "      <td>0.00</td>\n",
              "      <td>0.00</td>\n",
              "      <td>0.00</td>\n",
              "      <td>0.00</td>\n",
              "      <td>0.00</td>\n",
              "      <td>0.00</td>\n",
              "      <td>0.00</td>\n",
              "      <td>0.00</td>\n",
              "      <td>0.00</td>\n",
              "      <td>0.00</td>\n",
              "      <td>0.00</td>\n",
              "      <td>0.00</td>\n",
              "      <td>0.00</td>\n",
              "      <td>0.00</td>\n",
              "      <td>0.00</td>\n",
              "      <td>0.00</td>\n",
              "      <td>0.00</td>\n",
              "      <td>0.00</td>\n",
              "      <td>0.00</td>\n",
              "      <td>0.00</td>\n",
              "      <td>0.00</td>\n",
              "      <td>0.00</td>\n",
              "      <td>...</td>\n",
              "      <td>0.00</td>\n",
              "      <td>1.00</td>\n",
              "      <td>1.00</td>\n",
              "      <td>0.00</td>\n",
              "      <td>0.00</td>\n",
              "      <td>0.00</td>\n",
              "      <td>0.00</td>\n",
              "      <td>0.00</td>\n",
              "      <td>0.0</td>\n",
              "      <td>0.00</td>\n",
              "      <td>0.00</td>\n",
              "      <td>0.00</td>\n",
              "      <td>0.00</td>\n",
              "      <td>0.00</td>\n",
              "      <td>0.00</td>\n",
              "      <td>0.00</td>\n",
              "      <td>0.00</td>\n",
              "      <td>0.00</td>\n",
              "      <td>0.00</td>\n",
              "      <td>0.00</td>\n",
              "      <td>0.00</td>\n",
              "      <td>0.00</td>\n",
              "      <td>0.00</td>\n",
              "      <td>0.00</td>\n",
              "      <td>0.00</td>\n",
              "      <td>0.00</td>\n",
              "      <td>0.00</td>\n",
              "      <td>0.00</td>\n",
              "      <td>0.00</td>\n",
              "      <td>0.00</td>\n",
              "      <td>1.00</td>\n",
              "      <td>1.00</td>\n",
              "      <td>1.00</td>\n",
              "      <td>1.00</td>\n",
              "      <td>1.00</td>\n",
              "      <td>1.00</td>\n",
              "      <td>0.00</td>\n",
              "      <td>1.00</td>\n",
              "      <td>0.00</td>\n",
              "      <td>0.00</td>\n",
              "    </tr>\n",
              "    <tr>\n",
              "      <th>max</th>\n",
              "      <td>1.82</td>\n",
              "      <td>5.13</td>\n",
              "      <td>1.99</td>\n",
              "      <td>1.33</td>\n",
              "      <td>1.00</td>\n",
              "      <td>1.00</td>\n",
              "      <td>1.00</td>\n",
              "      <td>1.00</td>\n",
              "      <td>1.00</td>\n",
              "      <td>1.00</td>\n",
              "      <td>1.00</td>\n",
              "      <td>1.00</td>\n",
              "      <td>1.00</td>\n",
              "      <td>1.00</td>\n",
              "      <td>1.00</td>\n",
              "      <td>1.00</td>\n",
              "      <td>1.00</td>\n",
              "      <td>1.00</td>\n",
              "      <td>1.00</td>\n",
              "      <td>1.00</td>\n",
              "      <td>1.00</td>\n",
              "      <td>1.00</td>\n",
              "      <td>1.00</td>\n",
              "      <td>1.00</td>\n",
              "      <td>1.00</td>\n",
              "      <td>1.00</td>\n",
              "      <td>1.00</td>\n",
              "      <td>1.00</td>\n",
              "      <td>1.00</td>\n",
              "      <td>1.00</td>\n",
              "      <td>1.00</td>\n",
              "      <td>1.00</td>\n",
              "      <td>1.00</td>\n",
              "      <td>1.00</td>\n",
              "      <td>1.00</td>\n",
              "      <td>1.00</td>\n",
              "      <td>1.00</td>\n",
              "      <td>1.00</td>\n",
              "      <td>1.00</td>\n",
              "      <td>1.00</td>\n",
              "      <td>...</td>\n",
              "      <td>1.00</td>\n",
              "      <td>1.00</td>\n",
              "      <td>1.00</td>\n",
              "      <td>1.00</td>\n",
              "      <td>1.00</td>\n",
              "      <td>1.00</td>\n",
              "      <td>1.00</td>\n",
              "      <td>1.00</td>\n",
              "      <td>1.0</td>\n",
              "      <td>1.00</td>\n",
              "      <td>1.00</td>\n",
              "      <td>1.00</td>\n",
              "      <td>1.00</td>\n",
              "      <td>1.00</td>\n",
              "      <td>1.00</td>\n",
              "      <td>1.00</td>\n",
              "      <td>1.00</td>\n",
              "      <td>1.00</td>\n",
              "      <td>1.00</td>\n",
              "      <td>1.00</td>\n",
              "      <td>1.00</td>\n",
              "      <td>1.00</td>\n",
              "      <td>1.00</td>\n",
              "      <td>1.00</td>\n",
              "      <td>1.00</td>\n",
              "      <td>1.00</td>\n",
              "      <td>1.00</td>\n",
              "      <td>1.00</td>\n",
              "      <td>1.00</td>\n",
              "      <td>1.00</td>\n",
              "      <td>1.00</td>\n",
              "      <td>1.00</td>\n",
              "      <td>1.00</td>\n",
              "      <td>1.00</td>\n",
              "      <td>1.00</td>\n",
              "      <td>1.00</td>\n",
              "      <td>1.00</td>\n",
              "      <td>1.00</td>\n",
              "      <td>1.00</td>\n",
              "      <td>1.00</td>\n",
              "    </tr>\n",
              "  </tbody>\n",
              "</table>\n",
              "<p>8 rows × 1593 columns</p>\n",
              "</div>\n",
              "      <button class=\"colab-df-convert\" onclick=\"convertToInteractive('df-e895d29a-7b4f-4b53-af75-71de2c28f308')\"\n",
              "              title=\"Convert this dataframe to an interactive table.\"\n",
              "              style=\"display:none;\">\n",
              "        \n",
              "  <svg xmlns=\"http://www.w3.org/2000/svg\" height=\"24px\"viewBox=\"0 0 24 24\"\n",
              "       width=\"24px\">\n",
              "    <path d=\"M0 0h24v24H0V0z\" fill=\"none\"/>\n",
              "    <path d=\"M18.56 5.44l.94 2.06.94-2.06 2.06-.94-2.06-.94-.94-2.06-.94 2.06-2.06.94zm-11 1L8.5 8.5l.94-2.06 2.06-.94-2.06-.94L8.5 2.5l-.94 2.06-2.06.94zm10 10l.94 2.06.94-2.06 2.06-.94-2.06-.94-.94-2.06-.94 2.06-2.06.94z\"/><path d=\"M17.41 7.96l-1.37-1.37c-.4-.4-.92-.59-1.43-.59-.52 0-1.04.2-1.43.59L10.3 9.45l-7.72 7.72c-.78.78-.78 2.05 0 2.83L4 21.41c.39.39.9.59 1.41.59.51 0 1.02-.2 1.41-.59l7.78-7.78 2.81-2.81c.8-.78.8-2.07 0-2.86zM5.41 20L4 18.59l7.72-7.72 1.47 1.35L5.41 20z\"/>\n",
              "  </svg>\n",
              "      </button>\n",
              "      \n",
              "  <style>\n",
              "    .colab-df-container {\n",
              "      display:flex;\n",
              "      flex-wrap:wrap;\n",
              "      gap: 12px;\n",
              "    }\n",
              "\n",
              "    .colab-df-convert {\n",
              "      background-color: #E8F0FE;\n",
              "      border: none;\n",
              "      border-radius: 50%;\n",
              "      cursor: pointer;\n",
              "      display: none;\n",
              "      fill: #1967D2;\n",
              "      height: 32px;\n",
              "      padding: 0 0 0 0;\n",
              "      width: 32px;\n",
              "    }\n",
              "\n",
              "    .colab-df-convert:hover {\n",
              "      background-color: #E2EBFA;\n",
              "      box-shadow: 0px 1px 2px rgba(60, 64, 67, 0.3), 0px 1px 3px 1px rgba(60, 64, 67, 0.15);\n",
              "      fill: #174EA6;\n",
              "    }\n",
              "\n",
              "    [theme=dark] .colab-df-convert {\n",
              "      background-color: #3B4455;\n",
              "      fill: #D2E3FC;\n",
              "    }\n",
              "\n",
              "    [theme=dark] .colab-df-convert:hover {\n",
              "      background-color: #434B5C;\n",
              "      box-shadow: 0px 1px 3px 1px rgba(0, 0, 0, 0.15);\n",
              "      filter: drop-shadow(0px 1px 2px rgba(0, 0, 0, 0.3));\n",
              "      fill: #FFFFFF;\n",
              "    }\n",
              "  </style>\n",
              "\n",
              "      <script>\n",
              "        const buttonEl =\n",
              "          document.querySelector('#df-e895d29a-7b4f-4b53-af75-71de2c28f308 button.colab-df-convert');\n",
              "        buttonEl.style.display =\n",
              "          google.colab.kernel.accessAllowed ? 'block' : 'none';\n",
              "\n",
              "        async function convertToInteractive(key) {\n",
              "          const element = document.querySelector('#df-e895d29a-7b4f-4b53-af75-71de2c28f308');\n",
              "          const dataTable =\n",
              "            await google.colab.kernel.invokeFunction('convertToInteractive',\n",
              "                                                     [key], {});\n",
              "          if (!dataTable) return;\n",
              "\n",
              "          const docLinkHtml = 'Like what you see? Visit the ' +\n",
              "            '<a target=\"_blank\" href=https://colab.research.google.com/notebooks/data_table.ipynb>data table notebook</a>'\n",
              "            + ' to learn more about interactive tables.';\n",
              "          element.innerHTML = '';\n",
              "          dataTable['output_type'] = 'display_data';\n",
              "          await google.colab.output.renderOutput(dataTable, element);\n",
              "          const docLink = document.createElement('div');\n",
              "          docLink.innerHTML = docLinkHtml;\n",
              "          element.appendChild(docLink);\n",
              "        }\n",
              "      </script>\n",
              "    </div>\n",
              "  </div>\n",
              "  "
            ],
            "text/plain": [
              "          0        1        2        3     ...     1589     1590     1591     1592\n",
              "count  6392.00  6392.00  6392.00  6392.00  ...  6392.00  6392.00  6392.00  6392.00\n",
              "mean      0.00    -0.00     0.00    -0.00  ...     0.12     0.65     0.11     0.11\n",
              "std       1.00     1.00     1.00     1.00  ...     0.33     0.48     0.31     0.32\n",
              "min      -1.81    -1.29    -1.77    -1.53  ...     0.00     0.00     0.00     0.00\n",
              "25%      -0.87    -0.76    -0.76    -1.29  ...     0.00     0.00     0.00     0.00\n",
              "50%      -0.06    -0.23     0.03     0.14  ...     0.00     1.00     0.00     0.00\n",
              "75%       0.88     0.56     0.72     0.73  ...     0.00     1.00     0.00     0.00\n",
              "max       1.82     5.13     1.99     1.33  ...     1.00     1.00     1.00     1.00\n",
              "\n",
              "[8 rows x 1593 columns]"
            ]
          },
          "metadata": {},
          "execution_count": 66
        }
      ]
    },
    {
      "cell_type": "code",
      "source": [
        "X_test_df.describe().round(2)"
      ],
      "metadata": {
        "colab": {
          "base_uri": "https://localhost:8080/",
          "height": 394
        },
        "id": "k9J8U8r_4nE_",
        "outputId": "8302e156-31f5-4a03-8f8f-a703f356d304"
      },
      "execution_count": 67,
      "outputs": [
        {
          "output_type": "execute_result",
          "data": {
            "text/html": [
              "\n",
              "  <div id=\"df-fa02eef3-e45a-4bf8-9e55-1c13ec420338\">\n",
              "    <div class=\"colab-df-container\">\n",
              "      <div>\n",
              "<style scoped>\n",
              "    .dataframe tbody tr th:only-of-type {\n",
              "        vertical-align: middle;\n",
              "    }\n",
              "\n",
              "    .dataframe tbody tr th {\n",
              "        vertical-align: top;\n",
              "    }\n",
              "\n",
              "    .dataframe thead th {\n",
              "        text-align: right;\n",
              "    }\n",
              "</style>\n",
              "<table border=\"1\" class=\"dataframe\">\n",
              "  <thead>\n",
              "    <tr style=\"text-align: right;\">\n",
              "      <th></th>\n",
              "      <th>0</th>\n",
              "      <th>1</th>\n",
              "      <th>2</th>\n",
              "      <th>3</th>\n",
              "      <th>4</th>\n",
              "      <th>5</th>\n",
              "      <th>6</th>\n",
              "      <th>7</th>\n",
              "      <th>8</th>\n",
              "      <th>9</th>\n",
              "      <th>10</th>\n",
              "      <th>11</th>\n",
              "      <th>12</th>\n",
              "      <th>13</th>\n",
              "      <th>14</th>\n",
              "      <th>15</th>\n",
              "      <th>16</th>\n",
              "      <th>17</th>\n",
              "      <th>18</th>\n",
              "      <th>19</th>\n",
              "      <th>20</th>\n",
              "      <th>21</th>\n",
              "      <th>22</th>\n",
              "      <th>23</th>\n",
              "      <th>24</th>\n",
              "      <th>25</th>\n",
              "      <th>26</th>\n",
              "      <th>27</th>\n",
              "      <th>28</th>\n",
              "      <th>29</th>\n",
              "      <th>30</th>\n",
              "      <th>31</th>\n",
              "      <th>32</th>\n",
              "      <th>33</th>\n",
              "      <th>34</th>\n",
              "      <th>35</th>\n",
              "      <th>36</th>\n",
              "      <th>37</th>\n",
              "      <th>38</th>\n",
              "      <th>39</th>\n",
              "      <th>...</th>\n",
              "      <th>1553</th>\n",
              "      <th>1554</th>\n",
              "      <th>1555</th>\n",
              "      <th>1556</th>\n",
              "      <th>1557</th>\n",
              "      <th>1558</th>\n",
              "      <th>1559</th>\n",
              "      <th>1560</th>\n",
              "      <th>1561</th>\n",
              "      <th>1562</th>\n",
              "      <th>1563</th>\n",
              "      <th>1564</th>\n",
              "      <th>1565</th>\n",
              "      <th>1566</th>\n",
              "      <th>1567</th>\n",
              "      <th>1568</th>\n",
              "      <th>1569</th>\n",
              "      <th>1570</th>\n",
              "      <th>1571</th>\n",
              "      <th>1572</th>\n",
              "      <th>1573</th>\n",
              "      <th>1574</th>\n",
              "      <th>1575</th>\n",
              "      <th>1576</th>\n",
              "      <th>1577</th>\n",
              "      <th>1578</th>\n",
              "      <th>1579</th>\n",
              "      <th>1580</th>\n",
              "      <th>1581</th>\n",
              "      <th>1582</th>\n",
              "      <th>1583</th>\n",
              "      <th>1584</th>\n",
              "      <th>1585</th>\n",
              "      <th>1586</th>\n",
              "      <th>1587</th>\n",
              "      <th>1588</th>\n",
              "      <th>1589</th>\n",
              "      <th>1590</th>\n",
              "      <th>1591</th>\n",
              "      <th>1592</th>\n",
              "    </tr>\n",
              "  </thead>\n",
              "  <tbody>\n",
              "    <tr>\n",
              "      <th>count</th>\n",
              "      <td>2131.00</td>\n",
              "      <td>2131.00</td>\n",
              "      <td>2131.00</td>\n",
              "      <td>2131.00</td>\n",
              "      <td>2131.00</td>\n",
              "      <td>2131.00</td>\n",
              "      <td>2131.00</td>\n",
              "      <td>2131.0</td>\n",
              "      <td>2131.0</td>\n",
              "      <td>2131.00</td>\n",
              "      <td>2131.00</td>\n",
              "      <td>2131.00</td>\n",
              "      <td>2131.00</td>\n",
              "      <td>2131.0</td>\n",
              "      <td>2131.00</td>\n",
              "      <td>2131.0</td>\n",
              "      <td>2131.00</td>\n",
              "      <td>2131.00</td>\n",
              "      <td>2131.0</td>\n",
              "      <td>2131.00</td>\n",
              "      <td>2131.0</td>\n",
              "      <td>2131.0</td>\n",
              "      <td>2131.0</td>\n",
              "      <td>2131.00</td>\n",
              "      <td>2131.00</td>\n",
              "      <td>2131.00</td>\n",
              "      <td>2131.00</td>\n",
              "      <td>2131.0</td>\n",
              "      <td>2131.00</td>\n",
              "      <td>2131.0</td>\n",
              "      <td>2131.00</td>\n",
              "      <td>2131.00</td>\n",
              "      <td>2131.00</td>\n",
              "      <td>2131.00</td>\n",
              "      <td>2131.0</td>\n",
              "      <td>2131.0</td>\n",
              "      <td>2131.00</td>\n",
              "      <td>2131.00</td>\n",
              "      <td>2131.0</td>\n",
              "      <td>2131.00</td>\n",
              "      <td>...</td>\n",
              "      <td>2131.00</td>\n",
              "      <td>2131.00</td>\n",
              "      <td>2131.00</td>\n",
              "      <td>2131.00</td>\n",
              "      <td>2131.00</td>\n",
              "      <td>2131.00</td>\n",
              "      <td>2131.00</td>\n",
              "      <td>2131.00</td>\n",
              "      <td>2131.00</td>\n",
              "      <td>2131.00</td>\n",
              "      <td>2131.00</td>\n",
              "      <td>2131.00</td>\n",
              "      <td>2131.0</td>\n",
              "      <td>2131.00</td>\n",
              "      <td>2131.00</td>\n",
              "      <td>2131.00</td>\n",
              "      <td>2131.00</td>\n",
              "      <td>2131.00</td>\n",
              "      <td>2131.00</td>\n",
              "      <td>2131.00</td>\n",
              "      <td>2131.00</td>\n",
              "      <td>2131.00</td>\n",
              "      <td>2131.00</td>\n",
              "      <td>2131.00</td>\n",
              "      <td>2131.0</td>\n",
              "      <td>2131.0</td>\n",
              "      <td>2131.00</td>\n",
              "      <td>2131.00</td>\n",
              "      <td>2131.00</td>\n",
              "      <td>2131.00</td>\n",
              "      <td>2131.00</td>\n",
              "      <td>2131.00</td>\n",
              "      <td>2131.00</td>\n",
              "      <td>2131.00</td>\n",
              "      <td>2131.00</td>\n",
              "      <td>2131.00</td>\n",
              "      <td>2131.00</td>\n",
              "      <td>2131.00</td>\n",
              "      <td>2131.00</td>\n",
              "      <td>2131.0</td>\n",
              "    </tr>\n",
              "    <tr>\n",
              "      <th>mean</th>\n",
              "      <td>-0.05</td>\n",
              "      <td>0.01</td>\n",
              "      <td>-0.06</td>\n",
              "      <td>-0.01</td>\n",
              "      <td>0.00</td>\n",
              "      <td>0.00</td>\n",
              "      <td>0.00</td>\n",
              "      <td>0.0</td>\n",
              "      <td>0.0</td>\n",
              "      <td>0.00</td>\n",
              "      <td>0.00</td>\n",
              "      <td>0.00</td>\n",
              "      <td>0.00</td>\n",
              "      <td>0.0</td>\n",
              "      <td>0.00</td>\n",
              "      <td>0.0</td>\n",
              "      <td>0.00</td>\n",
              "      <td>0.00</td>\n",
              "      <td>0.0</td>\n",
              "      <td>0.00</td>\n",
              "      <td>0.0</td>\n",
              "      <td>0.0</td>\n",
              "      <td>0.0</td>\n",
              "      <td>0.00</td>\n",
              "      <td>0.00</td>\n",
              "      <td>0.00</td>\n",
              "      <td>0.00</td>\n",
              "      <td>0.0</td>\n",
              "      <td>0.00</td>\n",
              "      <td>0.0</td>\n",
              "      <td>0.00</td>\n",
              "      <td>0.00</td>\n",
              "      <td>0.00</td>\n",
              "      <td>0.00</td>\n",
              "      <td>0.0</td>\n",
              "      <td>0.0</td>\n",
              "      <td>0.00</td>\n",
              "      <td>0.00</td>\n",
              "      <td>0.0</td>\n",
              "      <td>0.00</td>\n",
              "      <td>...</td>\n",
              "      <td>0.00</td>\n",
              "      <td>0.65</td>\n",
              "      <td>0.35</td>\n",
              "      <td>0.08</td>\n",
              "      <td>0.04</td>\n",
              "      <td>0.01</td>\n",
              "      <td>0.08</td>\n",
              "      <td>0.08</td>\n",
              "      <td>0.11</td>\n",
              "      <td>0.13</td>\n",
              "      <td>0.02</td>\n",
              "      <td>0.06</td>\n",
              "      <td>0.1</td>\n",
              "      <td>0.06</td>\n",
              "      <td>0.02</td>\n",
              "      <td>0.01</td>\n",
              "      <td>0.14</td>\n",
              "      <td>0.05</td>\n",
              "      <td>0.01</td>\n",
              "      <td>0.07</td>\n",
              "      <td>0.11</td>\n",
              "      <td>0.11</td>\n",
              "      <td>0.11</td>\n",
              "      <td>0.07</td>\n",
              "      <td>0.1</td>\n",
              "      <td>0.1</td>\n",
              "      <td>0.11</td>\n",
              "      <td>0.11</td>\n",
              "      <td>0.12</td>\n",
              "      <td>0.11</td>\n",
              "      <td>0.32</td>\n",
              "      <td>0.28</td>\n",
              "      <td>0.28</td>\n",
              "      <td>0.30</td>\n",
              "      <td>0.32</td>\n",
              "      <td>0.38</td>\n",
              "      <td>0.13</td>\n",
              "      <td>0.66</td>\n",
              "      <td>0.11</td>\n",
              "      <td>0.1</td>\n",
              "    </tr>\n",
              "    <tr>\n",
              "      <th>std</th>\n",
              "      <td>1.01</td>\n",
              "      <td>1.04</td>\n",
              "      <td>0.98</td>\n",
              "      <td>0.99</td>\n",
              "      <td>0.03</td>\n",
              "      <td>0.03</td>\n",
              "      <td>0.03</td>\n",
              "      <td>0.0</td>\n",
              "      <td>0.0</td>\n",
              "      <td>0.03</td>\n",
              "      <td>0.02</td>\n",
              "      <td>0.04</td>\n",
              "      <td>0.03</td>\n",
              "      <td>0.0</td>\n",
              "      <td>0.03</td>\n",
              "      <td>0.0</td>\n",
              "      <td>0.03</td>\n",
              "      <td>0.02</td>\n",
              "      <td>0.0</td>\n",
              "      <td>0.04</td>\n",
              "      <td>0.0</td>\n",
              "      <td>0.0</td>\n",
              "      <td>0.0</td>\n",
              "      <td>0.02</td>\n",
              "      <td>0.02</td>\n",
              "      <td>0.02</td>\n",
              "      <td>0.02</td>\n",
              "      <td>0.0</td>\n",
              "      <td>0.05</td>\n",
              "      <td>0.0</td>\n",
              "      <td>0.04</td>\n",
              "      <td>0.04</td>\n",
              "      <td>0.02</td>\n",
              "      <td>0.04</td>\n",
              "      <td>0.0</td>\n",
              "      <td>0.0</td>\n",
              "      <td>0.02</td>\n",
              "      <td>0.03</td>\n",
              "      <td>0.0</td>\n",
              "      <td>0.03</td>\n",
              "      <td>...</td>\n",
              "      <td>0.04</td>\n",
              "      <td>0.48</td>\n",
              "      <td>0.48</td>\n",
              "      <td>0.27</td>\n",
              "      <td>0.19</td>\n",
              "      <td>0.11</td>\n",
              "      <td>0.27</td>\n",
              "      <td>0.27</td>\n",
              "      <td>0.31</td>\n",
              "      <td>0.34</td>\n",
              "      <td>0.14</td>\n",
              "      <td>0.24</td>\n",
              "      <td>0.3</td>\n",
              "      <td>0.23</td>\n",
              "      <td>0.13</td>\n",
              "      <td>0.10</td>\n",
              "      <td>0.34</td>\n",
              "      <td>0.23</td>\n",
              "      <td>0.11</td>\n",
              "      <td>0.25</td>\n",
              "      <td>0.32</td>\n",
              "      <td>0.31</td>\n",
              "      <td>0.31</td>\n",
              "      <td>0.25</td>\n",
              "      <td>0.3</td>\n",
              "      <td>0.3</td>\n",
              "      <td>0.31</td>\n",
              "      <td>0.31</td>\n",
              "      <td>0.32</td>\n",
              "      <td>0.32</td>\n",
              "      <td>0.47</td>\n",
              "      <td>0.45</td>\n",
              "      <td>0.45</td>\n",
              "      <td>0.46</td>\n",
              "      <td>0.47</td>\n",
              "      <td>0.49</td>\n",
              "      <td>0.34</td>\n",
              "      <td>0.47</td>\n",
              "      <td>0.31</td>\n",
              "      <td>0.3</td>\n",
              "    </tr>\n",
              "    <tr>\n",
              "      <th>min</th>\n",
              "      <td>-1.80</td>\n",
              "      <td>-1.29</td>\n",
              "      <td>-1.75</td>\n",
              "      <td>-1.53</td>\n",
              "      <td>0.00</td>\n",
              "      <td>0.00</td>\n",
              "      <td>0.00</td>\n",
              "      <td>0.0</td>\n",
              "      <td>0.0</td>\n",
              "      <td>0.00</td>\n",
              "      <td>0.00</td>\n",
              "      <td>0.00</td>\n",
              "      <td>0.00</td>\n",
              "      <td>0.0</td>\n",
              "      <td>0.00</td>\n",
              "      <td>0.0</td>\n",
              "      <td>0.00</td>\n",
              "      <td>0.00</td>\n",
              "      <td>0.0</td>\n",
              "      <td>0.00</td>\n",
              "      <td>0.0</td>\n",
              "      <td>0.0</td>\n",
              "      <td>0.0</td>\n",
              "      <td>0.00</td>\n",
              "      <td>0.00</td>\n",
              "      <td>0.00</td>\n",
              "      <td>0.00</td>\n",
              "      <td>0.0</td>\n",
              "      <td>0.00</td>\n",
              "      <td>0.0</td>\n",
              "      <td>0.00</td>\n",
              "      <td>0.00</td>\n",
              "      <td>0.00</td>\n",
              "      <td>0.00</td>\n",
              "      <td>0.0</td>\n",
              "      <td>0.0</td>\n",
              "      <td>0.00</td>\n",
              "      <td>0.00</td>\n",
              "      <td>0.0</td>\n",
              "      <td>0.00</td>\n",
              "      <td>...</td>\n",
              "      <td>0.00</td>\n",
              "      <td>0.00</td>\n",
              "      <td>0.00</td>\n",
              "      <td>0.00</td>\n",
              "      <td>0.00</td>\n",
              "      <td>0.00</td>\n",
              "      <td>0.00</td>\n",
              "      <td>0.00</td>\n",
              "      <td>0.00</td>\n",
              "      <td>0.00</td>\n",
              "      <td>0.00</td>\n",
              "      <td>0.00</td>\n",
              "      <td>0.0</td>\n",
              "      <td>0.00</td>\n",
              "      <td>0.00</td>\n",
              "      <td>0.00</td>\n",
              "      <td>0.00</td>\n",
              "      <td>0.00</td>\n",
              "      <td>0.00</td>\n",
              "      <td>0.00</td>\n",
              "      <td>0.00</td>\n",
              "      <td>0.00</td>\n",
              "      <td>0.00</td>\n",
              "      <td>0.00</td>\n",
              "      <td>0.0</td>\n",
              "      <td>0.0</td>\n",
              "      <td>0.00</td>\n",
              "      <td>0.00</td>\n",
              "      <td>0.00</td>\n",
              "      <td>0.00</td>\n",
              "      <td>0.00</td>\n",
              "      <td>0.00</td>\n",
              "      <td>0.00</td>\n",
              "      <td>0.00</td>\n",
              "      <td>0.00</td>\n",
              "      <td>0.00</td>\n",
              "      <td>0.00</td>\n",
              "      <td>0.00</td>\n",
              "      <td>0.00</td>\n",
              "      <td>0.0</td>\n",
              "    </tr>\n",
              "    <tr>\n",
              "      <th>25%</th>\n",
              "      <td>-0.97</td>\n",
              "      <td>-0.76</td>\n",
              "      <td>-0.78</td>\n",
              "      <td>-1.29</td>\n",
              "      <td>0.00</td>\n",
              "      <td>0.00</td>\n",
              "      <td>0.00</td>\n",
              "      <td>0.0</td>\n",
              "      <td>0.0</td>\n",
              "      <td>0.00</td>\n",
              "      <td>0.00</td>\n",
              "      <td>0.00</td>\n",
              "      <td>0.00</td>\n",
              "      <td>0.0</td>\n",
              "      <td>0.00</td>\n",
              "      <td>0.0</td>\n",
              "      <td>0.00</td>\n",
              "      <td>0.00</td>\n",
              "      <td>0.0</td>\n",
              "      <td>0.00</td>\n",
              "      <td>0.0</td>\n",
              "      <td>0.0</td>\n",
              "      <td>0.0</td>\n",
              "      <td>0.00</td>\n",
              "      <td>0.00</td>\n",
              "      <td>0.00</td>\n",
              "      <td>0.00</td>\n",
              "      <td>0.0</td>\n",
              "      <td>0.00</td>\n",
              "      <td>0.0</td>\n",
              "      <td>0.00</td>\n",
              "      <td>0.00</td>\n",
              "      <td>0.00</td>\n",
              "      <td>0.00</td>\n",
              "      <td>0.0</td>\n",
              "      <td>0.0</td>\n",
              "      <td>0.00</td>\n",
              "      <td>0.00</td>\n",
              "      <td>0.0</td>\n",
              "      <td>0.00</td>\n",
              "      <td>...</td>\n",
              "      <td>0.00</td>\n",
              "      <td>0.00</td>\n",
              "      <td>0.00</td>\n",
              "      <td>0.00</td>\n",
              "      <td>0.00</td>\n",
              "      <td>0.00</td>\n",
              "      <td>0.00</td>\n",
              "      <td>0.00</td>\n",
              "      <td>0.00</td>\n",
              "      <td>0.00</td>\n",
              "      <td>0.00</td>\n",
              "      <td>0.00</td>\n",
              "      <td>0.0</td>\n",
              "      <td>0.00</td>\n",
              "      <td>0.00</td>\n",
              "      <td>0.00</td>\n",
              "      <td>0.00</td>\n",
              "      <td>0.00</td>\n",
              "      <td>0.00</td>\n",
              "      <td>0.00</td>\n",
              "      <td>0.00</td>\n",
              "      <td>0.00</td>\n",
              "      <td>0.00</td>\n",
              "      <td>0.00</td>\n",
              "      <td>0.0</td>\n",
              "      <td>0.0</td>\n",
              "      <td>0.00</td>\n",
              "      <td>0.00</td>\n",
              "      <td>0.00</td>\n",
              "      <td>0.00</td>\n",
              "      <td>0.00</td>\n",
              "      <td>0.00</td>\n",
              "      <td>0.00</td>\n",
              "      <td>0.00</td>\n",
              "      <td>0.00</td>\n",
              "      <td>0.00</td>\n",
              "      <td>0.00</td>\n",
              "      <td>0.00</td>\n",
              "      <td>0.00</td>\n",
              "      <td>0.0</td>\n",
              "    </tr>\n",
              "    <tr>\n",
              "      <th>50%</th>\n",
              "      <td>-0.09</td>\n",
              "      <td>-0.24</td>\n",
              "      <td>-0.15</td>\n",
              "      <td>0.14</td>\n",
              "      <td>0.00</td>\n",
              "      <td>0.00</td>\n",
              "      <td>0.00</td>\n",
              "      <td>0.0</td>\n",
              "      <td>0.0</td>\n",
              "      <td>0.00</td>\n",
              "      <td>0.00</td>\n",
              "      <td>0.00</td>\n",
              "      <td>0.00</td>\n",
              "      <td>0.0</td>\n",
              "      <td>0.00</td>\n",
              "      <td>0.0</td>\n",
              "      <td>0.00</td>\n",
              "      <td>0.00</td>\n",
              "      <td>0.0</td>\n",
              "      <td>0.00</td>\n",
              "      <td>0.0</td>\n",
              "      <td>0.0</td>\n",
              "      <td>0.0</td>\n",
              "      <td>0.00</td>\n",
              "      <td>0.00</td>\n",
              "      <td>0.00</td>\n",
              "      <td>0.00</td>\n",
              "      <td>0.0</td>\n",
              "      <td>0.00</td>\n",
              "      <td>0.0</td>\n",
              "      <td>0.00</td>\n",
              "      <td>0.00</td>\n",
              "      <td>0.00</td>\n",
              "      <td>0.00</td>\n",
              "      <td>0.0</td>\n",
              "      <td>0.0</td>\n",
              "      <td>0.00</td>\n",
              "      <td>0.00</td>\n",
              "      <td>0.0</td>\n",
              "      <td>0.00</td>\n",
              "      <td>...</td>\n",
              "      <td>0.00</td>\n",
              "      <td>1.00</td>\n",
              "      <td>0.00</td>\n",
              "      <td>0.00</td>\n",
              "      <td>0.00</td>\n",
              "      <td>0.00</td>\n",
              "      <td>0.00</td>\n",
              "      <td>0.00</td>\n",
              "      <td>0.00</td>\n",
              "      <td>0.00</td>\n",
              "      <td>0.00</td>\n",
              "      <td>0.00</td>\n",
              "      <td>0.0</td>\n",
              "      <td>0.00</td>\n",
              "      <td>0.00</td>\n",
              "      <td>0.00</td>\n",
              "      <td>0.00</td>\n",
              "      <td>0.00</td>\n",
              "      <td>0.00</td>\n",
              "      <td>0.00</td>\n",
              "      <td>0.00</td>\n",
              "      <td>0.00</td>\n",
              "      <td>0.00</td>\n",
              "      <td>0.00</td>\n",
              "      <td>0.0</td>\n",
              "      <td>0.0</td>\n",
              "      <td>0.00</td>\n",
              "      <td>0.00</td>\n",
              "      <td>0.00</td>\n",
              "      <td>0.00</td>\n",
              "      <td>0.00</td>\n",
              "      <td>0.00</td>\n",
              "      <td>0.00</td>\n",
              "      <td>0.00</td>\n",
              "      <td>0.00</td>\n",
              "      <td>0.00</td>\n",
              "      <td>0.00</td>\n",
              "      <td>1.00</td>\n",
              "      <td>0.00</td>\n",
              "      <td>0.0</td>\n",
              "    </tr>\n",
              "    <tr>\n",
              "      <th>75%</th>\n",
              "      <td>0.81</td>\n",
              "      <td>0.56</td>\n",
              "      <td>0.64</td>\n",
              "      <td>0.73</td>\n",
              "      <td>0.00</td>\n",
              "      <td>0.00</td>\n",
              "      <td>0.00</td>\n",
              "      <td>0.0</td>\n",
              "      <td>0.0</td>\n",
              "      <td>0.00</td>\n",
              "      <td>0.00</td>\n",
              "      <td>0.00</td>\n",
              "      <td>0.00</td>\n",
              "      <td>0.0</td>\n",
              "      <td>0.00</td>\n",
              "      <td>0.0</td>\n",
              "      <td>0.00</td>\n",
              "      <td>0.00</td>\n",
              "      <td>0.0</td>\n",
              "      <td>0.00</td>\n",
              "      <td>0.0</td>\n",
              "      <td>0.0</td>\n",
              "      <td>0.0</td>\n",
              "      <td>0.00</td>\n",
              "      <td>0.00</td>\n",
              "      <td>0.00</td>\n",
              "      <td>0.00</td>\n",
              "      <td>0.0</td>\n",
              "      <td>0.00</td>\n",
              "      <td>0.0</td>\n",
              "      <td>0.00</td>\n",
              "      <td>0.00</td>\n",
              "      <td>0.00</td>\n",
              "      <td>0.00</td>\n",
              "      <td>0.0</td>\n",
              "      <td>0.0</td>\n",
              "      <td>0.00</td>\n",
              "      <td>0.00</td>\n",
              "      <td>0.0</td>\n",
              "      <td>0.00</td>\n",
              "      <td>...</td>\n",
              "      <td>0.00</td>\n",
              "      <td>1.00</td>\n",
              "      <td>1.00</td>\n",
              "      <td>0.00</td>\n",
              "      <td>0.00</td>\n",
              "      <td>0.00</td>\n",
              "      <td>0.00</td>\n",
              "      <td>0.00</td>\n",
              "      <td>0.00</td>\n",
              "      <td>0.00</td>\n",
              "      <td>0.00</td>\n",
              "      <td>0.00</td>\n",
              "      <td>0.0</td>\n",
              "      <td>0.00</td>\n",
              "      <td>0.00</td>\n",
              "      <td>0.00</td>\n",
              "      <td>0.00</td>\n",
              "      <td>0.00</td>\n",
              "      <td>0.00</td>\n",
              "      <td>0.00</td>\n",
              "      <td>0.00</td>\n",
              "      <td>0.00</td>\n",
              "      <td>0.00</td>\n",
              "      <td>0.00</td>\n",
              "      <td>0.0</td>\n",
              "      <td>0.0</td>\n",
              "      <td>0.00</td>\n",
              "      <td>0.00</td>\n",
              "      <td>0.00</td>\n",
              "      <td>0.00</td>\n",
              "      <td>1.00</td>\n",
              "      <td>1.00</td>\n",
              "      <td>1.00</td>\n",
              "      <td>1.00</td>\n",
              "      <td>1.00</td>\n",
              "      <td>1.00</td>\n",
              "      <td>0.00</td>\n",
              "      <td>1.00</td>\n",
              "      <td>0.00</td>\n",
              "      <td>0.0</td>\n",
              "    </tr>\n",
              "    <tr>\n",
              "      <th>max</th>\n",
              "      <td>1.82</td>\n",
              "      <td>4.79</td>\n",
              "      <td>1.99</td>\n",
              "      <td>1.33</td>\n",
              "      <td>1.00</td>\n",
              "      <td>1.00</td>\n",
              "      <td>1.00</td>\n",
              "      <td>0.0</td>\n",
              "      <td>0.0</td>\n",
              "      <td>1.00</td>\n",
              "      <td>1.00</td>\n",
              "      <td>1.00</td>\n",
              "      <td>1.00</td>\n",
              "      <td>0.0</td>\n",
              "      <td>1.00</td>\n",
              "      <td>0.0</td>\n",
              "      <td>1.00</td>\n",
              "      <td>1.00</td>\n",
              "      <td>0.0</td>\n",
              "      <td>1.00</td>\n",
              "      <td>0.0</td>\n",
              "      <td>0.0</td>\n",
              "      <td>0.0</td>\n",
              "      <td>1.00</td>\n",
              "      <td>1.00</td>\n",
              "      <td>1.00</td>\n",
              "      <td>1.00</td>\n",
              "      <td>0.0</td>\n",
              "      <td>1.00</td>\n",
              "      <td>0.0</td>\n",
              "      <td>1.00</td>\n",
              "      <td>1.00</td>\n",
              "      <td>1.00</td>\n",
              "      <td>1.00</td>\n",
              "      <td>0.0</td>\n",
              "      <td>0.0</td>\n",
              "      <td>1.00</td>\n",
              "      <td>1.00</td>\n",
              "      <td>0.0</td>\n",
              "      <td>1.00</td>\n",
              "      <td>...</td>\n",
              "      <td>1.00</td>\n",
              "      <td>1.00</td>\n",
              "      <td>1.00</td>\n",
              "      <td>1.00</td>\n",
              "      <td>1.00</td>\n",
              "      <td>1.00</td>\n",
              "      <td>1.00</td>\n",
              "      <td>1.00</td>\n",
              "      <td>1.00</td>\n",
              "      <td>1.00</td>\n",
              "      <td>1.00</td>\n",
              "      <td>1.00</td>\n",
              "      <td>1.0</td>\n",
              "      <td>1.00</td>\n",
              "      <td>1.00</td>\n",
              "      <td>1.00</td>\n",
              "      <td>1.00</td>\n",
              "      <td>1.00</td>\n",
              "      <td>1.00</td>\n",
              "      <td>1.00</td>\n",
              "      <td>1.00</td>\n",
              "      <td>1.00</td>\n",
              "      <td>1.00</td>\n",
              "      <td>1.00</td>\n",
              "      <td>1.0</td>\n",
              "      <td>1.0</td>\n",
              "      <td>1.00</td>\n",
              "      <td>1.00</td>\n",
              "      <td>1.00</td>\n",
              "      <td>1.00</td>\n",
              "      <td>1.00</td>\n",
              "      <td>1.00</td>\n",
              "      <td>1.00</td>\n",
              "      <td>1.00</td>\n",
              "      <td>1.00</td>\n",
              "      <td>1.00</td>\n",
              "      <td>1.00</td>\n",
              "      <td>1.00</td>\n",
              "      <td>1.00</td>\n",
              "      <td>1.0</td>\n",
              "    </tr>\n",
              "  </tbody>\n",
              "</table>\n",
              "<p>8 rows × 1593 columns</p>\n",
              "</div>\n",
              "      <button class=\"colab-df-convert\" onclick=\"convertToInteractive('df-fa02eef3-e45a-4bf8-9e55-1c13ec420338')\"\n",
              "              title=\"Convert this dataframe to an interactive table.\"\n",
              "              style=\"display:none;\">\n",
              "        \n",
              "  <svg xmlns=\"http://www.w3.org/2000/svg\" height=\"24px\"viewBox=\"0 0 24 24\"\n",
              "       width=\"24px\">\n",
              "    <path d=\"M0 0h24v24H0V0z\" fill=\"none\"/>\n",
              "    <path d=\"M18.56 5.44l.94 2.06.94-2.06 2.06-.94-2.06-.94-.94-2.06-.94 2.06-2.06.94zm-11 1L8.5 8.5l.94-2.06 2.06-.94-2.06-.94L8.5 2.5l-.94 2.06-2.06.94zm10 10l.94 2.06.94-2.06 2.06-.94-2.06-.94-.94-2.06-.94 2.06-2.06.94z\"/><path d=\"M17.41 7.96l-1.37-1.37c-.4-.4-.92-.59-1.43-.59-.52 0-1.04.2-1.43.59L10.3 9.45l-7.72 7.72c-.78.78-.78 2.05 0 2.83L4 21.41c.39.39.9.59 1.41.59.51 0 1.02-.2 1.41-.59l7.78-7.78 2.81-2.81c.8-.78.8-2.07 0-2.86zM5.41 20L4 18.59l7.72-7.72 1.47 1.35L5.41 20z\"/>\n",
              "  </svg>\n",
              "      </button>\n",
              "      \n",
              "  <style>\n",
              "    .colab-df-container {\n",
              "      display:flex;\n",
              "      flex-wrap:wrap;\n",
              "      gap: 12px;\n",
              "    }\n",
              "\n",
              "    .colab-df-convert {\n",
              "      background-color: #E8F0FE;\n",
              "      border: none;\n",
              "      border-radius: 50%;\n",
              "      cursor: pointer;\n",
              "      display: none;\n",
              "      fill: #1967D2;\n",
              "      height: 32px;\n",
              "      padding: 0 0 0 0;\n",
              "      width: 32px;\n",
              "    }\n",
              "\n",
              "    .colab-df-convert:hover {\n",
              "      background-color: #E2EBFA;\n",
              "      box-shadow: 0px 1px 2px rgba(60, 64, 67, 0.3), 0px 1px 3px 1px rgba(60, 64, 67, 0.15);\n",
              "      fill: #174EA6;\n",
              "    }\n",
              "\n",
              "    [theme=dark] .colab-df-convert {\n",
              "      background-color: #3B4455;\n",
              "      fill: #D2E3FC;\n",
              "    }\n",
              "\n",
              "    [theme=dark] .colab-df-convert:hover {\n",
              "      background-color: #434B5C;\n",
              "      box-shadow: 0px 1px 3px 1px rgba(0, 0, 0, 0.15);\n",
              "      filter: drop-shadow(0px 1px 2px rgba(0, 0, 0, 0.3));\n",
              "      fill: #FFFFFF;\n",
              "    }\n",
              "  </style>\n",
              "\n",
              "      <script>\n",
              "        const buttonEl =\n",
              "          document.querySelector('#df-fa02eef3-e45a-4bf8-9e55-1c13ec420338 button.colab-df-convert');\n",
              "        buttonEl.style.display =\n",
              "          google.colab.kernel.accessAllowed ? 'block' : 'none';\n",
              "\n",
              "        async function convertToInteractive(key) {\n",
              "          const element = document.querySelector('#df-fa02eef3-e45a-4bf8-9e55-1c13ec420338');\n",
              "          const dataTable =\n",
              "            await google.colab.kernel.invokeFunction('convertToInteractive',\n",
              "                                                     [key], {});\n",
              "          if (!dataTable) return;\n",
              "\n",
              "          const docLinkHtml = 'Like what you see? Visit the ' +\n",
              "            '<a target=\"_blank\" href=https://colab.research.google.com/notebooks/data_table.ipynb>data table notebook</a>'\n",
              "            + ' to learn more about interactive tables.';\n",
              "          element.innerHTML = '';\n",
              "          dataTable['output_type'] = 'display_data';\n",
              "          await google.colab.output.renderOutput(dataTable, element);\n",
              "          const docLink = document.createElement('div');\n",
              "          docLink.innerHTML = docLinkHtml;\n",
              "          element.appendChild(docLink);\n",
              "        }\n",
              "      </script>\n",
              "    </div>\n",
              "  </div>\n",
              "  "
            ],
            "text/plain": [
              "          0        1        2        3     ...     1589     1590     1591    1592\n",
              "count  2131.00  2131.00  2131.00  2131.00  ...  2131.00  2131.00  2131.00  2131.0\n",
              "mean     -0.05     0.01    -0.06    -0.01  ...     0.13     0.66     0.11     0.1\n",
              "std       1.01     1.04     0.98     0.99  ...     0.34     0.47     0.31     0.3\n",
              "min      -1.80    -1.29    -1.75    -1.53  ...     0.00     0.00     0.00     0.0\n",
              "25%      -0.97    -0.76    -0.78    -1.29  ...     0.00     0.00     0.00     0.0\n",
              "50%      -0.09    -0.24    -0.15     0.14  ...     0.00     1.00     0.00     0.0\n",
              "75%       0.81     0.56     0.64     0.73  ...     0.00     1.00     0.00     0.0\n",
              "max       1.82     4.79     1.99     1.33  ...     1.00     1.00     1.00     1.0\n",
              "\n",
              "[8 rows x 1593 columns]"
            ]
          },
          "metadata": {},
          "execution_count": 67
        }
      ]
    }
  ]
}